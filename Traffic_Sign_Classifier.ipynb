{
 "cells": [
  {
   "cell_type": "markdown",
   "metadata": {},
   "source": [
    "# Self-Driving Car Engineer Nanodegree\n",
    "\n",
    "## Deep Learning\n",
    "\n",
    "## Project: Build a Traffic Sign Recognition Classifier\n",
    "\n",
    "In this notebook, a template is provided for you to implement your functionality in stages, which is required to successfully complete this project. If additional code is required that cannot be included in the notebook, be sure that the Python code is successfully imported and included in your submission if necessary. \n",
    "\n",
    "> **Note**: Once you have completed all of the code implementations, you need to finalize your work by exporting the iPython Notebook as an HTML document. Before exporting the notebook to html, all of the code cells need to have been run so that reviewers can see the final implementation and output. You can then export the notebook by using the menu above and navigating to  \\n\",\n",
    "    \"**File -> Download as -> HTML (.html)**. Include the finished document along with this notebook as your submission. \n",
    "\n",
    "In addition to implementing code, there is a writeup to complete. The writeup should be completed in a separate file, which can be either a markdown file or a pdf document. There is a [write up template](https://github.com/udacity/CarND-Traffic-Sign-Classifier-Project/blob/master/writeup_template.md) that can be used to guide the writing process. Completing the code template and writeup template will cover all of the [rubric points](https://review.udacity.com/#!/rubrics/481/view) for this project.\n",
    "\n",
    "The [rubric](https://review.udacity.com/#!/rubrics/481/view) contains \"Stand Out Suggestions\" for enhancing the project beyond the minimum requirements. The stand out suggestions are optional. If you decide to pursue the \"stand out suggestions\", you can include the code in this Ipython notebook and also discuss the results in the writeup file.\n",
    "\n",
    "\n",
    ">**Note:** Code and Markdown cells can be executed using the **Shift + Enter** keyboard shortcut. In addition, Markdown cells can be edited by typically double-clicking the cell to enter edit mode."
   ]
  },
  {
   "cell_type": "markdown",
   "metadata": {},
   "source": [
    "---\n",
    "## Step 0: Load The Data"
   ]
  },
  {
   "cell_type": "code",
   "execution_count": 1,
   "metadata": {
    "collapsed": true
   },
   "outputs": [
    {
     "name": "stderr",
     "output_type": "stream",
     "text": [
      "Using TensorFlow backend.\n"
     ]
    },
    {
     "name": "stdout",
     "output_type": "stream",
     "text": [
      "    ClassId                                           SignName\n0         0                               Speed limit (20km/h)\n1         1                               Speed limit (30km/h)\n2         2                               Speed limit (50km/h)\n3         3                               Speed limit (60km/h)\n4         4                               Speed limit (70km/h)\n5         5                               Speed limit (80km/h)\n6         6                        End of speed limit (80km/h)\n7         7                              Speed limit (100km/h)\n8         8                              Speed limit (120km/h)\n9         9                                         No passing\n10       10       No passing for vehicles over 3.5 metric tons\n11       11              Right-of-way at the next intersection\n12       12                                      Priority road\n13       13                                              Yield\n14       14                                               Stop\n15       15                                        No vehicles\n16       16           Vehicles over 3.5 metric tons prohibited\n17       17                                           No entry\n18       18                                    General caution\n19       19                        Dangerous curve to the left\n20       20                       Dangerous curve to the right\n21       21                                       Double curve\n22       22                                         Bumpy road\n23       23                                      Slippery road\n24       24                          Road narrows on the right\n25       25                                          Road work\n26       26                                    Traffic signals\n27       27                                        Pedestrians\n28       28                                  Children crossing\n29       29                                  Bicycles crossing\n30       30                                 Beware of ice/snow\n31       31                              Wild animals crossing\n32       32                End of all speed and passing limits\n33       33                                   Turn right ahead\n34       34                                    Turn left ahead\n35       35                                         Ahead only\n36       36                               Go straight or right\n37       37                                Go straight or left\n38       38                                         Keep right\n39       39                                          Keep left\n40       40                               Roundabout mandatory\n41       41                                  End of no passing\n42       42  End of no passing by vehicles over 3.5 metric ...\n"
     ]
    },
    {
     "name": "stdout",
     "output_type": "stream",
     "text": [
      "y_train: \n[0 0 0 0 0 0 0 0 0 0 0 0 0 0 0 0 0 0 0 0 0 0 0 0 0 0 0 0 0 0 0 0 0 0 0 0 0\n 0 0 0 0 1 0]\ny_valid: \n[0 0 0 0 0 0 0 0 0 0 0 0 0 0 0 0 0 0 0 0 0 0 0 0 0 0 0 0 0 0 0 0 0 0 0 0 0\n 0 0 0 0 1 0]\ny_test: \n[0 0 0 0 0 0 0 0 0 0 0 0 0 1 0 0 0 0 0 0 0 0 0 0 0 0 0 0 0 0 0 0 0 0 0 0 0\n 0 0 0 0 0 0]\n"
     ]
    }
   ],
   "source": [
    "# Load pickled data\n",
    "% matplotlib inline\n",
    "import pickle\n",
    "import numpy as np\n",
    "from keras.utils import np_utils\n",
    "from tflearn.layers import one_hot_encoding\n",
    "import tensorflow as tf\n",
    "import pandas as pd\n",
    "\n",
    "# TODO: Fill this in based on where you saved the training and testing data\n",
    "\n",
    "training_file = \"/Users/patrickhentschel/Desktop/TrafficSign/train.p\"\n",
    "validation_file = \"/Users/patrickhentschel/Desktop/TrafficSign/valid.p\"\n",
    "testing_file = \"/Users/patrickhentschel/Desktop/TrafficSign/test.p\"\n",
    "\n",
    "with open(training_file, mode='rb') as f:\n",
    "    train = pickle.load(f)\n",
    "with open(validation_file, mode='rb') as f:\n",
    "    valid = pickle.load(f)\n",
    "with open(testing_file, mode='rb') as f:\n",
    "    test = pickle.load(f)\n",
    "\n",
    "csv = pd.read_csv(\"/Users/patrickhentschel/Desktop/TrafficSign/signnames.csv\")\n",
    "print(csv)\n",
    "y_labels = np.array(csv[\"SignName\"])\n",
    "\n",
    "from sklearn.preprocessing import LabelBinarizer\n",
    "\n",
    "encoder = LabelBinarizer()\n",
    "\n",
    "\n",
    "X_train, y_train = train['features'], train['labels']\n",
    "y_train = encoder.fit_transform(y_train)\n",
    "print(\"y_train: \")\n",
    "print(y_train[np.random.randint(0, 43)])\n",
    "X_valid, y_valid = valid['features'], valid['labels']\n",
    "y_valid = encoder.fit_transform(y_valid)\n",
    "print(\"y_valid: \")\n",
    "print(y_valid[np.random.randint(0, 43)])\n",
    "X_test, y_test = test['features'], test['labels']\n",
    "y_test = encoder.fit_transform(y_test)\n",
    "print(\"y_test: \")\n",
    "print(y_test[np.random.randint(0, 43)])"
   ]
  },
  {
   "cell_type": "markdown",
   "metadata": {},
   "source": [
    "---\n",
    "\n",
    "## Step 1: Dataset Summary & Exploration\n",
    "\n",
    "The pickled data is a dictionary with 4 key/value pairs:\n",
    "\n",
    "- `'features'` is a 4D array containing raw pixel data of the traffic sign images, (num examples, width, height, channels).\n",
    "- `'labels'` is a 1D array containing the label/class id of the traffic sign. The file `signnames.csv` contains id -> name mappings for each id.\n",
    "- `'sizes'` is a list containing tuples, (width, height) representing the original width and height the image.\n",
    "- `'coords'` is a list containing tuples, (x1, y1, x2, y2) representing coordinates of a bounding box around the sign in the image. **THESE COORDINATES ASSUME THE ORIGINAL IMAGE. THE PICKLED DATA CONTAINS RESIZED VERSIONS (32 by 32) OF THESE IMAGES**\n",
    "\n",
    "Complete the basic data summary below. Use python, numpy and/or pandas methods to calculate the data summary rather than hard coding the results. For example, the [pandas shape method](http://pandas.pydata.org/pandas-docs/stable/generated/pandas.DataFrame.shape.html) might be useful for calculating some of the summary results. "
   ]
  },
  {
   "cell_type": "markdown",
   "metadata": {},
   "source": [
    "### Provide a Basic Summary of the Data Set Using Python, Numpy and/or Pandas"
   ]
  },
  {
   "cell_type": "code",
   "execution_count": 2,
   "metadata": {},
   "outputs": [
    {
     "name": "stdout",
     "output_type": "stream",
     "text": [
      "Number of training examples = 34799\nNumber of testing examples = 12630\nNumber of validation examples = 4410\nImage data shape = (32, 32, 3)\nNumber of classes = 43\nDataType Y:  int64\n(34799, 43)  single item:  (43,)\n"
     ]
    }
   ],
   "source": [
    "n_train = len(np.array(X_train))\n",
    "\n",
    "n_validation = len(np.array(X_valid))\n",
    "\n",
    "n_test = len(np.array(X_test))\n",
    "\n",
    "image_shape = X_train[0].shape\n",
    "\n",
    "n_classes = len(pd.read_csv \\\n",
    "                    (\"/Users/patrickhentschel/PycharmProjects/CarND-Traffic-Sign-Classifier-Project/signnames.csv\"))\n",
    "\n",
    "print(\"Number of training examples =\", n_train)\n",
    "print(\"Number of testing examples =\", n_test)\n",
    "print(\"Number of validation examples =\", n_validation)\n",
    "print(\"Image data shape =\", image_shape)\n",
    "print(\"Number of classes =\", n_classes)\n",
    "print(\"DataType Y: \", y_valid[1].dtype)\n",
    "print(y_train.shape, \" single item: \", y_train[0].shape)\n"
   ]
  },
  {
   "cell_type": "markdown",
   "metadata": {},
   "source": [
    "### Include an exploratory visualization of the dataset"
   ]
  },
  {
   "cell_type": "markdown",
   "metadata": {},
   "source": [
    "Visualize the German Traffic Signs Dataset using the pickled file(s). This is open ended, suggestions include: plotting traffic sign images, plotting the count of each sign, etc. \n",
    "\n",
    "The [Matplotlib](http://matplotlib.org/) [examples](http://matplotlib.org/examples/index.html) and [gallery](http://matplotlib.org/gallery.html) pages are a great resource for doing visualizations in Python.\n",
    "\n",
    "**NOTE:** It's recommended you start with something simple first. If you wish to do more, come back to it after you've completed the rest of the sections. It can be interesting to look at the distribution of classes in the training, validation and test set. Is the distribution the same? Are there more examples of some classes than others?"
   ]
  },
  {
   "cell_type": "code",
   "execution_count": 3,
   "metadata": {},
   "outputs": [
    {
     "data": {
      "text/plain": [
       "<matplotlib.image.AxesImage at 0x131bf3e10>"
      ]
     },
     "execution_count": 3,
     "metadata": {},
     "output_type": "execute_result"
    },
    {
     "data": {
      "image/png": "[encoded data removed]",
      "text/plain": [
       "<matplotlib.figure.Figure at 0x13085f5f8>"
      ]
     },
     "metadata": {},
     "output_type": "display_data"
    }
   ],
   "source": [
    "### Data exploration visualization code goes here.\n",
    "### Feel free to use as many code cells as needed.\n",
    "import matplotlib.pyplot as plt\n",
    "import matplotlib.image as mpimg\n",
    "from PIL import Image\n",
    "\n",
    "img = Image.fromarray(X_train[np.random.randint(0, len(X_train))], \"RGB\")\n",
    "img.save(\"example.png\")\n",
    "img = mpimg.imread(\"example.png\")\n",
    "plt.imshow(img)\n"
   ]
  },
  {
   "cell_type": "markdown",
   "metadata": {},
   "source": [
    "----\n",
    "\n",
    "## Step 2: Design and Test a Model Architecture\n",
    "\n",
    "Design and implement a deep learning model that learns to recognize traffic signs. Train and test your model on the [German Traffic Sign Dataset](http://benchmark.ini.rub.de/?section=gtsrb&subsection=dataset).\n",
    "\n",
    "The LeNet-5 implementation shown in the [classroom](https://classroom.udacity.com/nanodegrees/nd013/parts/fbf77062-5703-404e-b60c-95b78b2f3f9e/modules/6df7ae49-c61c-4bb2-a23e-6527e69209ec/lessons/601ae704-1035-4287-8b11-e2c2716217ad/concepts/d4aca031-508f-4e0b-b493-e7b706120f81) at the end of the CNN lesson is a solid starting point. You'll have to change the number of classes and possibly the preprocessing, but aside from that it's plug and play! \n",
    "\n",
    "With the LeNet-5 solution from the lecture, you should expect a validation set accuracy of about 0.89. To meet specifications, the validation set accuracy will need to be at least 0.93. It is possible to get an even higher accuracy, but 0.93 is the minimum for a successful project submission. \n",
    "\n",
    "There are various aspects to consider when thinking about this problem:\n",
    "\n",
    "- Neural network architecture (is the network over or underfitting?)\n",
    "- Play around preprocessing techniques (normalization, rgb to grayscale, etc)\n",
    "- Number of examples per label (some have more than others).\n",
    "- Generate fake data.\n",
    "\n",
    "Here is an example of a [published baseline model on this problem](http://yann.lecun.com/exdb/publis/pdf/sermanet-ijcnn-11.pdf). It's not required to be familiar with the approach used in the paper but, it's good practice to try to read papers like these."
   ]
  },
  {
   "cell_type": "markdown",
   "metadata": {},
   "source": [
    "### Pre-process the Data Set (normalization, grayscale, etc.)"
   ]
  },
  {
   "cell_type": "markdown",
   "metadata": {},
   "source": [
    "Minimally, the image data should be normalized so that the data has mean zero and equal variance. For image data, `(pixel - 128)/ 128` is a quick way to approximately normalize the data and can be used in this project. \n",
    "\n",
    "Other pre-processing steps are optional. You can try different techniques to see if it improves performance. \n",
    "\n",
    "Use the code cell (or multiple code cells, if necessary) to implement the first step of your project."
   ]
  },
  {
   "cell_type": "code",
   "execution_count": 4,
   "metadata": {
    "collapsed": true
   },
   "outputs": [],
   "source": [
    "### Preprocess the data here. It is required to normalize the data. Other preprocessing steps could include \n",
    "### converting to grayscale, etc.\n",
    "\n",
    "X_train = (X_train / 255 - 0.5)\n",
    "X_test = (X_test / 255 - 0.5)\n",
    "X_valid = (X_valid / 255 - 0.5)\n"
   ]
  },
  {
   "cell_type": "markdown",
   "metadata": {},
   "source": [
    "### Model Architecture"
   ]
  },
  {
   "cell_type": "code",
   "execution_count": 5,
   "metadata": {},
   "outputs": [
    {
     "name": "stdout",
     "output_type": "stream",
     "text": [
      "(34799, 43)  = y_train\n(4410, 43)  = y_valid\n(34799, 32, 32, 3)  = X_Train\n(12630, 32, 32, 3)  = X_test\n(4410, 32, 32, 3)  = X_valid\n(34799, 43)  single item:  (43,)\n"
     ]
    }
   ],
   "source": [
    "print(y_train.shape, \" = y_train\")\n",
    "print(y_valid.shape, \" = y_valid\")\n",
    "print(X_train.shape, \" = X_Train\")\n",
    "print(X_test.shape, \" = X_test\")\n",
    "print(X_valid.shape, \" = X_valid\")\n",
    "print(y_train.shape, \" single item: \", y_train[0].shape)\n"
   ]
  },
  {
   "cell_type": "code",
   "execution_count": 6,
   "metadata": {
    "collapsed": true
   },
   "outputs": [],
   "source": [
    "# Error Calculation probably from CSV file - subtensor from y is single value e.g (20), but\n",
    "# y is defined as [None, 43]\n",
    "\n",
    "# Simple rgb2gray function\n",
    "# def rgb2gray(rgb):\n",
    "#    return np.dot(rgb[...,:3], [0.299, 0.587, 0.114])"
   ]
  },
  {
   "cell_type": "code",
   "execution_count": 7,
   "metadata": {},
   "outputs": [
    {
     "name": "stdout",
     "output_type": "stream",
     "text": [
      "---------------------------------\nRun id: 53VQNX\nLog directory: /tmp/tflearn_logs/\n"
     ]
    },
    {
     "name": "stdout",
     "output_type": "stream",
     "text": [
      "---------------------------------\nTraining samples: 12630\nValidation samples: 0\n--\n"
     ]
    },
    {
     "name": "stdout",
     "output_type": "stream",
     "text": [
      "Training Step: 1  | time: 0.224s\n\u001b[2K\r| Adam | epoch: 001 | loss: 0.00000 -- iter: 00020/12630\n"
     ]
    },
    {
     "name": "stdout",
     "output_type": "stream",
     "text": [
      "Training Step: 2  | total loss: \u001b[1m\u001b[32m3.38201\u001b[0m\u001b[0m | time: 0.281s\n\u001b[2K\r| Adam | epoch: 001 | loss: 3.38201 -- iter: 00040/12630\n"
     ]
    },
    {
     "name": "stdout",
     "output_type": "stream",
     "text": [
      "Training Step: 3  | total loss: \u001b[1m\u001b[32m3.67946\u001b[0m\u001b[0m | time: 0.337s\n\u001b[2K\r| Adam | epoch: 001 | loss: 3.67946 -- iter: 00060/12630\n"
     ]
    },
    {
     "name": "stdout",
     "output_type": "stream",
     "text": [
      "Training Step: 4  | total loss: \u001b[1m\u001b[32m3.70144\u001b[0m\u001b[0m | time: 0.394s\n\u001b[2K\r| Adam | epoch: 001 | loss: 3.70144 -- iter: 00080/12630\n"
     ]
    },
    {
     "name": "stdout",
     "output_type": "stream",
     "text": [
      "Training Step: 5  | total loss: \u001b[1m\u001b[32m3.97242\u001b[0m\u001b[0m | time: 0.451s\n\u001b[2K\r| Adam | epoch: 001 | loss: 3.97242 -- iter: 00100/12630\n"
     ]
    },
    {
     "name": "stdout",
     "output_type": "stream",
     "text": [
      "Training Step: 6  | total loss: \u001b[1m\u001b[32m4.17759\u001b[0m\u001b[0m | time: 0.507s\n\u001b[2K\r| Adam | epoch: 001 | loss: 4.17759 -- iter: 00120/12630\n"
     ]
    },
    {
     "name": "stdout",
     "output_type": "stream",
     "text": [
      "Training Step: 7  | total loss: \u001b[1m\u001b[32m4.24549\u001b[0m\u001b[0m | time: 0.564s\n\u001b[2K\r| Adam | epoch: 001 | loss: 4.24549 -- iter: 00140/12630\n"
     ]
    },
    {
     "name": "stdout",
     "output_type": "stream",
     "text": [
      "Training Step: 8  | total loss: \u001b[1m\u001b[32m3.99428\u001b[0m\u001b[0m | time: 0.618s\n\u001b[2K\r| Adam | epoch: 001 | loss: 3.99428 -- iter: 00160/12630\n"
     ]
    },
    {
     "name": "stdout",
     "output_type": "stream",
     "text": [
      "Training Step: 9  | total loss: \u001b[1m\u001b[32m3.98214\u001b[0m\u001b[0m | time: 0.669s\n\u001b[2K\r| Adam | epoch: 001 | loss: 3.98214 -- iter: 00180/12630\n"
     ]
    },
    {
     "name": "stdout",
     "output_type": "stream",
     "text": [
      "Training Step: 10  | total loss: \u001b[1m\u001b[32m4.01214\u001b[0m\u001b[0m | time: 0.719s\n\u001b[2K\r| Adam | epoch: 001 | loss: 4.01214 -- iter: 00200/12630\n"
     ]
    },
    {
     "name": "stdout",
     "output_type": "stream",
     "text": [
      "Training Step: 11  | total loss: \u001b[1m\u001b[32m3.91244\u001b[0m\u001b[0m | time: 0.771s\n\u001b[2K\r| Adam | epoch: 001 | loss: 3.91244 -- iter: 00220/12630\n"
     ]
    },
    {
     "name": "stdout",
     "output_type": "stream",
     "text": [
      "Training Step: 12  | total loss: \u001b[1m\u001b[32m4.16339\u001b[0m\u001b[0m | time: 0.823s\n\u001b[2K\r| Adam | epoch: 001 | loss: 4.16339 -- iter: 00240/12630\n"
     ]
    },
    {
     "name": "stdout",
     "output_type": "stream",
     "text": [
      "Training Step: 13  | total loss: \u001b[1m\u001b[32m3.88770\u001b[0m\u001b[0m | time: 0.873s\n\u001b[2K\r| Adam | epoch: 001 | loss: 3.88770 -- iter: 00260/12630\n"
     ]
    },
    {
     "name": "stdout",
     "output_type": "stream",
     "text": [
      "Training Step: 14  | total loss: \u001b[1m\u001b[32m3.90971\u001b[0m\u001b[0m | time: 0.924s\n\u001b[2K\r| Adam | epoch: 001 | loss: 3.90971 -- iter: 00280/12630\n"
     ]
    },
    {
     "name": "stdout",
     "output_type": "stream",
     "text": [
      "Training Step: 15  | total loss: \u001b[1m\u001b[32m3.94870\u001b[0m\u001b[0m | time: 0.972s\n\u001b[2K\r| Adam | epoch: 001 | loss: 3.94870 -- iter: 00300/12630\n"
     ]
    },
    {
     "name": "stdout",
     "output_type": "stream",
     "text": [
      "Training Step: 16  | total loss: \u001b[1m\u001b[32m3.92112\u001b[0m\u001b[0m | time: 1.018s\n\u001b[2K\r| Adam | epoch: 001 | loss: 3.92112 -- iter: 00320/12630\n"
     ]
    },
    {
     "name": "stdout",
     "output_type": "stream",
     "text": [
      "Training Step: 17  | total loss: \u001b[1m\u001b[32m3.91756\u001b[0m\u001b[0m | time: 1.067s\n\u001b[2K\r| Adam | epoch: 001 | loss: 3.91756 -- iter: 00340/12630\n"
     ]
    },
    {
     "name": "stdout",
     "output_type": "stream",
     "text": [
      "Training Step: 18  | total loss: \u001b[1m\u001b[32m3.92771\u001b[0m\u001b[0m | time: 1.114s\n\u001b[2K\r| Adam | epoch: 001 | loss: 3.92771 -- iter: 00360/12630\n"
     ]
    },
    {
     "name": "stdout",
     "output_type": "stream",
     "text": [
      "Training Step: 19  | total loss: \u001b[1m\u001b[32m3.89197\u001b[0m\u001b[0m | time: 1.166s\n\u001b[2K\r| Adam | epoch: 001 | loss: 3.89197 -- iter: 00380/12630\n"
     ]
    },
    {
     "name": "stdout",
     "output_type": "stream",
     "text": [
      "Training Step: 20  | total loss: \u001b[1m\u001b[32m4.01894\u001b[0m\u001b[0m | time: 1.214s\n\u001b[2K\r| Adam | epoch: 001 | loss: 4.01894 -- iter: 00400/12630\n"
     ]
    },
    {
     "name": "stdout",
     "output_type": "stream",
     "text": [
      "Training Step: 21  | total loss: \u001b[1m\u001b[32m3.93912\u001b[0m\u001b[0m | time: 1.262s\n\u001b[2K\r| Adam | epoch: 001 | loss: 3.93912 -- iter: 00420/12630\n"
     ]
    },
    {
     "name": "stdout",
     "output_type": "stream",
     "text": [
      "Training Step: 22  | total loss: \u001b[1m\u001b[32m3.90501\u001b[0m\u001b[0m | time: 1.310s\n\u001b[2K\r| Adam | epoch: 001 | loss: 3.90501 -- iter: 00440/12630\n"
     ]
    },
    {
     "name": "stdout",
     "output_type": "stream",
     "text": [
      "Training Step: 23  | total loss: \u001b[1m\u001b[32m3.98427\u001b[0m\u001b[0m | time: 1.373s\n\u001b[2K\r| Adam | epoch: 001 | loss: 3.98427 -- iter: 00460/12630\n"
     ]
    },
    {
     "name": "stdout",
     "output_type": "stream",
     "text": [
      "Training Step: 24  | total loss: \u001b[1m\u001b[32m4.06032\u001b[0m\u001b[0m | time: 1.421s\n\u001b[2K\r| Adam | epoch: 001 | loss: 4.06032 -- iter: 00480/12630\n"
     ]
    },
    {
     "name": "stdout",
     "output_type": "stream",
     "text": [
      "Training Step: 25  | total loss: \u001b[1m\u001b[32m3.98991\u001b[0m\u001b[0m | time: 1.468s\n\u001b[2K\r| Adam | epoch: 001 | loss: 3.98991 -- iter: 00500/12630\n"
     ]
    },
    {
     "name": "stdout",
     "output_type": "stream",
     "text": [
      "Training Step: 26  | total loss: \u001b[1m\u001b[32m3.87694\u001b[0m\u001b[0m | time: 1.515s\n\u001b[2K\r| Adam | epoch: 001 | loss: 3.87694 -- iter: 00520/12630\n"
     ]
    },
    {
     "name": "stdout",
     "output_type": "stream",
     "text": [
      "Training Step: 27  | total loss: \u001b[1m\u001b[32m3.82259\u001b[0m\u001b[0m | time: 1.561s\n\u001b[2K\r| Adam | epoch: 001 | loss: 3.82259 -- iter: 00540/12630\n"
     ]
    },
    {
     "name": "stdout",
     "output_type": "stream",
     "text": [
      "Training Step: 28  | total loss: \u001b[1m\u001b[32m3.96914\u001b[0m\u001b[0m | time: 1.607s\n\u001b[2K\r| Adam | epoch: 001 | loss: 3.96914 -- iter: 00560/12630\n"
     ]
    },
    {
     "name": "stdout",
     "output_type": "stream",
     "text": [
      "Training Step: 29  | total loss: \u001b[1m\u001b[32m3.93127\u001b[0m\u001b[0m | time: 1.652s\n\u001b[2K\r| Adam | epoch: 001 | loss: 3.93127 -- iter: 00580/12630\n"
     ]
    },
    {
     "name": "stdout",
     "output_type": "stream",
     "text": [
      "Training Step: 30  | total loss: \u001b[1m\u001b[32m4.10357\u001b[0m\u001b[0m | time: 1.698s\n\u001b[2K\r| Adam | epoch: 001 | loss: 4.10357 -- iter: 00600/12630\n"
     ]
    },
    {
     "name": "stdout",
     "output_type": "stream",
     "text": [
      "Training Step: 31  | total loss: \u001b[1m\u001b[32m4.20489\u001b[0m\u001b[0m | time: 1.745s\n\u001b[2K\r| Adam | epoch: 001 | loss: 4.20489 -- iter: 00620/12630\n"
     ]
    },
    {
     "name": "stdout",
     "output_type": "stream",
     "text": [
      "Training Step: 32  | total loss: \u001b[1m\u001b[32m4.21619\u001b[0m\u001b[0m | time: 1.791s\n\u001b[2K\r| Adam | epoch: 001 | loss: 4.21619 -- iter: 00640/12630\n"
     ]
    },
    {
     "name": "stdout",
     "output_type": "stream",
     "text": [
      "Training Step: 33  | total loss: \u001b[1m\u001b[32m4.11159\u001b[0m\u001b[0m | time: 1.838s\n\u001b[2K\r| Adam | epoch: 001 | loss: 4.11159 -- iter: 00660/12630\n"
     ]
    },
    {
     "name": "stdout",
     "output_type": "stream",
     "text": [
      "Training Step: 34  | total loss: \u001b[1m\u001b[32m4.03823\u001b[0m\u001b[0m | time: 1.886s\n\u001b[2K\r| Adam | epoch: 001 | loss: 4.03823 -- iter: 00680/12630\n"
     ]
    },
    {
     "name": "stdout",
     "output_type": "stream",
     "text": [
      "Training Step: 35  | total loss: \u001b[1m\u001b[32m3.94193\u001b[0m\u001b[0m | time: 1.933s\n\u001b[2K\r| Adam | epoch: 001 | loss: 3.94193 -- iter: 00700/12630\n"
     ]
    },
    {
     "name": "stdout",
     "output_type": "stream",
     "text": [
      "Training Step: 36  | total loss: \u001b[1m\u001b[32m3.89458\u001b[0m\u001b[0m | time: 1.980s\n\u001b[2K\r| Adam | epoch: 001 | loss: 3.89458 -- iter: 00720/12630\n"
     ]
    },
    {
     "name": "stdout",
     "output_type": "stream",
     "text": [
      "Training Step: 37  | total loss: \u001b[1m\u001b[32m3.99992\u001b[0m\u001b[0m | time: 2.026s\n\u001b[2K\r| Adam | epoch: 001 | loss: 3.99992 -- iter: 00740/12630\n"
     ]
    },
    {
     "name": "stdout",
     "output_type": "stream",
     "text": [
      "Training Step: 38  | total loss: \u001b[1m\u001b[32m4.04617\u001b[0m\u001b[0m | time: 2.081s\n\u001b[2K\r| Adam | epoch: 001 | loss: 4.04617 -- iter: 00760/12630\n"
     ]
    },
    {
     "name": "stdout",
     "output_type": "stream",
     "text": [
      "Training Step: 39  | total loss: \u001b[1m\u001b[32m4.03106\u001b[0m\u001b[0m | time: 2.142s\n\u001b[2K\r| Adam | epoch: 001 | loss: 4.03106 -- iter: 00780/12630\n"
     ]
    },
    {
     "name": "stdout",
     "output_type": "stream",
     "text": [
      "Training Step: 40  | total loss: \u001b[1m\u001b[32m3.91256\u001b[0m\u001b[0m | time: 2.200s\n\u001b[2K\r| Adam | epoch: 001 | loss: 3.91256 -- iter: 00800/12630\n"
     ]
    },
    {
     "name": "stdout",
     "output_type": "stream",
     "text": [
      "Training Step: 41  | total loss: \u001b[1m\u001b[32m3.95315\u001b[0m\u001b[0m | time: 2.259s\n\u001b[2K\r| Adam | epoch: 001 | loss: 3.95315 -- iter: 00820/12630\n"
     ]
    },
    {
     "name": "stdout",
     "output_type": "stream",
     "text": [
      "Training Step: 42  | total loss: \u001b[1m\u001b[32m4.02369\u001b[0m\u001b[0m | time: 2.318s\n\u001b[2K\r| Adam | epoch: 001 | loss: 4.02369 -- iter: 00840/12630\n"
     ]
    },
    {
     "name": "stdout",
     "output_type": "stream",
     "text": [
      "Training Step: 43  | total loss: \u001b[1m\u001b[32m3.90447\u001b[0m\u001b[0m | time: 2.377s\n\u001b[2K\r| Adam | epoch: 001 | loss: 3.90447 -- iter: 00860/12630\n"
     ]
    },
    {
     "name": "stdout",
     "output_type": "stream",
     "text": [
      "Training Step: 44  | total loss: \u001b[1m\u001b[32m3.95381\u001b[0m\u001b[0m | time: 2.433s\n\u001b[2K\r| Adam | epoch: 001 | loss: 3.95381 -- iter: 00880/12630\n"
     ]
    },
    {
     "name": "stdout",
     "output_type": "stream",
     "text": [
      "Training Step: 45  | total loss: \u001b[1m\u001b[32m4.03220\u001b[0m\u001b[0m | time: 2.492s\n\u001b[2K\r| Adam | epoch: 001 | loss: 4.03220 -- iter: 00900/12630\n"
     ]
    },
    {
     "name": "stdout",
     "output_type": "stream",
     "text": [
      "Training Step: 46  | total loss: \u001b[1m\u001b[32m4.07480\u001b[0m\u001b[0m | time: 2.543s\n\u001b[2K\r| Adam | epoch: 001 | loss: 4.07480 -- iter: 00920/12630\n"
     ]
    },
    {
     "name": "stdout",
     "output_type": "stream",
     "text": [
      "Training Step: 47  | total loss: \u001b[1m\u001b[32m3.98177\u001b[0m\u001b[0m | time: 2.592s\n\u001b[2K\r| Adam | epoch: 001 | loss: 3.98177 -- iter: 00940/12630\n"
     ]
    },
    {
     "name": "stdout",
     "output_type": "stream",
     "text": [
      "Training Step: 48  | total loss: \u001b[1m\u001b[32m4.04303\u001b[0m\u001b[0m | time: 2.642s\n\u001b[2K\r| Adam | epoch: 001 | loss: 4.04303 -- iter: 00960/12630\n"
     ]
    },
    {
     "name": "stdout",
     "output_type": "stream",
     "text": [
      "Training Step: 49  | total loss: \u001b[1m\u001b[32m4.14891\u001b[0m\u001b[0m | time: 2.688s\n\u001b[2K\r| Adam | epoch: 001 | loss: 4.14891 -- iter: 00980/12630\n"
     ]
    },
    {
     "name": "stdout",
     "output_type": "stream",
     "text": [
      "Training Step: 50  | total loss: \u001b[1m\u001b[32m4.08666\u001b[0m\u001b[0m | time: 2.738s\n\u001b[2K\r| Adam | epoch: 001 | loss: 4.08666 -- iter: 01000/12630\n"
     ]
    },
    {
     "name": "stdout",
     "output_type": "stream",
     "text": [
      "Training Step: 51  | total loss: \u001b[1m\u001b[32m4.04834\u001b[0m\u001b[0m | time: 2.783s\n\u001b[2K\r| Adam | epoch: 001 | loss: 4.04834 -- iter: 01020/12630\n"
     ]
    },
    {
     "name": "stdout",
     "output_type": "stream",
     "text": [
      "Training Step: 52  | total loss: \u001b[1m\u001b[32m4.10478\u001b[0m\u001b[0m | time: 2.833s\n\u001b[2K\r| Adam | epoch: 001 | loss: 4.10478 -- iter: 01040/12630\n"
     ]
    },
    {
     "name": "stdout",
     "output_type": "stream",
     "text": [
      "Training Step: 53  | total loss: \u001b[1m\u001b[32m4.09223\u001b[0m\u001b[0m | time: 2.882s\n\u001b[2K\r| Adam | epoch: 001 | loss: 4.09223 -- iter: 01060/12630\n"
     ]
    },
    {
     "name": "stdout",
     "output_type": "stream",
     "text": [
      "Training Step: 54  | total loss: \u001b[1m\u001b[32m4.04059\u001b[0m\u001b[0m | time: 2.929s\n\u001b[2K\r| Adam | epoch: 001 | loss: 4.04059 -- iter: 01080/12630\n"
     ]
    },
    {
     "name": "stdout",
     "output_type": "stream",
     "text": [
      "Training Step: 55  | total loss: \u001b[1m\u001b[32m4.02456\u001b[0m\u001b[0m | time: 2.975s\n\u001b[2K\r| Adam | epoch: 001 | loss: 4.02456 -- iter: 01100/12630\n"
     ]
    },
    {
     "name": "stdout",
     "output_type": "stream",
     "text": [
      "Training Step: 56  | total loss: \u001b[1m\u001b[32m4.08734\u001b[0m\u001b[0m | time: 3.023s\n\u001b[2K\r| Adam | epoch: 001 | loss: 4.08734 -- iter: 01120/12630\n"
     ]
    },
    {
     "name": "stdout",
     "output_type": "stream",
     "text": [
      "Training Step: 57  | total loss: \u001b[1m\u001b[32m4.04517\u001b[0m\u001b[0m | time: 3.071s\n\u001b[2K\r| Adam | epoch: 001 | loss: 4.04517 -- iter: 01140/12630\n"
     ]
    },
    {
     "name": "stdout",
     "output_type": "stream",
     "text": [
      "Training Step: 58  | total loss: \u001b[1m\u001b[32m4.07754\u001b[0m\u001b[0m | time: 3.119s\n\u001b[2K\r| Adam | epoch: 001 | loss: 4.07754 -- iter: 01160/12630\n"
     ]
    },
    {
     "name": "stdout",
     "output_type": "stream",
     "text": [
      "Training Step: 59  | total loss: \u001b[1m\u001b[32m4.08785\u001b[0m\u001b[0m | time: 3.166s\n\u001b[2K\r| Adam | epoch: 001 | loss: 4.08785 -- iter: 01180/12630\n"
     ]
    },
    {
     "name": "stdout",
     "output_type": "stream",
     "text": [
      "Training Step: 60  | total loss: \u001b[1m\u001b[32m4.08078\u001b[0m\u001b[0m | time: 3.215s\n\u001b[2K\r| Adam | epoch: 001 | loss: 4.08078 -- iter: 01200/12630\n"
     ]
    },
    {
     "name": "stdout",
     "output_type": "stream",
     "text": [
      "Training Step: 61  | total loss: \u001b[1m\u001b[32m4.06820\u001b[0m\u001b[0m | time: 3.264s\n\u001b[2K\r| Adam | epoch: 001 | loss: 4.06820 -- iter: 01220/12630\n"
     ]
    },
    {
     "name": "stdout",
     "output_type": "stream",
     "text": [
      "Training Step: 62  | total loss: \u001b[1m\u001b[32m4.08872\u001b[0m\u001b[0m | time: 3.313s\n\u001b[2K\r| Adam | epoch: 001 | loss: 4.08872 -- iter: 01240/12630\n"
     ]
    },
    {
     "name": "stdout",
     "output_type": "stream",
     "text": [
      "Training Step: 63  | total loss: \u001b[1m\u001b[32m4.07615\u001b[0m\u001b[0m | time: 3.361s\n\u001b[2K\r| Adam | epoch: 001 | loss: 4.07615 -- iter: 01260/12630\n"
     ]
    },
    {
     "name": "stdout",
     "output_type": "stream",
     "text": [
      "Training Step: 64  | total loss: \u001b[1m\u001b[32m4.10947\u001b[0m\u001b[0m | time: 3.408s\n\u001b[2K\r| Adam | epoch: 001 | loss: 4.10947 -- iter: 01280/12630\n"
     ]
    },
    {
     "name": "stdout",
     "output_type": "stream",
     "text": [
      "Training Step: 65  | total loss: \u001b[1m\u001b[32m4.08860\u001b[0m\u001b[0m | time: 3.456s\n\u001b[2K\r| Adam | epoch: 001 | loss: 4.08860 -- iter: 01300/12630\n"
     ]
    },
    {
     "name": "stdout",
     "output_type": "stream",
     "text": [
      "Training Step: 66  | total loss: \u001b[1m\u001b[32m4.06356\u001b[0m\u001b[0m | time: 3.503s\n\u001b[2K\r| Adam | epoch: 001 | loss: 4.06356 -- iter: 01320/12630\n"
     ]
    },
    {
     "name": "stdout",
     "output_type": "stream",
     "text": [
      "Training Step: 67  | total loss: \u001b[1m\u001b[32m4.02751\u001b[0m\u001b[0m | time: 3.552s\n\u001b[2K\r| Adam | epoch: 001 | loss: 4.02751 -- iter: 01340/12630\n"
     ]
    },
    {
     "name": "stdout",
     "output_type": "stream",
     "text": [
      "Training Step: 68  | total loss: \u001b[1m\u001b[32m4.03247\u001b[0m\u001b[0m | time: 3.600s\n\u001b[2K\r| Adam | epoch: 001 | loss: 4.03247 -- iter: 01360/12630\n"
     ]
    },
    {
     "name": "stdout",
     "output_type": "stream",
     "text": [
      "Training Step: 69  | total loss: \u001b[1m\u001b[32m4.02063\u001b[0m\u001b[0m | time: 3.647s\n\u001b[2K\r| Adam | epoch: 001 | loss: 4.02063 -- iter: 01380/12630\n"
     ]
    },
    {
     "name": "stdout",
     "output_type": "stream",
     "text": [
      "Training Step: 70  | total loss: \u001b[1m\u001b[32m4.03568\u001b[0m\u001b[0m | time: 3.695s\n\u001b[2K\r| Adam | epoch: 001 | loss: 4.03568 -- iter: 01400/12630\n"
     ]
    },
    {
     "name": "stdout",
     "output_type": "stream",
     "text": [
      "Training Step: 71  | total loss: \u001b[1m\u001b[32m4.04037\u001b[0m\u001b[0m | time: 3.750s\n\u001b[2K\r| Adam | epoch: 001 | loss: 4.04037 -- iter: 01420/12630\n"
     ]
    },
    {
     "name": "stdout",
     "output_type": "stream",
     "text": [
      "Training Step: 72  | total loss: \u001b[1m\u001b[32m4.02802\u001b[0m\u001b[0m | time: 3.798s\n\u001b[2K\r| Adam | epoch: 001 | loss: 4.02802 -- iter: 01440/12630\n"
     ]
    },
    {
     "name": "stdout",
     "output_type": "stream",
     "text": [
      "Training Step: 73  | total loss: \u001b[1m\u001b[32m4.05556\u001b[0m\u001b[0m | time: 3.846s\n\u001b[2K\r| Adam | epoch: 001 | loss: 4.05556 -- iter: 01460/12630\n"
     ]
    },
    {
     "name": "stdout",
     "output_type": "stream",
     "text": [
      "Training Step: 74  | total loss: \u001b[1m\u001b[32m4.06788\u001b[0m\u001b[0m | time: 3.894s\n\u001b[2K\r| Adam | epoch: 001 | loss: 4.06788 -- iter: 01480/12630\n"
     ]
    },
    {
     "name": "stdout",
     "output_type": "stream",
     "text": [
      "Training Step: 75  | total loss: \u001b[1m\u001b[32m4.01650\u001b[0m\u001b[0m | time: 3.943s\n\u001b[2K\r| Adam | epoch: 001 | loss: 4.01650 -- iter: 01500/12630\n"
     ]
    },
    {
     "name": "stdout",
     "output_type": "stream",
     "text": [
      "Training Step: 76  | total loss: \u001b[1m\u001b[32m3.97256\u001b[0m\u001b[0m | time: 3.991s\n\u001b[2K\r| Adam | epoch: 001 | loss: 3.97256 -- iter: 01520/12630\n"
     ]
    },
    {
     "name": "stdout",
     "output_type": "stream",
     "text": [
      "Training Step: 77  | total loss: \u001b[1m\u001b[32m3.99149\u001b[0m\u001b[0m | time: 4.040s\n\u001b[2K\r| Adam | epoch: 001 | loss: 3.99149 -- iter: 01540/12630\n"
     ]
    },
    {
     "name": "stdout",
     "output_type": "stream",
     "text": [
      "Training Step: 78  | total loss: \u001b[1m\u001b[32m3.97471\u001b[0m\u001b[0m | time: 4.088s\n\u001b[2K\r| Adam | epoch: 001 | loss: 3.97471 -- iter: 01560/12630\n"
     ]
    },
    {
     "name": "stdout",
     "output_type": "stream",
     "text": [
      "Training Step: 79  | total loss: \u001b[1m\u001b[32m4.05016\u001b[0m\u001b[0m | time: 4.137s\n\u001b[2K\r| Adam | epoch: 001 | loss: 4.05016 -- iter: 01580/12630\n"
     ]
    },
    {
     "name": "stdout",
     "output_type": "stream",
     "text": [
      "Training Step: 80  | total loss: \u001b[1m\u001b[32m4.07431\u001b[0m\u001b[0m | time: 4.185s\n\u001b[2K\r| Adam | epoch: 001 | loss: 4.07431 -- iter: 01600/12630\n"
     ]
    },
    {
     "name": "stdout",
     "output_type": "stream",
     "text": [
      "Training Step: 81  | total loss: \u001b[1m\u001b[32m4.08836\u001b[0m\u001b[0m | time: 4.234s\n\u001b[2K\r| Adam | epoch: 001 | loss: 4.08836 -- iter: 01620/12630\n"
     ]
    },
    {
     "name": "stdout",
     "output_type": "stream",
     "text": [
      "Training Step: 82  | total loss: \u001b[1m\u001b[32m4.10428\u001b[0m\u001b[0m | time: 4.281s\n\u001b[2K\r| Adam | epoch: 001 | loss: 4.10428 -- iter: 01640/12630\n"
     ]
    },
    {
     "name": "stdout",
     "output_type": "stream",
     "text": [
      "Training Step: 83  | total loss: \u001b[1m\u001b[32m4.15577\u001b[0m\u001b[0m | time: 4.330s\n\u001b[2K\r| Adam | epoch: 001 | loss: 4.15577 -- iter: 01660/12630\n"
     ]
    },
    {
     "name": "stdout",
     "output_type": "stream",
     "text": [
      "Training Step: 84  | total loss: \u001b[1m\u001b[32m4.17128\u001b[0m\u001b[0m | time: 4.379s\n\u001b[2K\r| Adam | epoch: 001 | loss: 4.17128 -- iter: 01680/12630\n"
     ]
    },
    {
     "name": "stdout",
     "output_type": "stream",
     "text": [
      "Training Step: 85  | total loss: \u001b[1m\u001b[32m4.18187\u001b[0m\u001b[0m | time: 4.428s\n\u001b[2K\r| Adam | epoch: 001 | loss: 4.18187 -- iter: 01700/12630\n"
     ]
    },
    {
     "name": "stdout",
     "output_type": "stream",
     "text": [
      "Training Step: 86  | total loss: \u001b[1m\u001b[32m4.14287\u001b[0m\u001b[0m | time: 4.477s\n\u001b[2K\r| Adam | epoch: 001 | loss: 4.14287 -- iter: 01720/12630\n"
     ]
    },
    {
     "name": "stdout",
     "output_type": "stream",
     "text": [
      "Training Step: 87  | total loss: \u001b[1m\u001b[32m4.16834\u001b[0m\u001b[0m | time: 4.526s\n\u001b[2K\r| Adam | epoch: 001 | loss: 4.16834 -- iter: 01740/12630\n"
     ]
    },
    {
     "name": "stdout",
     "output_type": "stream",
     "text": [
      "Training Step: 88  | total loss: \u001b[1m\u001b[32m4.14477\u001b[0m\u001b[0m | time: 4.575s\n\u001b[2K\r| Adam | epoch: 001 | loss: 4.14477 -- iter: 01760/12630\n"
     ]
    },
    {
     "name": "stdout",
     "output_type": "stream",
     "text": [
      "Training Step: 89  | total loss: \u001b[1m\u001b[32m4.21370\u001b[0m\u001b[0m | time: 4.624s\n\u001b[2K\r| Adam | epoch: 001 | loss: 4.21370 -- iter: 01780/12630\n"
     ]
    },
    {
     "name": "stdout",
     "output_type": "stream",
     "text": [
      "Training Step: 90  | total loss: \u001b[1m\u001b[32m4.18294\u001b[0m\u001b[0m | time: 4.673s\n\u001b[2K\r| Adam | epoch: 001 | loss: 4.18294 -- iter: 01800/12630\n"
     ]
    },
    {
     "name": "stdout",
     "output_type": "stream",
     "text": [
      "Training Step: 91  | total loss: \u001b[1m\u001b[32m4.19920\u001b[0m\u001b[0m | time: 4.723s\n\u001b[2K\r| Adam | epoch: 001 | loss: 4.19920 -- iter: 01820/12630\n"
     ]
    },
    {
     "name": "stdout",
     "output_type": "stream",
     "text": [
      "Training Step: 92  | total loss: \u001b[1m\u001b[32m4.16184\u001b[0m\u001b[0m | time: 4.772s\n\u001b[2K\r| Adam | epoch: 001 | loss: 4.16184 -- iter: 01840/12630\n"
     ]
    },
    {
     "name": "stdout",
     "output_type": "stream",
     "text": [
      "Training Step: 93  | total loss: \u001b[1m\u001b[32m4.15679\u001b[0m\u001b[0m | time: 4.821s\n\u001b[2K\r| Adam | epoch: 001 | loss: 4.15679 -- iter: 01860/12630\n"
     ]
    },
    {
     "name": "stdout",
     "output_type": "stream",
     "text": [
      "Training Step: 94  | total loss: \u001b[1m\u001b[32m4.17545\u001b[0m\u001b[0m | time: 4.870s\n\u001b[2K\r| Adam | epoch: 001 | loss: 4.17545 -- iter: 01880/12630\n"
     ]
    },
    {
     "name": "stdout",
     "output_type": "stream",
     "text": [
      "Training Step: 95  | total loss: \u001b[1m\u001b[32m4.17999\u001b[0m\u001b[0m | time: 4.919s\n\u001b[2K\r| Adam | epoch: 001 | loss: 4.17999 -- iter: 01900/12630\n"
     ]
    },
    {
     "name": "stdout",
     "output_type": "stream",
     "text": [
      "Training Step: 96  | total loss: \u001b[1m\u001b[32m4.16792\u001b[0m\u001b[0m | time: 4.968s\n\u001b[2K\r| Adam | epoch: 001 | loss: 4.16792 -- iter: 01920/12630\n"
     ]
    },
    {
     "name": "stdout",
     "output_type": "stream",
     "text": [
      "Training Step: 97  | total loss: \u001b[1m\u001b[32m4.16735\u001b[0m\u001b[0m | time: 5.019s\n\u001b[2K\r| Adam | epoch: 001 | loss: 4.16735 -- iter: 01940/12630\n"
     ]
    },
    {
     "name": "stdout",
     "output_type": "stream",
     "text": [
      "Training Step: 98  | total loss: \u001b[1m\u001b[32m4.22185\u001b[0m\u001b[0m | time: 5.069s\n\u001b[2K\r| Adam | epoch: 001 | loss: 4.22185 -- iter: 01960/12630\n"
     ]
    },
    {
     "name": "stdout",
     "output_type": "stream",
     "text": [
      "Training Step: 99  | total loss: \u001b[1m\u001b[32m4.21466\u001b[0m\u001b[0m | time: 5.126s\n\u001b[2K\r| Adam | epoch: 001 | loss: 4.21466 -- iter: 01980/12630\n"
     ]
    },
    {
     "name": "stdout",
     "output_type": "stream",
     "text": [
      "Training Step: 100  | total loss: \u001b[1m\u001b[32m4.16789\u001b[0m\u001b[0m | time: 5.176s\n\u001b[2K\r| Adam | epoch: 001 | loss: 4.16789 -- iter: 02000/12630\n"
     ]
    },
    {
     "name": "stdout",
     "output_type": "stream",
     "text": [
      "Training Step: 101  | total loss: \u001b[1m\u001b[32m4.19153\u001b[0m\u001b[0m | time: 5.226s\n\u001b[2K\r| Adam | epoch: 001 | loss: 4.19153 -- iter: 02020/12630\n"
     ]
    },
    {
     "name": "stdout",
     "output_type": "stream",
     "text": [
      "Training Step: 102  | total loss: \u001b[1m\u001b[32m4.09487\u001b[0m\u001b[0m | time: 5.276s\n\u001b[2K\r| Adam | epoch: 001 | loss: 4.09487 -- iter: 02040/12630\n"
     ]
    },
    {
     "name": "stdout",
     "output_type": "stream",
     "text": [
      "Training Step: 103  | total loss: \u001b[1m\u001b[32m4.12599\u001b[0m\u001b[0m | time: 5.324s\n\u001b[2K\r| Adam | epoch: 001 | loss: 4.12599 -- iter: 02060/12630\n"
     ]
    },
    {
     "name": "stdout",
     "output_type": "stream",
     "text": [
      "Training Step: 104  | total loss: \u001b[1m\u001b[32m4.10992\u001b[0m\u001b[0m | time: 5.375s\n\u001b[2K\r| Adam | epoch: 001 | loss: 4.10992 -- iter: 02080/12630\n"
     ]
    },
    {
     "name": "stdout",
     "output_type": "stream",
     "text": [
      "Training Step: 105  | total loss: \u001b[1m\u001b[32m4.12224\u001b[0m\u001b[0m | time: 5.425s\n\u001b[2K\r| Adam | epoch: 001 | loss: 4.12224 -- iter: 02100/12630\n"
     ]
    },
    {
     "name": "stdout",
     "output_type": "stream",
     "text": [
      "Training Step: 106  | total loss: \u001b[1m\u001b[32m4.12687\u001b[0m\u001b[0m | time: 5.474s\n\u001b[2K\r| Adam | epoch: 001 | loss: 4.12687 -- iter: 02120/12630\n"
     ]
    },
    {
     "name": "stdout",
     "output_type": "stream",
     "text": [
      "Training Step: 107  | total loss: \u001b[1m\u001b[32m4.09386\u001b[0m\u001b[0m | time: 5.522s\n\u001b[2K\r| Adam | epoch: 001 | loss: 4.09386 -- iter: 02140/12630\n"
     ]
    },
    {
     "name": "stdout",
     "output_type": "stream",
     "text": [
      "Training Step: 108  | total loss: \u001b[1m\u001b[32m4.16720\u001b[0m\u001b[0m | time: 5.570s\n\u001b[2K\r| Adam | epoch: 001 | loss: 4.16720 -- iter: 02160/12630\n"
     ]
    },
    {
     "name": "stdout",
     "output_type": "stream",
     "text": [
      "Training Step: 109  | total loss: \u001b[1m\u001b[32m4.18369\u001b[0m\u001b[0m | time: 5.621s\n\u001b[2K\r| Adam | epoch: 001 | loss: 4.18369 -- iter: 02180/12630\n"
     ]
    },
    {
     "name": "stdout",
     "output_type": "stream",
     "text": [
      "Training Step: 110  | total loss: \u001b[1m\u001b[32m4.23232\u001b[0m\u001b[0m | time: 5.669s\n\u001b[2K\r| Adam | epoch: 001 | loss: 4.23232 -- iter: 02200/12630\n"
     ]
    },
    {
     "name": "stdout",
     "output_type": "stream",
     "text": [
      "Training Step: 111  | total loss: \u001b[1m\u001b[32m4.22375\u001b[0m\u001b[0m | time: 5.718s\n\u001b[2K\r| Adam | epoch: 001 | loss: 4.22375 -- iter: 02220/12630\n"
     ]
    },
    {
     "name": "stdout",
     "output_type": "stream",
     "text": [
      "Training Step: 112  | total loss: \u001b[1m\u001b[32m4.13404\u001b[0m\u001b[0m | time: 5.767s\n\u001b[2K\r| Adam | epoch: 001 | loss: 4.13404 -- iter: 02240/12630\n"
     ]
    },
    {
     "name": "stdout",
     "output_type": "stream",
     "text": [
      "Training Step: 113  | total loss: \u001b[1m\u001b[32m4.13286\u001b[0m\u001b[0m | time: 5.817s\n\u001b[2K\r| Adam | epoch: 001 | loss: 4.13286 -- iter: 02260/12630\n"
     ]
    },
    {
     "name": "stdout",
     "output_type": "stream",
     "text": [
      "Training Step: 114  | total loss: \u001b[1m\u001b[32m4.14067\u001b[0m\u001b[0m | time: 5.867s\n\u001b[2K\r| Adam | epoch: 001 | loss: 4.14067 -- iter: 02280/12630\n"
     ]
    },
    {
     "name": "stdout",
     "output_type": "stream",
     "text": [
      "Training Step: 115  | total loss: \u001b[1m\u001b[32m4.12647\u001b[0m\u001b[0m | time: 5.916s\n\u001b[2K\r| Adam | epoch: 001 | loss: 4.12647 -- iter: 02300/12630\n"
     ]
    },
    {
     "name": "stdout",
     "output_type": "stream",
     "text": [
      "Training Step: 116  | total loss: \u001b[1m\u001b[32m4.11225\u001b[0m\u001b[0m | time: 5.967s\n\u001b[2K\r| Adam | epoch: 001 | loss: 4.11225 -- iter: 02320/12630\n"
     ]
    },
    {
     "name": "stdout",
     "output_type": "stream",
     "text": [
      "Training Step: 117  | total loss: \u001b[1m\u001b[32m4.06344\u001b[0m\u001b[0m | time: 6.016s\n\u001b[2K\r| Adam | epoch: 001 | loss: 4.06344 -- iter: 02340/12630\n"
     ]
    },
    {
     "name": "stdout",
     "output_type": "stream",
     "text": [
      "Training Step: 118  | total loss: \u001b[1m\u001b[32m4.17369\u001b[0m\u001b[0m | time: 6.065s\n\u001b[2K\r| Adam | epoch: 001 | loss: 4.17369 -- iter: 02360/12630\n"
     ]
    },
    {
     "name": "stdout",
     "output_type": "stream",
     "text": [
      "Training Step: 119  | total loss: \u001b[1m\u001b[32m4.21140\u001b[0m\u001b[0m | time: 6.115s\n\u001b[2K\r| Adam | epoch: 001 | loss: 4.21140 -- iter: 02380/12630\n"
     ]
    },
    {
     "name": "stdout",
     "output_type": "stream",
     "text": [
      "Training Step: 120  | total loss: \u001b[1m\u001b[32m4.24645\u001b[0m\u001b[0m | time: 6.164s\n\u001b[2K\r| Adam | epoch: 001 | loss: 4.24645 -- iter: 02400/12630\n"
     ]
    },
    {
     "name": "stdout",
     "output_type": "stream",
     "text": [
      "Training Step: 121  | total loss: \u001b[1m\u001b[32m4.24500\u001b[0m\u001b[0m | time: 6.219s\n\u001b[2K\r| Adam | epoch: 001 | loss: 4.24500 -- iter: 02420/12630\n"
     ]
    },
    {
     "name": "stdout",
     "output_type": "stream",
     "text": [
      "Training Step: 122  | total loss: \u001b[1m\u001b[32m4.26115\u001b[0m\u001b[0m | time: 6.271s\n\u001b[2K\r| Adam | epoch: 001 | loss: 4.26115 -- iter: 02440/12630\n"
     ]
    },
    {
     "name": "stdout",
     "output_type": "stream",
     "text": [
      "Training Step: 123  | total loss: \u001b[1m\u001b[32m4.33186\u001b[0m\u001b[0m | time: 6.321s\n\u001b[2K\r| Adam | epoch: 001 | loss: 4.33186 -- iter: 02460/12630\n"
     ]
    },
    {
     "name": "stdout",
     "output_type": "stream",
     "text": [
      "Training Step: 124  | total loss: \u001b[1m\u001b[32m4.36178\u001b[0m\u001b[0m | time: 6.370s\n\u001b[2K\r| Adam | epoch: 001 | loss: 4.36178 -- iter: 02480/12630\n"
     ]
    },
    {
     "name": "stdout",
     "output_type": "stream",
     "text": [
      "Training Step: 125  | total loss: \u001b[1m\u001b[32m4.26951\u001b[0m\u001b[0m | time: 6.421s\n\u001b[2K\r| Adam | epoch: 001 | loss: 4.26951 -- iter: 02500/12630\n"
     ]
    },
    {
     "name": "stdout",
     "output_type": "stream",
     "text": [
      "Training Step: 126  | total loss: \u001b[1m\u001b[32m4.29845\u001b[0m\u001b[0m | time: 6.472s\n\u001b[2K\r| Adam | epoch: 001 | loss: 4.29845 -- iter: 02520/12630\n"
     ]
    },
    {
     "name": "stdout",
     "output_type": "stream",
     "text": [
      "Training Step: 127  | total loss: \u001b[1m\u001b[32m4.21354\u001b[0m\u001b[0m | time: 6.522s\n\u001b[2K\r| Adam | epoch: 001 | loss: 4.21354 -- iter: 02540/12630\n"
     ]
    },
    {
     "name": "stdout",
     "output_type": "stream",
     "text": [
      "Training Step: 128  | total loss: \u001b[1m\u001b[32m4.19663\u001b[0m\u001b[0m | time: 6.571s\n\u001b[2K\r| Adam | epoch: 001 | loss: 4.19663 -- iter: 02560/12630\n"
     ]
    },
    {
     "name": "stdout",
     "output_type": "stream",
     "text": [
      "Training Step: 129  | total loss: \u001b[1m\u001b[32m4.17804\u001b[0m\u001b[0m | time: 6.621s\n\u001b[2K\r| Adam | epoch: 001 | loss: 4.17804 -- iter: 02580/12630\n"
     ]
    },
    {
     "name": "stdout",
     "output_type": "stream",
     "text": [
      "Training Step: 130  | total loss: \u001b[1m\u001b[32m4.21625\u001b[0m\u001b[0m | time: 6.670s\n\u001b[2K\r| Adam | epoch: 001 | loss: 4.21625 -- iter: 02600/12630\n"
     ]
    },
    {
     "name": "stdout",
     "output_type": "stream",
     "text": [
      "Training Step: 131  | total loss: \u001b[1m\u001b[32m4.27527\u001b[0m\u001b[0m | time: 6.719s\n\u001b[2K\r| Adam | epoch: 001 | loss: 4.27527 -- iter: 02620/12630\n"
     ]
    },
    {
     "name": "stdout",
     "output_type": "stream",
     "text": [
      "Training Step: 132  | total loss: \u001b[1m\u001b[32m4.22203\u001b[0m\u001b[0m | time: 6.769s\n\u001b[2K\r| Adam | epoch: 001 | loss: 4.22203 -- iter: 02640/12630\n"
     ]
    },
    {
     "name": "stdout",
     "output_type": "stream",
     "text": [
      "Training Step: 133  | total loss: \u001b[1m\u001b[32m4.16881\u001b[0m\u001b[0m | time: 6.819s\n\u001b[2K\r| Adam | epoch: 001 | loss: 4.16881 -- iter: 02660/12630\n"
     ]
    },
    {
     "name": "stdout",
     "output_type": "stream",
     "text": [
      "Training Step: 134  | total loss: \u001b[1m\u001b[32m4.18377\u001b[0m\u001b[0m | time: 6.868s\n\u001b[2K\r| Adam | epoch: 001 | loss: 4.18377 -- iter: 02680/12630\n"
     ]
    },
    {
     "name": "stdout",
     "output_type": "stream",
     "text": [
      "Training Step: 135  | total loss: \u001b[1m\u001b[32m4.27761\u001b[0m\u001b[0m | time: 6.918s\n\u001b[2K\r| Adam | epoch: 001 | loss: 4.27761 -- iter: 02700/12630\n"
     ]
    },
    {
     "name": "stdout",
     "output_type": "stream",
     "text": [
      "Training Step: 136  | total loss: \u001b[1m\u001b[32m4.33107\u001b[0m\u001b[0m | time: 6.971s\n\u001b[2K\r| Adam | epoch: 001 | loss: 4.33107 -- iter: 02720/12630\n"
     ]
    },
    {
     "name": "stdout",
     "output_type": "stream",
     "text": [
      "Training Step: 137  | total loss: \u001b[1m\u001b[32m4.32894\u001b[0m\u001b[0m | time: 7.021s\n\u001b[2K\r| Adam | epoch: 001 | loss: 4.32894 -- iter: 02740/12630\n"
     ]
    },
    {
     "name": "stdout",
     "output_type": "stream",
     "text": [
      "Training Step: 138  | total loss: \u001b[1m\u001b[32m4.30607\u001b[0m\u001b[0m | time: 7.071s\n\u001b[2K\r| Adam | epoch: 001 | loss: 4.30607 -- iter: 02760/12630\n"
     ]
    },
    {
     "name": "stdout",
     "output_type": "stream",
     "text": [
      "Training Step: 139  | total loss: \u001b[1m\u001b[32m4.28873\u001b[0m\u001b[0m | time: 7.121s\n\u001b[2K\r| Adam | epoch: 001 | loss: 4.28873 -- iter: 02780/12630\n"
     ]
    },
    {
     "name": "stdout",
     "output_type": "stream",
     "text": [
      "Training Step: 140  | total loss: \u001b[1m\u001b[32m4.24122\u001b[0m\u001b[0m | time: 7.178s\n\u001b[2K\r| Adam | epoch: 001 | loss: 4.24122 -- iter: 02800/12630\n"
     ]
    },
    {
     "name": "stdout",
     "output_type": "stream",
     "text": [
      "Training Step: 141  | total loss: \u001b[1m\u001b[32m4.16546\u001b[0m\u001b[0m | time: 7.229s\n\u001b[2K\r| Adam | epoch: 001 | loss: 4.16546 -- iter: 02820/12630\n"
     ]
    },
    {
     "name": "stdout",
     "output_type": "stream",
     "text": [
      "Training Step: 142  | total loss: \u001b[1m\u001b[32m4.19594\u001b[0m\u001b[0m | time: 7.280s\n\u001b[2K\r| Adam | epoch: 001 | loss: 4.19594 -- iter: 02840/12630\n"
     ]
    },
    {
     "name": "stdout",
     "output_type": "stream",
     "text": [
      "Training Step: 143  | total loss: \u001b[1m\u001b[32m4.13170\u001b[0m\u001b[0m | time: 7.330s\n\u001b[2K\r| Adam | epoch: 001 | loss: 4.13170 -- iter: 02860/12630\n"
     ]
    },
    {
     "name": "stdout",
     "output_type": "stream",
     "text": [
      "Training Step: 144  | total loss: \u001b[1m\u001b[32m4.20359\u001b[0m\u001b[0m | time: 7.381s\n\u001b[2K\r| Adam | epoch: 001 | loss: 4.20359 -- iter: 02880/12630\n"
     ]
    },
    {
     "name": "stdout",
     "output_type": "stream",
     "text": [
      "Training Step: 145  | total loss: \u001b[1m\u001b[32m4.18072\u001b[0m\u001b[0m | time: 7.432s\n\u001b[2K\r| Adam | epoch: 001 | loss: 4.18072 -- iter: 02900/12630\n"
     ]
    },
    {
     "name": "stdout",
     "output_type": "stream",
     "text": [
      "Training Step: 146  | total loss: \u001b[1m\u001b[32m4.13678\u001b[0m\u001b[0m | time: 7.483s\n\u001b[2K\r| Adam | epoch: 001 | loss: 4.13678 -- iter: 02920/12630\n"
     ]
    },
    {
     "name": "stdout",
     "output_type": "stream",
     "text": [
      "Training Step: 147  | total loss: \u001b[1m\u001b[32m4.19402\u001b[0m\u001b[0m | time: 7.530s\n\u001b[2K\r| Adam | epoch: 001 | loss: 4.19402 -- iter: 02940/12630\n"
     ]
    },
    {
     "name": "stdout",
     "output_type": "stream",
     "text": [
      "Training Step: 148  | total loss: \u001b[1m\u001b[32m4.18967\u001b[0m\u001b[0m | time: 7.579s\n\u001b[2K\r| Adam | epoch: 001 | loss: 4.18967 -- iter: 02960/12630\n"
     ]
    },
    {
     "name": "stdout",
     "output_type": "stream",
     "text": [
      "Training Step: 149  | total loss: \u001b[1m\u001b[32m4.24852\u001b[0m\u001b[0m | time: 7.625s\n\u001b[2K\r| Adam | epoch: 001 | loss: 4.24852 -- iter: 02980/12630\n"
     ]
    },
    {
     "name": "stdout",
     "output_type": "stream",
     "text": [
      "Training Step: 150  | total loss: \u001b[1m\u001b[32m4.22390\u001b[0m\u001b[0m | time: 7.677s\n\u001b[2K\r| Adam | epoch: 001 | loss: 4.22390 -- iter: 03000/12630\n"
     ]
    },
    {
     "name": "stdout",
     "output_type": "stream",
     "text": [
      "Training Step: 151  | total loss: \u001b[1m\u001b[32m4.20690\u001b[0m\u001b[0m | time: 7.725s\n\u001b[2K\r| Adam | epoch: 001 | loss: 4.20690 -- iter: 03020/12630\n"
     ]
    },
    {
     "name": "stdout",
     "output_type": "stream",
     "text": [
      "Training Step: 152  | total loss: \u001b[1m\u001b[32m4.20646\u001b[0m\u001b[0m | time: 7.776s\n\u001b[2K\r| Adam | epoch: 001 | loss: 4.20646 -- iter: 03040/12630\n"
     ]
    },
    {
     "name": "stdout",
     "output_type": "stream",
     "text": [
      "Training Step: 153  | total loss: \u001b[1m\u001b[32m4.18708\u001b[0m\u001b[0m | time: 7.825s\n\u001b[2K\r| Adam | epoch: 001 | loss: 4.18708 -- iter: 03060/12630\n"
     ]
    },
    {
     "name": "stdout",
     "output_type": "stream",
     "text": [
      "Training Step: 154  | total loss: \u001b[1m\u001b[32m4.22654\u001b[0m\u001b[0m | time: 7.873s\n\u001b[2K\r| Adam | epoch: 001 | loss: 4.22654 -- iter: 03080/12630\n"
     ]
    },
    {
     "name": "stdout",
     "output_type": "stream",
     "text": [
      "Training Step: 155  | total loss: \u001b[1m\u001b[32m4.22556\u001b[0m\u001b[0m | time: 7.922s\n\u001b[2K\r| Adam | epoch: 001 | loss: 4.22556 -- iter: 03100/12630\n"
     ]
    },
    {
     "name": "stdout",
     "output_type": "stream",
     "text": [
      "Training Step: 156  | total loss: \u001b[1m\u001b[32m4.32523\u001b[0m\u001b[0m | time: 7.971s\n\u001b[2K\r| Adam | epoch: 001 | loss: 4.32523 -- iter: 03120/12630\n"
     ]
    },
    {
     "name": "stdout",
     "output_type": "stream",
     "text": [
      "Training Step: 157  | total loss: \u001b[1m\u001b[32m4.30780\u001b[0m\u001b[0m | time: 8.032s\n\u001b[2K\r| Adam | epoch: 001 | loss: 4.30780 -- iter: 03140/12630\n"
     ]
    },
    {
     "name": "stdout",
     "output_type": "stream",
     "text": [
      "Training Step: 158  | total loss: \u001b[1m\u001b[32m4.33899\u001b[0m\u001b[0m | time: 8.078s\n\u001b[2K\r| Adam | epoch: 001 | loss: 4.33899 -- iter: 03160/12630\n"
     ]
    },
    {
     "name": "stdout",
     "output_type": "stream",
     "text": [
      "Training Step: 159  | total loss: \u001b[1m\u001b[32m4.32286\u001b[0m\u001b[0m | time: 8.125s\n\u001b[2K\r| Adam | epoch: 001 | loss: 4.32286 -- iter: 03180/12630\n"
     ]
    },
    {
     "name": "stdout",
     "output_type": "stream",
     "text": [
      "Training Step: 160  | total loss: \u001b[1m\u001b[32m4.27781\u001b[0m\u001b[0m | time: 8.173s\n\u001b[2K\r| Adam | epoch: 001 | loss: 4.27781 -- iter: 03200/12630\n"
     ]
    },
    {
     "name": "stdout",
     "output_type": "stream",
     "text": [
      "Training Step: 161  | total loss: \u001b[1m\u001b[32m4.25781\u001b[0m\u001b[0m | time: 8.221s\n\u001b[2K\r| Adam | epoch: 001 | loss: 4.25781 -- iter: 03220/12630\n"
     ]
    },
    {
     "name": "stdout",
     "output_type": "stream",
     "text": [
      "Training Step: 162  | total loss: \u001b[1m\u001b[32m4.28022\u001b[0m\u001b[0m | time: 8.276s\n\u001b[2K\r| Adam | epoch: 001 | loss: 4.28022 -- iter: 03240/12630\n"
     ]
    },
    {
     "name": "stdout",
     "output_type": "stream",
     "text": [
      "Training Step: 163  | total loss: \u001b[1m\u001b[32m4.28018\u001b[0m\u001b[0m | time: 8.323s\n\u001b[2K\r| Adam | epoch: 001 | loss: 4.28018 -- iter: 03260/12630\n"
     ]
    },
    {
     "name": "stdout",
     "output_type": "stream",
     "text": [
      "Training Step: 164  | total loss: \u001b[1m\u001b[32m4.27066\u001b[0m\u001b[0m | time: 8.371s\n\u001b[2K\r| Adam | epoch: 001 | loss: 4.27066 -- iter: 03280/12630\n"
     ]
    },
    {
     "name": "stdout",
     "output_type": "stream",
     "text": [
      "Training Step: 165  | total loss: \u001b[1m\u001b[32m4.26896\u001b[0m\u001b[0m | time: 8.421s\n\u001b[2K\r| Adam | epoch: 001 | loss: 4.26896 -- iter: 03300/12630\n"
     ]
    },
    {
     "name": "stdout",
     "output_type": "stream",
     "text": [
      "Training Step: 166  | total loss: \u001b[1m\u001b[32m4.26689\u001b[0m\u001b[0m | time: 8.473s\n\u001b[2K\r| Adam | epoch: 001 | loss: 4.26689 -- iter: 03320/12630\n"
     ]
    },
    {
     "name": "stdout",
     "output_type": "stream",
     "text": [
      "Training Step: 167  | total loss: \u001b[1m\u001b[32m4.20974\u001b[0m\u001b[0m | time: 8.524s\n\u001b[2K\r| Adam | epoch: 001 | loss: 4.20974 -- iter: 03340/12630\n"
     ]
    },
    {
     "name": "stdout",
     "output_type": "stream",
     "text": [
      "Training Step: 168  | total loss: \u001b[1m\u001b[32m4.24805\u001b[0m\u001b[0m | time: 8.578s\n\u001b[2K\r| Adam | epoch: 001 | loss: 4.24805 -- iter: 03360/12630\n"
     ]
    },
    {
     "name": "stdout",
     "output_type": "stream",
     "text": [
      "Training Step: 169  | total loss: \u001b[1m\u001b[32m4.33752\u001b[0m\u001b[0m | time: 8.626s\n\u001b[2K\r| Adam | epoch: 001 | loss: 4.33752 -- iter: 03380/12630\n"
     ]
    },
    {
     "name": "stdout",
     "output_type": "stream",
     "text": [
      "Training Step: 170  | total loss: \u001b[1m\u001b[32m4.36202\u001b[0m\u001b[0m | time: 8.676s\n\u001b[2K\r| Adam | epoch: 001 | loss: 4.36202 -- iter: 03400/12630\n"
     ]
    },
    {
     "name": "stdout",
     "output_type": "stream",
     "text": [
      "Training Step: 171  | total loss: \u001b[1m\u001b[32m4.39468\u001b[0m\u001b[0m | time: 8.727s\n\u001b[2K\r| Adam | epoch: 001 | loss: 4.39468 -- iter: 03420/12630\n"
     ]
    },
    {
     "name": "stdout",
     "output_type": "stream",
     "text": [
      "Training Step: 172  | total loss: \u001b[1m\u001b[32m4.40627\u001b[0m\u001b[0m | time: 8.779s\n\u001b[2K\r| Adam | epoch: 001 | loss: 4.40627 -- iter: 03440/12630\n"
     ]
    },
    {
     "name": "stdout",
     "output_type": "stream",
     "text": [
      "Training Step: 173  | total loss: \u001b[1m\u001b[32m4.48840\u001b[0m\u001b[0m | time: 8.836s\n\u001b[2K\r| Adam | epoch: 001 | loss: 4.48840 -- iter: 03460/12630\n"
     ]
    },
    {
     "name": "stdout",
     "output_type": "stream",
     "text": [
      "Training Step: 174  | total loss: \u001b[1m\u001b[32m4.47932\u001b[0m\u001b[0m | time: 8.891s\n\u001b[2K\r| Adam | epoch: 001 | loss: 4.47932 -- iter: 03480/12630\n"
     ]
    },
    {
     "name": "stdout",
     "output_type": "stream",
     "text": [
      "Training Step: 175  | total loss: \u001b[1m\u001b[32m4.45695\u001b[0m\u001b[0m | time: 8.939s\n\u001b[2K\r| Adam | epoch: 001 | loss: 4.45695 -- iter: 03500/12630\n"
     ]
    },
    {
     "name": "stdout",
     "output_type": "stream",
     "text": [
      "Training Step: 176  | total loss: \u001b[1m\u001b[32m4.40790\u001b[0m\u001b[0m | time: 8.992s\n\u001b[2K\r| Adam | epoch: 001 | loss: 4.40790 -- iter: 03520/12630\n"
     ]
    },
    {
     "name": "stdout",
     "output_type": "stream",
     "text": [
      "Training Step: 177  | total loss: \u001b[1m\u001b[32m4.37463\u001b[0m\u001b[0m | time: 9.047s\n\u001b[2K\r| Adam | epoch: 001 | loss: 4.37463 -- iter: 03540/12630\n"
     ]
    },
    {
     "name": "stdout",
     "output_type": "stream",
     "text": [
      "Training Step: 178  | total loss: \u001b[1m\u001b[32m4.40433\u001b[0m\u001b[0m | time: 9.095s\n\u001b[2K\r| Adam | epoch: 001 | loss: 4.40433 -- iter: 03560/12630\n"
     ]
    },
    {
     "name": "stdout",
     "output_type": "stream",
     "text": [
      "Training Step: 179  | total loss: \u001b[1m\u001b[32m4.35670\u001b[0m\u001b[0m | time: 9.147s\n\u001b[2K\r| Adam | epoch: 001 | loss: 4.35670 -- iter: 03580/12630\n"
     ]
    },
    {
     "name": "stdout",
     "output_type": "stream",
     "text": [
      "Training Step: 180  | total loss: \u001b[1m\u001b[32m4.37336\u001b[0m\u001b[0m | time: 9.202s\n\u001b[2K\r| Adam | epoch: 001 | loss: 4.37336 -- iter: 03600/12630\n"
     ]
    },
    {
     "name": "stdout",
     "output_type": "stream",
     "text": [
      "Training Step: 181  | total loss: \u001b[1m\u001b[32m4.32193\u001b[0m\u001b[0m | time: 9.250s\n\u001b[2K\r| Adam | epoch: 001 | loss: 4.32193 -- iter: 03620/12630\n"
     ]
    },
    {
     "name": "stdout",
     "output_type": "stream",
     "text": [
      "Training Step: 182  | total loss: \u001b[1m\u001b[32m4.27056\u001b[0m\u001b[0m | time: 9.301s\n\u001b[2K\r| Adam | epoch: 001 | loss: 4.27056 -- iter: 03640/12630\n"
     ]
    },
    {
     "name": "stdout",
     "output_type": "stream",
     "text": [
      "Training Step: 183  | total loss: \u001b[1m\u001b[32m4.25552\u001b[0m\u001b[0m | time: 9.353s\n\u001b[2K\r| Adam | epoch: 001 | loss: 4.25552 -- iter: 03660/12630\n"
     ]
    },
    {
     "name": "stdout",
     "output_type": "stream",
     "text": [
      "Training Step: 184  | total loss: \u001b[1m\u001b[32m4.23860\u001b[0m\u001b[0m | time: 9.404s\n\u001b[2K\r| Adam | epoch: 001 | loss: 4.23860 -- iter: 03680/12630\n"
     ]
    },
    {
     "name": "stdout",
     "output_type": "stream",
     "text": [
      "Training Step: 185  | total loss: \u001b[1m\u001b[32m4.20934\u001b[0m\u001b[0m | time: 9.454s\n\u001b[2K\r| Adam | epoch: 001 | loss: 4.20934 -- iter: 03700/12630\n"
     ]
    },
    {
     "name": "stdout",
     "output_type": "stream",
     "text": [
      "Training Step: 186  | total loss: \u001b[1m\u001b[32m4.21126\u001b[0m\u001b[0m | time: 9.505s\n\u001b[2K\r| Adam | epoch: 001 | loss: 4.21126 -- iter: 03720/12630\n"
     ]
    },
    {
     "name": "stdout",
     "output_type": "stream",
     "text": [
      "Training Step: 187  | total loss: \u001b[1m\u001b[32m4.16704\u001b[0m\u001b[0m | time: 9.560s\n\u001b[2K\r| Adam | epoch: 001 | loss: 4.16704 -- iter: 03740/12630\n"
     ]
    },
    {
     "name": "stdout",
     "output_type": "stream",
     "text": [
      "Training Step: 188  | total loss: \u001b[1m\u001b[32m4.13726\u001b[0m\u001b[0m | time: 9.611s\n\u001b[2K\r| Adam | epoch: 001 | loss: 4.13726 -- iter: 03760/12630\n"
     ]
    },
    {
     "name": "stdout",
     "output_type": "stream",
     "text": [
      "Training Step: 189  | total loss: \u001b[1m\u001b[32m4.12236\u001b[0m\u001b[0m | time: 9.663s\n\u001b[2K\r| Adam | epoch: 001 | loss: 4.12236 -- iter: 03780/12630\n"
     ]
    },
    {
     "name": "stdout",
     "output_type": "stream",
     "text": [
      "Training Step: 190  | total loss: \u001b[1m\u001b[32m4.11627\u001b[0m\u001b[0m | time: 9.713s\n\u001b[2K\r| Adam | epoch: 001 | loss: 4.11627 -- iter: 03800/12630\n"
     ]
    },
    {
     "name": "stdout",
     "output_type": "stream",
     "text": [
      "Training Step: 191  | total loss: \u001b[1m\u001b[32m4.26920\u001b[0m\u001b[0m | time: 9.764s\n\u001b[2K\r| Adam | epoch: 001 | loss: 4.26920 -- iter: 03820/12630\n"
     ]
    },
    {
     "name": "stdout",
     "output_type": "stream",
     "text": [
      "Training Step: 192  | total loss: \u001b[1m\u001b[32m4.27835\u001b[0m\u001b[0m | time: 9.814s\n\u001b[2K\r| Adam | epoch: 001 | loss: 4.27835 -- iter: 03840/12630\n"
     ]
    },
    {
     "name": "stdout",
     "output_type": "stream",
     "text": [
      "Training Step: 193  | total loss: \u001b[1m\u001b[32m4.20424\u001b[0m\u001b[0m | time: 9.865s\n\u001b[2K\r| Adam | epoch: 001 | loss: 4.20424 -- iter: 03860/12630\n"
     ]
    },
    {
     "name": "stdout",
     "output_type": "stream",
     "text": [
      "Training Step: 194  | total loss: \u001b[1m\u001b[32m4.21883\u001b[0m\u001b[0m | time: 9.918s\n\u001b[2K\r| Adam | epoch: 001 | loss: 4.21883 -- iter: 03880/12630\n"
     ]
    },
    {
     "name": "stdout",
     "output_type": "stream",
     "text": [
      "Training Step: 195  | total loss: \u001b[1m\u001b[32m4.21380\u001b[0m\u001b[0m | time: 9.971s\n\u001b[2K\r| Adam | epoch: 001 | loss: 4.21380 -- iter: 03900/12630\n"
     ]
    },
    {
     "name": "stdout",
     "output_type": "stream",
     "text": [
      "Training Step: 196  | total loss: \u001b[1m\u001b[32m4.20359\u001b[0m\u001b[0m | time: 10.024s\n\u001b[2K\r| Adam | epoch: 001 | loss: 4.20359 -- iter: 03920/12630\n"
     ]
    },
    {
     "name": "stdout",
     "output_type": "stream",
     "text": [
      "Training Step: 197  | total loss: \u001b[1m\u001b[32m4.21400\u001b[0m\u001b[0m | time: 10.077s\n\u001b[2K\r| Adam | epoch: 001 | loss: 4.21400 -- iter: 03940/12630\n"
     ]
    },
    {
     "name": "stdout",
     "output_type": "stream",
     "text": [
      "Training Step: 198  | total loss: \u001b[1m\u001b[32m4.24992\u001b[0m\u001b[0m | time: 10.128s\n\u001b[2K\r| Adam | epoch: 001 | loss: 4.24992 -- iter: 03960/12630\n"
     ]
    },
    {
     "name": "stdout",
     "output_type": "stream",
     "text": [
      "Training Step: 199  | total loss: \u001b[1m\u001b[32m4.31374\u001b[0m\u001b[0m | time: 10.181s\n\u001b[2K\r| Adam | epoch: 001 | loss: 4.31374 -- iter: 03980/12630\n"
     ]
    },
    {
     "name": "stdout",
     "output_type": "stream",
     "text": [
      "Training Step: 200  | total loss: \u001b[1m\u001b[32m4.30571\u001b[0m\u001b[0m | time: 10.234s\n\u001b[2K\r| Adam | epoch: 001 | loss: 4.30571 -- iter: 04000/12630\n"
     ]
    },
    {
     "name": "stdout",
     "output_type": "stream",
     "text": [
      "Training Step: 201  | total loss: \u001b[1m\u001b[32m4.31552\u001b[0m\u001b[0m | time: 10.286s\n\u001b[2K\r| Adam | epoch: 001 | loss: 4.31552 -- iter: 04020/12630\n"
     ]
    },
    {
     "name": "stdout",
     "output_type": "stream",
     "text": [
      "Training Step: 202  | total loss: \u001b[1m\u001b[32m4.30237\u001b[0m\u001b[0m | time: 10.335s\n\u001b[2K\r| Adam | epoch: 001 | loss: 4.30237 -- iter: 04040/12630\n"
     ]
    },
    {
     "name": "stdout",
     "output_type": "stream",
     "text": [
      "Training Step: 203  | total loss: \u001b[1m\u001b[32m4.19712\u001b[0m\u001b[0m | time: 10.387s\n\u001b[2K\r| Adam | epoch: 001 | loss: 4.19712 -- iter: 04060/12630\n"
     ]
    },
    {
     "name": "stdout",
     "output_type": "stream",
     "text": [
      "Training Step: 204  | total loss: \u001b[1m\u001b[32m4.26345\u001b[0m\u001b[0m | time: 10.440s\n\u001b[2K\r| Adam | epoch: 001 | loss: 4.26345 -- iter: 04080/12630\n"
     ]
    },
    {
     "name": "stdout",
     "output_type": "stream",
     "text": [
      "Training Step: 205  | total loss: \u001b[1m\u001b[32m4.24177\u001b[0m\u001b[0m | time: 10.493s\n\u001b[2K\r| Adam | epoch: 001 | loss: 4.24177 -- iter: 04100/12630\n"
     ]
    },
    {
     "name": "stdout",
     "output_type": "stream",
     "text": [
      "Training Step: 206  | total loss: \u001b[1m\u001b[32m4.24622\u001b[0m\u001b[0m | time: 10.545s\n\u001b[2K\r| Adam | epoch: 001 | loss: 4.24622 -- iter: 04120/12630\n"
     ]
    },
    {
     "name": "stdout",
     "output_type": "stream",
     "text": [
      "Training Step: 207  | total loss: \u001b[1m\u001b[32m4.28434\u001b[0m\u001b[0m | time: 10.605s\n\u001b[2K\r| Adam | epoch: 001 | loss: 4.28434 -- iter: 04140/12630\n"
     ]
    },
    {
     "name": "stdout",
     "output_type": "stream",
     "text": [
      "Training Step: 208  | total loss: \u001b[1m\u001b[32m4.24087\u001b[0m\u001b[0m | time: 10.655s\n\u001b[2K\r| Adam | epoch: 001 | loss: 4.24087 -- iter: 04160/12630\n"
     ]
    },
    {
     "name": "stdout",
     "output_type": "stream",
     "text": [
      "Training Step: 209  | total loss: \u001b[1m\u001b[32m4.21927\u001b[0m\u001b[0m | time: 10.708s\n\u001b[2K\r| Adam | epoch: 001 | loss: 4.21927 -- iter: 04180/12630\n"
     ]
    },
    {
     "name": "stdout",
     "output_type": "stream",
     "text": [
      "Training Step: 210  | total loss: \u001b[1m\u001b[32m4.17686\u001b[0m\u001b[0m | time: 10.763s\n\u001b[2K\r| Adam | epoch: 001 | loss: 4.17686 -- iter: 04200/12630\n"
     ]
    },
    {
     "name": "stdout",
     "output_type": "stream",
     "text": [
      "Training Step: 211  | total loss: \u001b[1m\u001b[32m4.14909\u001b[0m\u001b[0m | time: 10.816s\n\u001b[2K\r| Adam | epoch: 001 | loss: 4.14909 -- iter: 04220/12630\n"
     ]
    },
    {
     "name": "stdout",
     "output_type": "stream",
     "text": [
      "Training Step: 212  | total loss: \u001b[1m\u001b[32m4.19149\u001b[0m\u001b[0m | time: 10.868s\n\u001b[2K\r| Adam | epoch: 001 | loss: 4.19149 -- iter: 04240/12630\n"
     ]
    },
    {
     "name": "stdout",
     "output_type": "stream",
     "text": [
      "Training Step: 213  | total loss: \u001b[1m\u001b[32m4.21236\u001b[0m\u001b[0m | time: 10.925s\n\u001b[2K\r| Adam | epoch: 001 | loss: 4.21236 -- iter: 04260/12630\n"
     ]
    },
    {
     "name": "stdout",
     "output_type": "stream",
     "text": [
      "Training Step: 214  | total loss: \u001b[1m\u001b[32m4.13425\u001b[0m\u001b[0m | time: 10.977s\n\u001b[2K\r| Adam | epoch: 001 | loss: 4.13425 -- iter: 04280/12630\n"
     ]
    },
    {
     "name": "stdout",
     "output_type": "stream",
     "text": [
      "Training Step: 215  | total loss: \u001b[1m\u001b[32m4.17330\u001b[0m\u001b[0m | time: 11.029s\n\u001b[2K\r| Adam | epoch: 001 | loss: 4.17330 -- iter: 04300/12630\n"
     ]
    },
    {
     "name": "stdout",
     "output_type": "stream",
     "text": [
      "Training Step: 216  | total loss: \u001b[1m\u001b[32m4.15274\u001b[0m\u001b[0m | time: 11.083s\n\u001b[2K\r| Adam | epoch: 001 | loss: 4.15274 -- iter: 04320/12630\n"
     ]
    },
    {
     "name": "stdout",
     "output_type": "stream",
     "text": [
      "Training Step: 217  | total loss: \u001b[1m\u001b[32m4.11089\u001b[0m\u001b[0m | time: 11.136s\n\u001b[2K\r| Adam | epoch: 001 | loss: 4.11089 -- iter: 04340/12630\n"
     ]
    },
    {
     "name": "stdout",
     "output_type": "stream",
     "text": [
      "Training Step: 218  | total loss: \u001b[1m\u001b[32m4.12581\u001b[0m\u001b[0m | time: 11.191s\n\u001b[2K\r| Adam | epoch: 001 | loss: 4.12581 -- iter: 04360/12630\n"
     ]
    },
    {
     "name": "stdout",
     "output_type": "stream",
     "text": [
      "Training Step: 219  | total loss: \u001b[1m\u001b[32m4.12025\u001b[0m\u001b[0m | time: 11.244s\n\u001b[2K\r| Adam | epoch: 001 | loss: 4.12025 -- iter: 04380/12630\n"
     ]
    },
    {
     "name": "stdout",
     "output_type": "stream",
     "text": [
      "Training Step: 220  | total loss: \u001b[1m\u001b[32m4.16876\u001b[0m\u001b[0m | time: 11.298s\n\u001b[2K\r| Adam | epoch: 001 | loss: 4.16876 -- iter: 04400/12630\n"
     ]
    },
    {
     "name": "stdout",
     "output_type": "stream",
     "text": [
      "Training Step: 221  | total loss: \u001b[1m\u001b[32m4.21323\u001b[0m\u001b[0m | time: 11.354s\n\u001b[2K\r| Adam | epoch: 001 | loss: 4.21323 -- iter: 04420/12630\n"
     ]
    },
    {
     "name": "stdout",
     "output_type": "stream",
     "text": [
      "Training Step: 222  | total loss: \u001b[1m\u001b[32m4.27312\u001b[0m\u001b[0m | time: 11.408s\n\u001b[2K\r| Adam | epoch: 001 | loss: 4.27312 -- iter: 04440/12630\n"
     ]
    },
    {
     "name": "stdout",
     "output_type": "stream",
     "text": [
      "Training Step: 223  | total loss: \u001b[1m\u001b[32m4.29576\u001b[0m\u001b[0m | time: 11.462s\n\u001b[2K\r| Adam | epoch: 001 | loss: 4.29576 -- iter: 04460/12630\n"
     ]
    },
    {
     "name": "stdout",
     "output_type": "stream",
     "text": [
      "Training Step: 224  | total loss: \u001b[1m\u001b[32m4.32412\u001b[0m\u001b[0m | time: 11.515s\n\u001b[2K\r| Adam | epoch: 001 | loss: 4.32412 -- iter: 04480/12630\n"
     ]
    },
    {
     "name": "stdout",
     "output_type": "stream",
     "text": [
      "Training Step: 225  | total loss: \u001b[1m\u001b[32m4.28320\u001b[0m\u001b[0m | time: 11.573s\n\u001b[2K\r| Adam | epoch: 001 | loss: 4.28320 -- iter: 04500/12630\n"
     ]
    },
    {
     "name": "stdout",
     "output_type": "stream",
     "text": [
      "Training Step: 226  | total loss: \u001b[1m\u001b[32m4.23825\u001b[0m\u001b[0m | time: 11.629s\n\u001b[2K\r| Adam | epoch: 001 | loss: 4.23825 -- iter: 04520/12630\n"
     ]
    },
    {
     "name": "stdout",
     "output_type": "stream",
     "text": [
      "Training Step: 227  | total loss: \u001b[1m\u001b[32m4.20403\u001b[0m\u001b[0m | time: 11.687s\n\u001b[2K\r| Adam | epoch: 001 | loss: 4.20403 -- iter: 04540/12630\n"
     ]
    },
    {
     "name": "stdout",
     "output_type": "stream",
     "text": [
      "Training Step: 228  | total loss: \u001b[1m\u001b[32m4.26612\u001b[0m\u001b[0m | time: 11.742s\n\u001b[2K\r| Adam | epoch: 001 | loss: 4.26612 -- iter: 04560/12630\n"
     ]
    },
    {
     "name": "stdout",
     "output_type": "stream",
     "text": [
      "Training Step: 229  | total loss: \u001b[1m\u001b[32m4.28287\u001b[0m\u001b[0m | time: 11.797s\n\u001b[2K\r| Adam | epoch: 001 | loss: 4.28287 -- iter: 04580/12630\n"
     ]
    },
    {
     "name": "stdout",
     "output_type": "stream",
     "text": [
      "Training Step: 230  | total loss: \u001b[1m\u001b[32m4.27546\u001b[0m\u001b[0m | time: 11.849s\n\u001b[2K\r| Adam | epoch: 001 | loss: 4.27546 -- iter: 04600/12630\n"
     ]
    },
    {
     "name": "stdout",
     "output_type": "stream",
     "text": [
      "Training Step: 231  | total loss: \u001b[1m\u001b[32m4.24638\u001b[0m\u001b[0m | time: 11.902s\n\u001b[2K\r| Adam | epoch: 001 | loss: 4.24638 -- iter: 04620/12630\n"
     ]
    },
    {
     "name": "stdout",
     "output_type": "stream",
     "text": [
      "Training Step: 232  | total loss: \u001b[1m\u001b[32m4.31782\u001b[0m\u001b[0m | time: 11.960s\n\u001b[2K\r| Adam | epoch: 001 | loss: 4.31782 -- iter: 04640/12630\n"
     ]
    },
    {
     "name": "stdout",
     "output_type": "stream",
     "text": [
      "Training Step: 233  | total loss: \u001b[1m\u001b[32m4.28920\u001b[0m\u001b[0m | time: 12.012s\n\u001b[2K\r| Adam | epoch: 001 | loss: 4.28920 -- iter: 04660/12630\n"
     ]
    },
    {
     "name": "stdout",
     "output_type": "stream",
     "text": [
      "Training Step: 234  | total loss: \u001b[1m\u001b[32m4.30456\u001b[0m\u001b[0m | time: 12.067s\n\u001b[2K\r| Adam | epoch: 001 | loss: 4.30456 -- iter: 04680/12630\n"
     ]
    },
    {
     "name": "stdout",
     "output_type": "stream",
     "text": [
      "Training Step: 235  | total loss: \u001b[1m\u001b[32m4.36925\u001b[0m\u001b[0m | time: 12.122s\n\u001b[2K\r| Adam | epoch: 001 | loss: 4.36925 -- iter: 04700/12630\n"
     ]
    },
    {
     "name": "stdout",
     "output_type": "stream",
     "text": [
      "Training Step: 236  | total loss: \u001b[1m\u001b[32m4.38582\u001b[0m\u001b[0m | time: 12.180s\n\u001b[2K\r| Adam | epoch: 001 | loss: 4.38582 -- iter: 04720/12630\n"
     ]
    },
    {
     "name": "stdout",
     "output_type": "stream",
     "text": [
      "Training Step: 237  | total loss: \u001b[1m\u001b[32m4.49782\u001b[0m\u001b[0m | time: 12.233s\n\u001b[2K\r| Adam | epoch: 001 | loss: 4.49782 -- iter: 04740/12630\n"
     ]
    },
    {
     "name": "stdout",
     "output_type": "stream",
     "text": [
      "Training Step: 238  | total loss: \u001b[1m\u001b[32m4.47455\u001b[0m\u001b[0m | time: 12.286s\n\u001b[2K\r| Adam | epoch: 001 | loss: 4.47455 -- iter: 04760/12630\n"
     ]
    },
    {
     "name": "stdout",
     "output_type": "stream",
     "text": [
      "Training Step: 239  | total loss: \u001b[1m\u001b[32m4.45606\u001b[0m\u001b[0m | time: 12.341s\n\u001b[2K\r| Adam | epoch: 001 | loss: 4.45606 -- iter: 04780/12630\n"
     ]
    },
    {
     "name": "stdout",
     "output_type": "stream",
     "text": [
      "Training Step: 240  | total loss: \u001b[1m\u001b[32m4.49828\u001b[0m\u001b[0m | time: 12.399s\n\u001b[2K\r| Adam | epoch: 001 | loss: 4.49828 -- iter: 04800/12630\n"
     ]
    },
    {
     "name": "stdout",
     "output_type": "stream",
     "text": [
      "Training Step: 241  | total loss: \u001b[1m\u001b[32m4.50465\u001b[0m\u001b[0m | time: 12.456s\n\u001b[2K\r| Adam | epoch: 001 | loss: 4.50465 -- iter: 04820/12630\n"
     ]
    },
    {
     "name": "stdout",
     "output_type": "stream",
     "text": [
      "Training Step: 242  | total loss: \u001b[1m\u001b[32m4.48204\u001b[0m\u001b[0m | time: 12.509s\n\u001b[2K\r| Adam | epoch: 001 | loss: 4.48204 -- iter: 04840/12630\n"
     ]
    },
    {
     "name": "stdout",
     "output_type": "stream",
     "text": [
      "Training Step: 243  | total loss: \u001b[1m\u001b[32m4.44221\u001b[0m\u001b[0m | time: 12.564s\n\u001b[2K\r| Adam | epoch: 001 | loss: 4.44221 -- iter: 04860/12630\n"
     ]
    },
    {
     "name": "stdout",
     "output_type": "stream",
     "text": [
      "Training Step: 244  | total loss: \u001b[1m\u001b[32m4.40052\u001b[0m\u001b[0m | time: 12.622s\n\u001b[2K\r| Adam | epoch: 001 | loss: 4.40052 -- iter: 04880/12630\n"
     ]
    },
    {
     "name": "stdout",
     "output_type": "stream",
     "text": [
      "Training Step: 245  | total loss: \u001b[1m\u001b[32m4.40836\u001b[0m\u001b[0m | time: 12.676s\n\u001b[2K\r| Adam | epoch: 001 | loss: 4.40836 -- iter: 04900/12630\n"
     ]
    },
    {
     "name": "stdout",
     "output_type": "stream",
     "text": [
      "Training Step: 246  | total loss: \u001b[1m\u001b[32m4.36368\u001b[0m\u001b[0m | time: 12.734s\n\u001b[2K\r| Adam | epoch: 001 | loss: 4.36368 -- iter: 04920/12630\n"
     ]
    },
    {
     "name": "stdout",
     "output_type": "stream",
     "text": [
      "Training Step: 247  | total loss: \u001b[1m\u001b[32m4.33431\u001b[0m\u001b[0m | time: 12.796s\n\u001b[2K\r| Adam | epoch: 001 | loss: 4.33431 -- iter: 04940/12630\n"
     ]
    },
    {
     "name": "stdout",
     "output_type": "stream",
     "text": [
      "Training Step: 248  | total loss: \u001b[1m\u001b[32m4.31505\u001b[0m\u001b[0m | time: 12.847s\n\u001b[2K\r| Adam | epoch: 001 | loss: 4.31505 -- iter: 04960/12630\n"
     ]
    },
    {
     "name": "stdout",
     "output_type": "stream",
     "text": [
      "Training Step: 249  | total loss: \u001b[1m\u001b[32m4.35272\u001b[0m\u001b[0m | time: 12.902s\n\u001b[2K\r| Adam | epoch: 001 | loss: 4.35272 -- iter: 04980/12630\n"
     ]
    },
    {
     "name": "stdout",
     "output_type": "stream",
     "text": [
      "Training Step: 250  | total loss: \u001b[1m\u001b[32m4.30521\u001b[0m\u001b[0m | time: 12.962s\n\u001b[2K\r| Adam | epoch: 001 | loss: 4.30521 -- iter: 05000/12630\n"
     ]
    },
    {
     "name": "stdout",
     "output_type": "stream",
     "text": [
      "Training Step: 251  | total loss: \u001b[1m\u001b[32m4.26786\u001b[0m\u001b[0m | time: 13.017s\n\u001b[2K\r| Adam | epoch: 001 | loss: 4.26786 -- iter: 05020/12630\n"
     ]
    },
    {
     "name": "stdout",
     "output_type": "stream",
     "text": [
      "Training Step: 252  | total loss: \u001b[1m\u001b[32m4.27657\u001b[0m\u001b[0m | time: 13.073s\n\u001b[2K\r| Adam | epoch: 001 | loss: 4.27657 -- iter: 05040/12630\n"
     ]
    },
    {
     "name": "stdout",
     "output_type": "stream",
     "text": [
      "Training Step: 253  | total loss: \u001b[1m\u001b[32m4.20232\u001b[0m\u001b[0m | time: 13.132s\n\u001b[2K\r| Adam | epoch: 001 | loss: 4.20232 -- iter: 05060/12630\n"
     ]
    },
    {
     "name": "stdout",
     "output_type": "stream",
     "text": [
      "Training Step: 254  | total loss: \u001b[1m\u001b[32m4.24415\u001b[0m\u001b[0m | time: 13.188s\n\u001b[2K\r| Adam | epoch: 001 | loss: 4.24415 -- iter: 05080/12630\n"
     ]
    },
    {
     "name": "stdout",
     "output_type": "stream",
     "text": [
      "Training Step: 255  | total loss: \u001b[1m\u001b[32m4.18169\u001b[0m\u001b[0m | time: 13.244s\n\u001b[2K\r| Adam | epoch: 001 | loss: 4.18169 -- iter: 05100/12630\n"
     ]
    },
    {
     "name": "stdout",
     "output_type": "stream",
     "text": [
      "Training Step: 256  | total loss: \u001b[1m\u001b[32m4.26348\u001b[0m\u001b[0m | time: 13.301s\n\u001b[2K\r| Adam | epoch: 001 | loss: 4.26348 -- iter: 05120/12630\n"
     ]
    },
    {
     "name": "stdout",
     "output_type": "stream",
     "text": [
      "Training Step: 257  | total loss: \u001b[1m\u001b[32m4.29562\u001b[0m\u001b[0m | time: 13.361s\n\u001b[2K\r| Adam | epoch: 001 | loss: 4.29562 -- iter: 05140/12630\n"
     ]
    },
    {
     "name": "stdout",
     "output_type": "stream",
     "text": [
      "Training Step: 258  | total loss: \u001b[1m\u001b[32m4.27699\u001b[0m\u001b[0m | time: 13.419s\n\u001b[2K\r| Adam | epoch: 001 | loss: 4.27699 -- iter: 05160/12630\n"
     ]
    },
    {
     "name": "stdout",
     "output_type": "stream",
     "text": [
      "Training Step: 259  | total loss: \u001b[1m\u001b[32m4.25790\u001b[0m\u001b[0m | time: 13.472s\n\u001b[2K\r| Adam | epoch: 001 | loss: 4.25790 -- iter: 05180/12630\n"
     ]
    },
    {
     "name": "stdout",
     "output_type": "stream",
     "text": [
      "Training Step: 260  | total loss: \u001b[1m\u001b[32m4.21072\u001b[0m\u001b[0m | time: 13.531s\n\u001b[2K\r| Adam | epoch: 001 | loss: 4.21072 -- iter: 05200/12630\n"
     ]
    },
    {
     "name": "stdout",
     "output_type": "stream",
     "text": [
      "Training Step: 261  | total loss: \u001b[1m\u001b[32m4.22566\u001b[0m\u001b[0m | time: 13.587s\n\u001b[2K\r| Adam | epoch: 001 | loss: 4.22566 -- iter: 05220/12630\n"
     ]
    },
    {
     "name": "stdout",
     "output_type": "stream",
     "text": [
      "Training Step: 262  | total loss: \u001b[1m\u001b[32m4.17534\u001b[0m\u001b[0m | time: 13.647s\n\u001b[2K\r| Adam | epoch: 001 | loss: 4.17534 -- iter: 05240/12630\n"
     ]
    },
    {
     "name": "stdout",
     "output_type": "stream",
     "text": [
      "Training Step: 263  | total loss: \u001b[1m\u001b[32m4.18980\u001b[0m\u001b[0m | time: 13.705s\n\u001b[2K\r| Adam | epoch: 001 | loss: 4.18980 -- iter: 05260/12630\n"
     ]
    },
    {
     "name": "stdout",
     "output_type": "stream",
     "text": [
      "Training Step: 264  | total loss: \u001b[1m\u001b[32m4.18877\u001b[0m\u001b[0m | time: 13.762s\n\u001b[2K\r| Adam | epoch: 001 | loss: 4.18877 -- iter: 05280/12630\n"
     ]
    },
    {
     "name": "stdout",
     "output_type": "stream",
     "text": [
      "Training Step: 265  | total loss: \u001b[1m\u001b[32m4.21275\u001b[0m\u001b[0m | time: 13.816s\n\u001b[2K\r| Adam | epoch: 001 | loss: 4.21275 -- iter: 05300/12630\n"
     ]
    },
    {
     "name": "stdout",
     "output_type": "stream",
     "text": [
      "Training Step: 266  | total loss: \u001b[1m\u001b[32m4.32796\u001b[0m\u001b[0m | time: 13.874s\n\u001b[2K\r| Adam | epoch: 001 | loss: 4.32796 -- iter: 05320/12630\n"
     ]
    },
    {
     "name": "stdout",
     "output_type": "stream",
     "text": [
      "Training Step: 267  | total loss: \u001b[1m\u001b[32m4.32060\u001b[0m\u001b[0m | time: 13.935s\n\u001b[2K\r| Adam | epoch: 001 | loss: 4.32060 -- iter: 05340/12630\n"
     ]
    },
    {
     "name": "stdout",
     "output_type": "stream",
     "text": [
      "Training Step: 268  | total loss: \u001b[1m\u001b[32m4.33180\u001b[0m\u001b[0m | time: 13.989s\n\u001b[2K\r| Adam | epoch: 001 | loss: 4.33180 -- iter: 05360/12630\n"
     ]
    },
    {
     "name": "stdout",
     "output_type": "stream",
     "text": [
      "Training Step: 269  | total loss: \u001b[1m\u001b[32m4.32221\u001b[0m\u001b[0m | time: 14.043s\n\u001b[2K\r| Adam | epoch: 001 | loss: 4.32221 -- iter: 05380/12630\n"
     ]
    },
    {
     "name": "stdout",
     "output_type": "stream",
     "text": [
      "Training Step: 270  | total loss: \u001b[1m\u001b[32m4.26893\u001b[0m\u001b[0m | time: 14.102s\n\u001b[2K\r| Adam | epoch: 001 | loss: 4.26893 -- iter: 05400/12630\n"
     ]
    },
    {
     "name": "stdout",
     "output_type": "stream",
     "text": [
      "Training Step: 271  | total loss: \u001b[1m\u001b[32m4.26044\u001b[0m\u001b[0m | time: 14.157s\n\u001b[2K\r| Adam | epoch: 001 | loss: 4.26044 -- iter: 05420/12630\n"
     ]
    },
    {
     "name": "stdout",
     "output_type": "stream",
     "text": [
      "Training Step: 272  | total loss: \u001b[1m\u001b[32m4.19579\u001b[0m\u001b[0m | time: 14.214s\n\u001b[2K\r| Adam | epoch: 001 | loss: 4.19579 -- iter: 05440/12630\n"
     ]
    },
    {
     "name": "stdout",
     "output_type": "stream",
     "text": [
      "Training Step: 273  | total loss: \u001b[1m\u001b[32m4.21219\u001b[0m\u001b[0m | time: 14.268s\n\u001b[2K\r| Adam | epoch: 001 | loss: 4.21219 -- iter: 05460/12630\n"
     ]
    },
    {
     "name": "stdout",
     "output_type": "stream",
     "text": [
      "Training Step: 274  | total loss: \u001b[1m\u001b[32m4.28017\u001b[0m\u001b[0m | time: 14.326s\n\u001b[2K\r| Adam | epoch: 001 | loss: 4.28017 -- iter: 05480/12630\n"
     ]
    },
    {
     "name": "stdout",
     "output_type": "stream",
     "text": [
      "Training Step: 275  | total loss: \u001b[1m\u001b[32m4.25235\u001b[0m\u001b[0m | time: 14.382s\n\u001b[2K\r| Adam | epoch: 001 | loss: 4.25235 -- iter: 05500/12630\n"
     ]
    },
    {
     "name": "stdout",
     "output_type": "stream",
     "text": [
      "Training Step: 276  | total loss: \u001b[1m\u001b[32m4.20164\u001b[0m\u001b[0m | time: 14.436s\n\u001b[2K\r| Adam | epoch: 001 | loss: 4.20164 -- iter: 05520/12630\n"
     ]
    },
    {
     "name": "stdout",
     "output_type": "stream",
     "text": [
      "Training Step: 277  | total loss: \u001b[1m\u001b[32m4.30871\u001b[0m\u001b[0m | time: 14.494s\n\u001b[2K\r| Adam | epoch: 001 | loss: 4.30871 -- iter: 05540/12630\n"
     ]
    },
    {
     "name": "stdout",
     "output_type": "stream",
     "text": [
      "Training Step: 278  | total loss: \u001b[1m\u001b[32m4.36897\u001b[0m\u001b[0m | time: 14.548s\n\u001b[2K\r| Adam | epoch: 001 | loss: 4.36897 -- iter: 05560/12630\n"
     ]
    },
    {
     "name": "stdout",
     "output_type": "stream",
     "text": [
      "Training Step: 279  | total loss: \u001b[1m\u001b[32m4.43284\u001b[0m\u001b[0m | time: 14.605s\n\u001b[2K\r| Adam | epoch: 001 | loss: 4.43284 -- iter: 05580/12630\n"
     ]
    },
    {
     "name": "stdout",
     "output_type": "stream",
     "text": [
      "Training Step: 280  | total loss: \u001b[1m\u001b[32m4.41588\u001b[0m\u001b[0m | time: 14.663s\n\u001b[2K\r| Adam | epoch: 001 | loss: 4.41588 -- iter: 05600/12630\n"
     ]
    },
    {
     "name": "stdout",
     "output_type": "stream",
     "text": [
      "Training Step: 281  | total loss: \u001b[1m\u001b[32m4.44947\u001b[0m\u001b[0m | time: 14.720s\n\u001b[2K\r| Adam | epoch: 001 | loss: 4.44947 -- iter: 05620/12630\n"
     ]
    },
    {
     "name": "stdout",
     "output_type": "stream",
     "text": [
      "Training Step: 282  | total loss: \u001b[1m\u001b[32m4.40673\u001b[0m\u001b[0m | time: 14.778s\n\u001b[2K\r| Adam | epoch: 001 | loss: 4.40673 -- iter: 05640/12630\n"
     ]
    },
    {
     "name": "stdout",
     "output_type": "stream",
     "text": [
      "Training Step: 283  | total loss: \u001b[1m\u001b[32m4.44464\u001b[0m\u001b[0m | time: 14.837s\n\u001b[2K\r| Adam | epoch: 001 | loss: 4.44464 -- iter: 05660/12630\n"
     ]
    },
    {
     "name": "stdout",
     "output_type": "stream",
     "text": [
      "Training Step: 284  | total loss: \u001b[1m\u001b[32m4.40455\u001b[0m\u001b[0m | time: 14.895s\n\u001b[2K\r| Adam | epoch: 001 | loss: 4.40455 -- iter: 05680/12630\n"
     ]
    },
    {
     "name": "stdout",
     "output_type": "stream",
     "text": [
      "Training Step: 285  | total loss: \u001b[1m\u001b[32m4.40368\u001b[0m\u001b[0m | time: 14.951s\n\u001b[2K\r| Adam | epoch: 001 | loss: 4.40368 -- iter: 05700/12630\n"
     ]
    },
    {
     "name": "stdout",
     "output_type": "stream",
     "text": [
      "Training Step: 286  | total loss: \u001b[1m\u001b[32m4.43396\u001b[0m\u001b[0m | time: 15.012s\n\u001b[2K\r| Adam | epoch: 001 | loss: 4.43396 -- iter: 05720/12630\n"
     ]
    },
    {
     "name": "stdout",
     "output_type": "stream",
     "text": [
      "Training Step: 287  | total loss: \u001b[1m\u001b[32m4.38889\u001b[0m\u001b[0m | time: 15.072s\n\u001b[2K\r| Adam | epoch: 001 | loss: 4.38889 -- iter: 05740/12630\n"
     ]
    },
    {
     "name": "stdout",
     "output_type": "stream",
     "text": [
      "Training Step: 288  | total loss: \u001b[1m\u001b[32m4.35306\u001b[0m\u001b[0m | time: 15.127s\n\u001b[2K\r| Adam | epoch: 001 | loss: 4.35306 -- iter: 05760/12630\n"
     ]
    },
    {
     "name": "stdout",
     "output_type": "stream",
     "text": [
      "Training Step: 289  | total loss: \u001b[1m\u001b[32m4.36119\u001b[0m\u001b[0m | time: 15.186s\n\u001b[2K\r| Adam | epoch: 001 | loss: 4.36119 -- iter: 05780/12630\n"
     ]
    },
    {
     "name": "stdout",
     "output_type": "stream",
     "text": [
      "Training Step: 290  | total loss: \u001b[1m\u001b[32m4.34200\u001b[0m\u001b[0m | time: 15.248s\n\u001b[2K\r| Adam | epoch: 001 | loss: 4.34200 -- iter: 05800/12630\n"
     ]
    },
    {
     "name": "stdout",
     "output_type": "stream",
     "text": [
      "Training Step: 291  | total loss: \u001b[1m\u001b[32m4.32782\u001b[0m\u001b[0m | time: 15.307s\n\u001b[2K\r| Adam | epoch: 001 | loss: 4.32782 -- iter: 05820/12630\n"
     ]
    },
    {
     "name": "stdout",
     "output_type": "stream",
     "text": [
      "Training Step: 292  | total loss: \u001b[1m\u001b[32m4.30073\u001b[0m\u001b[0m | time: 15.366s\n\u001b[2K\r| Adam | epoch: 001 | loss: 4.30073 -- iter: 05840/12630\n"
     ]
    },
    {
     "name": "stdout",
     "output_type": "stream",
     "text": [
      "Training Step: 293  | total loss: \u001b[1m\u001b[32m4.23270\u001b[0m\u001b[0m | time: 15.437s\n\u001b[2K\r| Adam | epoch: 001 | loss: 4.23270 -- iter: 05860/12630\n"
     ]
    },
    {
     "name": "stdout",
     "output_type": "stream",
     "text": [
      "Training Step: 294  | total loss: \u001b[1m\u001b[32m4.21303\u001b[0m\u001b[0m | time: 15.500s\n\u001b[2K\r| Adam | epoch: 001 | loss: 4.21303 -- iter: 05880/12630\n"
     ]
    },
    {
     "name": "stdout",
     "output_type": "stream",
     "text": [
      "Training Step: 295  | total loss: \u001b[1m\u001b[32m4.15499\u001b[0m\u001b[0m | time: 15.560s\n\u001b[2K\r| Adam | epoch: 001 | loss: 4.15499 -- iter: 05900/12630\n"
     ]
    },
    {
     "name": "stdout",
     "output_type": "stream",
     "text": [
      "Training Step: 296  | total loss: \u001b[1m\u001b[32m4.16584\u001b[0m\u001b[0m | time: 15.618s\n\u001b[2K\r| Adam | epoch: 001 | loss: 4.16584 -- iter: 05920/12630\n"
     ]
    },
    {
     "name": "stdout",
     "output_type": "stream",
     "text": [
      "Training Step: 297  | total loss: \u001b[1m\u001b[32m4.21171\u001b[0m\u001b[0m | time: 15.678s\n\u001b[2K\r| Adam | epoch: 001 | loss: 4.21171 -- iter: 05940/12630\n"
     ]
    },
    {
     "name": "stdout",
     "output_type": "stream",
     "text": [
      "Training Step: 298  | total loss: \u001b[1m\u001b[32m4.19975\u001b[0m\u001b[0m | time: 15.738s\n\u001b[2K\r| Adam | epoch: 001 | loss: 4.19975 -- iter: 05960/12630\n"
     ]
    },
    {
     "name": "stdout",
     "output_type": "stream",
     "text": [
      "Training Step: 299  | total loss: \u001b[1m\u001b[32m4.16803\u001b[0m\u001b[0m | time: 15.795s\n\u001b[2K\r| Adam | epoch: 001 | loss: 4.16803 -- iter: 05980/12630\n"
     ]
    },
    {
     "name": "stdout",
     "output_type": "stream",
     "text": [
      "Training Step: 300  | total loss: \u001b[1m\u001b[32m4.15049\u001b[0m\u001b[0m | time: 15.852s\n\u001b[2K\r| Adam | epoch: 001 | loss: 4.15049 -- iter: 06000/12630\n"
     ]
    },
    {
     "name": "stdout",
     "output_type": "stream",
     "text": [
      "Training Step: 301  | total loss: \u001b[1m\u001b[32m4.17521\u001b[0m\u001b[0m | time: 15.910s\n\u001b[2K\r| Adam | epoch: 001 | loss: 4.17521 -- iter: 06020/12630\n"
     ]
    },
    {
     "name": "stdout",
     "output_type": "stream",
     "text": [
      "Training Step: 302  | total loss: \u001b[1m\u001b[32m4.18099\u001b[0m\u001b[0m | time: 15.966s\n\u001b[2K\r| Adam | epoch: 001 | loss: 4.18099 -- iter: 06040/12630\n"
     ]
    },
    {
     "name": "stdout",
     "output_type": "stream",
     "text": [
      "Training Step: 303  | total loss: \u001b[1m\u001b[32m4.21188\u001b[0m\u001b[0m | time: 16.028s\n\u001b[2K\r| Adam | epoch: 001 | loss: 4.21188 -- iter: 06060/12630\n"
     ]
    },
    {
     "name": "stdout",
     "output_type": "stream",
     "text": [
      "Training Step: 304  | total loss: \u001b[1m\u001b[32m4.12935\u001b[0m\u001b[0m | time: 16.083s\n\u001b[2K\r| Adam | epoch: 001 | loss: 4.12935 -- iter: 06080/12630\n"
     ]
    },
    {
     "name": "stdout",
     "output_type": "stream",
     "text": [
      "Training Step: 305  | total loss: \u001b[1m\u001b[32m4.09272\u001b[0m\u001b[0m | time: 16.138s\n\u001b[2K\r| Adam | epoch: 001 | loss: 4.09272 -- iter: 06100/12630\n"
     ]
    },
    {
     "name": "stdout",
     "output_type": "stream",
     "text": [
      "Training Step: 306  | total loss: \u001b[1m\u001b[32m4.12345\u001b[0m\u001b[0m | time: 16.193s\n\u001b[2K\r| Adam | epoch: 001 | loss: 4.12345 -- iter: 06120/12630\n"
     ]
    },
    {
     "name": "stdout",
     "output_type": "stream",
     "text": [
      "Training Step: 307  | total loss: \u001b[1m\u001b[32m4.10677\u001b[0m\u001b[0m | time: 16.255s\n\u001b[2K\r| Adam | epoch: 001 | loss: 4.10677 -- iter: 06140/12630\n"
     ]
    },
    {
     "name": "stdout",
     "output_type": "stream",
     "text": [
      "Training Step: 308  | total loss: \u001b[1m\u001b[32m4.10338\u001b[0m\u001b[0m | time: 16.313s\n\u001b[2K\r| Adam | epoch: 001 | loss: 4.10338 -- iter: 06160/12630\n"
     ]
    },
    {
     "name": "stdout",
     "output_type": "stream",
     "text": [
      "Training Step: 309  | total loss: \u001b[1m\u001b[32m4.09497\u001b[0m\u001b[0m | time: 16.370s\n\u001b[2K\r| Adam | epoch: 001 | loss: 4.09497 -- iter: 06180/12630\n"
     ]
    },
    {
     "name": "stdout",
     "output_type": "stream",
     "text": [
      "Training Step: 310  | total loss: \u001b[1m\u001b[32m4.07799\u001b[0m\u001b[0m | time: 16.427s\n\u001b[2K\r| Adam | epoch: 001 | loss: 4.07799 -- iter: 06200/12630\n"
     ]
    },
    {
     "name": "stdout",
     "output_type": "stream",
     "text": [
      "Training Step: 311  | total loss: \u001b[1m\u001b[32m4.10947\u001b[0m\u001b[0m | time: 16.480s\n\u001b[2K\r| Adam | epoch: 001 | loss: 4.10947 -- iter: 06220/12630\n"
     ]
    },
    {
     "name": "stdout",
     "output_type": "stream",
     "text": [
      "Training Step: 312  | total loss: \u001b[1m\u001b[32m4.09132\u001b[0m\u001b[0m | time: 16.544s\n\u001b[2K\r| Adam | epoch: 001 | loss: 4.09132 -- iter: 06240/12630\n"
     ]
    },
    {
     "name": "stdout",
     "output_type": "stream",
     "text": [
      "Training Step: 313  | total loss: \u001b[1m\u001b[32m4.18473\u001b[0m\u001b[0m | time: 16.602s\n\u001b[2K\r| Adam | epoch: 001 | loss: 4.18473 -- iter: 06260/12630\n"
     ]
    },
    {
     "name": "stdout",
     "output_type": "stream",
     "text": [
      "Training Step: 314  | total loss: \u001b[1m\u001b[32m4.19349\u001b[0m\u001b[0m | time: 16.659s\n\u001b[2K\r| Adam | epoch: 001 | loss: 4.19349 -- iter: 06280/12630\n"
     ]
    },
    {
     "name": "stdout",
     "output_type": "stream",
     "text": [
      "Training Step: 315  | total loss: \u001b[1m\u001b[32m4.18244\u001b[0m\u001b[0m | time: 16.715s\n\u001b[2K\r| Adam | epoch: 001 | loss: 4.18244 -- iter: 06300/12630\n"
     ]
    },
    {
     "name": "stdout",
     "output_type": "stream",
     "text": [
      "Training Step: 316  | total loss: \u001b[1m\u001b[32m4.19980\u001b[0m\u001b[0m | time: 16.773s\n\u001b[2K\r| Adam | epoch: 001 | loss: 4.19980 -- iter: 06320/12630\n"
     ]
    },
    {
     "name": "stdout",
     "output_type": "stream",
     "text": [
      "Training Step: 317  | total loss: \u001b[1m\u001b[32m4.15760\u001b[0m\u001b[0m | time: 16.828s\n\u001b[2K\r| Adam | epoch: 001 | loss: 4.15760 -- iter: 06340/12630\n"
     ]
    },
    {
     "name": "stdout",
     "output_type": "stream",
     "text": [
      "Training Step: 318  | total loss: \u001b[1m\u001b[32m4.10517\u001b[0m\u001b[0m | time: 16.879s\n\u001b[2K\r| Adam | epoch: 001 | loss: 4.10517 -- iter: 06360/12630\n"
     ]
    },
    {
     "name": "stdout",
     "output_type": "stream",
     "text": [
      "Training Step: 319  | total loss: \u001b[1m\u001b[32m4.12953\u001b[0m\u001b[0m | time: 16.932s\n\u001b[2K\r| Adam | epoch: 001 | loss: 4.12953 -- iter: 06380/12630\n"
     ]
    },
    {
     "name": "stdout",
     "output_type": "stream",
     "text": [
      "Training Step: 320  | total loss: \u001b[1m\u001b[32m4.16280\u001b[0m\u001b[0m | time: 16.996s\n\u001b[2K\r| Adam | epoch: 001 | loss: 4.16280 -- iter: 06400/12630\n"
     ]
    },
    {
     "name": "stdout",
     "output_type": "stream",
     "text": [
      "Training Step: 321  | total loss: \u001b[1m\u001b[32m4.23044\u001b[0m\u001b[0m | time: 17.050s\n\u001b[2K\r| Adam | epoch: 001 | loss: 4.23044 -- iter: 06420/12630\n"
     ]
    },
    {
     "name": "stdout",
     "output_type": "stream",
     "text": [
      "Training Step: 322  | total loss: \u001b[1m\u001b[32m4.18291\u001b[0m\u001b[0m | time: 17.101s\n\u001b[2K\r| Adam | epoch: 001 | loss: 4.18291 -- iter: 06440/12630\n"
     ]
    },
    {
     "name": "stdout",
     "output_type": "stream",
     "text": [
      "Training Step: 323  | total loss: \u001b[1m\u001b[32m4.24633\u001b[0m\u001b[0m | time: 17.153s\n\u001b[2K\r| Adam | epoch: 001 | loss: 4.24633 -- iter: 06460/12630\n"
     ]
    },
    {
     "name": "stdout",
     "output_type": "stream",
     "text": [
      "Training Step: 324  | total loss: \u001b[1m\u001b[32m4.25075\u001b[0m\u001b[0m | time: 17.210s\n\u001b[2K\r| Adam | epoch: 001 | loss: 4.25075 -- iter: 06480/12630\n"
     ]
    },
    {
     "name": "stdout",
     "output_type": "stream",
     "text": [
      "Training Step: 325  | total loss: \u001b[1m\u001b[32m4.26224\u001b[0m\u001b[0m | time: 17.264s\n\u001b[2K\r| Adam | epoch: 001 | loss: 4.26224 -- iter: 06500/12630\n"
     ]
    },
    {
     "name": "stdout",
     "output_type": "stream",
     "text": [
      "Training Step: 326  | total loss: \u001b[1m\u001b[32m4.37107\u001b[0m\u001b[0m | time: 17.317s\n\u001b[2K\r| Adam | epoch: 001 | loss: 4.37107 -- iter: 06520/12630\n"
     ]
    },
    {
     "name": "stdout",
     "output_type": "stream",
     "text": [
      "Training Step: 327  | total loss: \u001b[1m\u001b[32m4.35162\u001b[0m\u001b[0m | time: 17.367s\n\u001b[2K\r| Adam | epoch: 001 | loss: 4.35162 -- iter: 06540/12630\n"
     ]
    },
    {
     "name": "stdout",
     "output_type": "stream",
     "text": [
      "Training Step: 328  | total loss: \u001b[1m\u001b[32m4.37231\u001b[0m\u001b[0m | time: 17.419s\n\u001b[2K\r| Adam | epoch: 001 | loss: 4.37231 -- iter: 06560/12630\n"
     ]
    },
    {
     "name": "stdout",
     "output_type": "stream",
     "text": [
      "Training Step: 329  | total loss: \u001b[1m\u001b[32m4.34133\u001b[0m\u001b[0m | time: 17.474s\n\u001b[2K\r| Adam | epoch: 001 | loss: 4.34133 -- iter: 06580/12630\n"
     ]
    },
    {
     "name": "stdout",
     "output_type": "stream",
     "text": [
      "Training Step: 330  | total loss: \u001b[1m\u001b[32m4.25258\u001b[0m\u001b[0m | time: 17.533s\n\u001b[2K\r| Adam | epoch: 001 | loss: 4.25258 -- iter: 06600/12630\n"
     ]
    },
    {
     "name": "stdout",
     "output_type": "stream",
     "text": [
      "Training Step: 331  | total loss: \u001b[1m\u001b[32m4.21073\u001b[0m\u001b[0m | time: 17.584s\n\u001b[2K\r| Adam | epoch: 001 | loss: 4.21073 -- iter: 06620/12630\n"
     ]
    },
    {
     "name": "stdout",
     "output_type": "stream",
     "text": [
      "Training Step: 332  | total loss: \u001b[1m\u001b[32m4.24251\u001b[0m\u001b[0m | time: 17.640s\n\u001b[2K\r| Adam | epoch: 001 | loss: 4.24251 -- iter: 06640/12630\n"
     ]
    },
    {
     "name": "stdout",
     "output_type": "stream",
     "text": [
      "Training Step: 333  | total loss: \u001b[1m\u001b[32m4.19752\u001b[0m\u001b[0m | time: 17.697s\n\u001b[2K\r| Adam | epoch: 001 | loss: 4.19752 -- iter: 06660/12630\n"
     ]
    },
    {
     "name": "stdout",
     "output_type": "stream",
     "text": [
      "Training Step: 334  | total loss: \u001b[1m\u001b[32m4.20050\u001b[0m\u001b[0m | time: 17.749s\n\u001b[2K\r| Adam | epoch: 001 | loss: 4.20050 -- iter: 06680/12630\n"
     ]
    },
    {
     "name": "stdout",
     "output_type": "stream",
     "text": [
      "Training Step: 335  | total loss: \u001b[1m\u001b[32m4.18769\u001b[0m\u001b[0m | time: 17.805s\n\u001b[2K\r| Adam | epoch: 001 | loss: 4.18769 -- iter: 06700/12630\n"
     ]
    },
    {
     "name": "stdout",
     "output_type": "stream",
     "text": [
      "Training Step: 336  | total loss: \u001b[1m\u001b[32m4.22586\u001b[0m\u001b[0m | time: 17.857s\n\u001b[2K\r| Adam | epoch: 001 | loss: 4.22586 -- iter: 06720/12630\n"
     ]
    },
    {
     "name": "stdout",
     "output_type": "stream",
     "text": [
      "Training Step: 337  | total loss: \u001b[1m\u001b[32m4.20050\u001b[0m\u001b[0m | time: 17.911s\n\u001b[2K\r| Adam | epoch: 001 | loss: 4.20050 -- iter: 06740/12630\n"
     ]
    },
    {
     "name": "stdout",
     "output_type": "stream",
     "text": [
      "Training Step: 338  | total loss: \u001b[1m\u001b[32m4.14789\u001b[0m\u001b[0m | time: 17.964s\n\u001b[2K\r| Adam | epoch: 001 | loss: 4.14789 -- iter: 06760/12630\n"
     ]
    },
    {
     "name": "stdout",
     "output_type": "stream",
     "text": [
      "Training Step: 339  | total loss: \u001b[1m\u001b[32m4.18171\u001b[0m\u001b[0m | time: 18.016s\n\u001b[2K\r| Adam | epoch: 001 | loss: 4.18171 -- iter: 06780/12630\n"
     ]
    },
    {
     "name": "stdout",
     "output_type": "stream",
     "text": [
      "Training Step: 340  | total loss: \u001b[1m\u001b[32m4.19948\u001b[0m\u001b[0m | time: 18.068s\n\u001b[2K\r| Adam | epoch: 001 | loss: 4.19948 -- iter: 06800/12630\n"
     ]
    },
    {
     "name": "stdout",
     "output_type": "stream",
     "text": [
      "Training Step: 341  | total loss: \u001b[1m\u001b[32m4.29775\u001b[0m\u001b[0m | time: 18.117s\n\u001b[2K\r| Adam | epoch: 001 | loss: 4.29775 -- iter: 06820/12630\n"
     ]
    },
    {
     "name": "stdout",
     "output_type": "stream",
     "text": [
      "Training Step: 342  | total loss: \u001b[1m\u001b[32m4.25096\u001b[0m\u001b[0m | time: 18.171s\n\u001b[2K\r| Adam | epoch: 001 | loss: 4.25096 -- iter: 06840/12630\n"
     ]
    },
    {
     "name": "stdout",
     "output_type": "stream",
     "text": [
      "Training Step: 343  | total loss: \u001b[1m\u001b[32m4.25546\u001b[0m\u001b[0m | time: 18.222s\n\u001b[2K\r| Adam | epoch: 001 | loss: 4.25546 -- iter: 06860/12630\n"
     ]
    },
    {
     "name": "stdout",
     "output_type": "stream",
     "text": [
      "Training Step: 344  | total loss: \u001b[1m\u001b[32m4.26485\u001b[0m\u001b[0m | time: 18.272s\n\u001b[2K\r| Adam | epoch: 001 | loss: 4.26485 -- iter: 06880/12630\n"
     ]
    },
    {
     "name": "stdout",
     "output_type": "stream",
     "text": [
      "Training Step: 345  | total loss: \u001b[1m\u001b[32m4.21800\u001b[0m\u001b[0m | time: 18.329s\n\u001b[2K\r| Adam | epoch: 001 | loss: 4.21800 -- iter: 06900/12630\n"
     ]
    },
    {
     "name": "stdout",
     "output_type": "stream",
     "text": [
      "Training Step: 346  | total loss: \u001b[1m\u001b[32m4.26663\u001b[0m\u001b[0m | time: 18.379s\n\u001b[2K\r| Adam | epoch: 001 | loss: 4.26663 -- iter: 06920/12630\n"
     ]
    },
    {
     "name": "stdout",
     "output_type": "stream",
     "text": [
      "Training Step: 347  | total loss: \u001b[1m\u001b[32m4.20343\u001b[0m\u001b[0m | time: 18.434s\n\u001b[2K\r| Adam | epoch: 001 | loss: 4.20343 -- iter: 06940/12630\n"
     ]
    },
    {
     "name": "stdout",
     "output_type": "stream",
     "text": [
      "Training Step: 348  | total loss: \u001b[1m\u001b[32m4.19867\u001b[0m\u001b[0m | time: 18.489s\n\u001b[2K\r| Adam | epoch: 001 | loss: 4.19867 -- iter: 06960/12630\n"
     ]
    },
    {
     "name": "stdout",
     "output_type": "stream",
     "text": [
      "Training Step: 349  | total loss: \u001b[1m\u001b[32m4.17233\u001b[0m\u001b[0m | time: 18.542s\n\u001b[2K\r| Adam | epoch: 001 | loss: 4.17233 -- iter: 06980/12630\n"
     ]
    },
    {
     "name": "stdout",
     "output_type": "stream",
     "text": [
      "Training Step: 350  | total loss: \u001b[1m\u001b[32m4.07337\u001b[0m\u001b[0m | time: 18.596s\n\u001b[2K\r| Adam | epoch: 001 | loss: 4.07337 -- iter: 07000/12630\n"
     ]
    },
    {
     "name": "stdout",
     "output_type": "stream",
     "text": [
      "Training Step: 351  | total loss: \u001b[1m\u001b[32m4.07441\u001b[0m\u001b[0m | time: 18.651s\n\u001b[2K\r| Adam | epoch: 001 | loss: 4.07441 -- iter: 07020/12630\n"
     ]
    },
    {
     "name": "stdout",
     "output_type": "stream",
     "text": [
      "Training Step: 352  | total loss: \u001b[1m\u001b[32m4.12445\u001b[0m\u001b[0m | time: 18.705s\n\u001b[2K\r| Adam | epoch: 001 | loss: 4.12445 -- iter: 07040/12630\n"
     ]
    },
    {
     "name": "stdout",
     "output_type": "stream",
     "text": [
      "Training Step: 353  | total loss: \u001b[1m\u001b[32m4.13499\u001b[0m\u001b[0m | time: 18.760s\n\u001b[2K\r| Adam | epoch: 001 | loss: 4.13499 -- iter: 07060/12630\n"
     ]
    },
    {
     "name": "stdout",
     "output_type": "stream",
     "text": [
      "Training Step: 354  | total loss: \u001b[1m\u001b[32m4.14643\u001b[0m\u001b[0m | time: 18.816s\n\u001b[2K\r| Adam | epoch: 001 | loss: 4.14643 -- iter: 07080/12630\n"
     ]
    },
    {
     "name": "stdout",
     "output_type": "stream",
     "text": [
      "Training Step: 355  | total loss: \u001b[1m\u001b[32m4.11546\u001b[0m\u001b[0m | time: 18.871s\n\u001b[2K\r| Adam | epoch: 001 | loss: 4.11546 -- iter: 07100/12630\n"
     ]
    },
    {
     "name": "stdout",
     "output_type": "stream",
     "text": [
      "Training Step: 356  | total loss: \u001b[1m\u001b[32m4.07276\u001b[0m\u001b[0m | time: 18.924s\n\u001b[2K\r| Adam | epoch: 001 | loss: 4.07276 -- iter: 07120/12630\n"
     ]
    },
    {
     "name": "stdout",
     "output_type": "stream",
     "text": [
      "Training Step: 357  | total loss: \u001b[1m\u001b[32m4.11955\u001b[0m\u001b[0m | time: 18.974s\n\u001b[2K\r| Adam | epoch: 001 | loss: 4.11955 -- iter: 07140/12630\n"
     ]
    },
    {
     "name": "stdout",
     "output_type": "stream",
     "text": [
      "Training Step: 358  | total loss: \u001b[1m\u001b[32m4.20404\u001b[0m\u001b[0m | time: 19.027s\n\u001b[2K\r| Adam | epoch: 001 | loss: 4.20404 -- iter: 07160/12630\n"
     ]
    },
    {
     "name": "stdout",
     "output_type": "stream",
     "text": [
      "Training Step: 359  | total loss: \u001b[1m\u001b[32m4.22692\u001b[0m\u001b[0m | time: 19.087s\n\u001b[2K\r| Adam | epoch: 001 | loss: 4.22692 -- iter: 07180/12630\n"
     ]
    },
    {
     "name": "stdout",
     "output_type": "stream",
     "text": [
      "Training Step: 360  | total loss: \u001b[1m\u001b[32m4.18999\u001b[0m\u001b[0m | time: 19.143s\n\u001b[2K\r| Adam | epoch: 001 | loss: 4.18999 -- iter: 07200/12630\n"
     ]
    },
    {
     "name": "stdout",
     "output_type": "stream",
     "text": [
      "Training Step: 361  | total loss: \u001b[1m\u001b[32m4.16870\u001b[0m\u001b[0m | time: 19.203s\n\u001b[2K\r| Adam | epoch: 001 | loss: 4.16870 -- iter: 07220/12630\n"
     ]
    },
    {
     "name": "stdout",
     "output_type": "stream",
     "text": [
      "Training Step: 362  | total loss: \u001b[1m\u001b[32m4.29331\u001b[0m\u001b[0m | time: 19.257s\n\u001b[2K\r| Adam | epoch: 001 | loss: 4.29331 -- iter: 07240/12630\n"
     ]
    },
    {
     "name": "stdout",
     "output_type": "stream",
     "text": [
      "Training Step: 363  | total loss: \u001b[1m\u001b[32m4.26262\u001b[0m\u001b[0m | time: 19.307s\n\u001b[2K\r| Adam | epoch: 001 | loss: 4.26262 -- iter: 07260/12630\n"
     ]
    },
    {
     "name": "stdout",
     "output_type": "stream",
     "text": [
      "Training Step: 364  | total loss: \u001b[1m\u001b[32m4.25419\u001b[0m\u001b[0m | time: 19.357s\n\u001b[2K\r| Adam | epoch: 001 | loss: 4.25419 -- iter: 07280/12630\n"
     ]
    },
    {
     "name": "stdout",
     "output_type": "stream",
     "text": [
      "Training Step: 365  | total loss: \u001b[1m\u001b[32m4.21968\u001b[0m\u001b[0m | time: 19.411s\n\u001b[2K\r| Adam | epoch: 001 | loss: 4.21968 -- iter: 07300/12630\n"
     ]
    },
    {
     "name": "stdout",
     "output_type": "stream",
     "text": [
      "Training Step: 366  | total loss: \u001b[1m\u001b[32m4.22757\u001b[0m\u001b[0m | time: 19.465s\n\u001b[2K\r| Adam | epoch: 001 | loss: 4.22757 -- iter: 07320/12630\n"
     ]
    },
    {
     "name": "stdout",
     "output_type": "stream",
     "text": [
      "Training Step: 367  | total loss: \u001b[1m\u001b[32m4.19652\u001b[0m\u001b[0m | time: 19.522s\n\u001b[2K\r| Adam | epoch: 001 | loss: 4.19652 -- iter: 07340/12630\n"
     ]
    },
    {
     "name": "stdout",
     "output_type": "stream",
     "text": [
      "Training Step: 368  | total loss: \u001b[1m\u001b[32m4.14620\u001b[0m\u001b[0m | time: 19.582s\n\u001b[2K\r| Adam | epoch: 001 | loss: 4.14620 -- iter: 07360/12630\n"
     ]
    },
    {
     "name": "stdout",
     "output_type": "stream",
     "text": [
      "Training Step: 369  | total loss: \u001b[1m\u001b[32m4.17091\u001b[0m\u001b[0m | time: 19.641s\n\u001b[2K\r| Adam | epoch: 001 | loss: 4.17091 -- iter: 07380/12630\n"
     ]
    },
    {
     "name": "stdout",
     "output_type": "stream",
     "text": [
      "Training Step: 370  | total loss: \u001b[1m\u001b[32m4.15480\u001b[0m\u001b[0m | time: 19.699s\n\u001b[2K\r| Adam | epoch: 001 | loss: 4.15480 -- iter: 07400/12630\n"
     ]
    },
    {
     "name": "stdout",
     "output_type": "stream",
     "text": [
      "Training Step: 371  | total loss: \u001b[1m\u001b[32m4.15979\u001b[0m\u001b[0m | time: 19.759s\n\u001b[2K\r| Adam | epoch: 001 | loss: 4.15979 -- iter: 07420/12630\n"
     ]
    },
    {
     "name": "stdout",
     "output_type": "stream",
     "text": [
      "Training Step: 372  | total loss: \u001b[1m\u001b[32m4.15410\u001b[0m\u001b[0m | time: 19.816s\n\u001b[2K\r| Adam | epoch: 001 | loss: 4.15410 -- iter: 07440/12630\n"
     ]
    },
    {
     "name": "stdout",
     "output_type": "stream",
     "text": [
      "Training Step: 373  | total loss: \u001b[1m\u001b[32m4.13338\u001b[0m\u001b[0m | time: 19.870s\n\u001b[2K\r| Adam | epoch: 001 | loss: 4.13338 -- iter: 07460/12630\n"
     ]
    },
    {
     "name": "stdout",
     "output_type": "stream",
     "text": [
      "Training Step: 374  | total loss: \u001b[1m\u001b[32m4.15838\u001b[0m\u001b[0m | time: 19.922s\n\u001b[2K\r| Adam | epoch: 001 | loss: 4.15838 -- iter: 07480/12630\n"
     ]
    },
    {
     "name": "stdout",
     "output_type": "stream",
     "text": [
      "Training Step: 375  | total loss: \u001b[1m\u001b[32m4.10554\u001b[0m\u001b[0m | time: 19.981s\n\u001b[2K\r| Adam | epoch: 001 | loss: 4.10554 -- iter: 07500/12630\n"
     ]
    },
    {
     "name": "stdout",
     "output_type": "stream",
     "text": [
      "Training Step: 376  | total loss: \u001b[1m\u001b[32m4.14965\u001b[0m\u001b[0m | time: 20.033s\n\u001b[2K\r| Adam | epoch: 001 | loss: 4.14965 -- iter: 07520/12630\n"
     ]
    },
    {
     "name": "stdout",
     "output_type": "stream",
     "text": [
      "Training Step: 377  | total loss: \u001b[1m\u001b[32m4.14197\u001b[0m\u001b[0m | time: 20.083s\n\u001b[2K\r| Adam | epoch: 001 | loss: 4.14197 -- iter: 07540/12630\n"
     ]
    },
    {
     "name": "stdout",
     "output_type": "stream",
     "text": [
      "Training Step: 378  | total loss: \u001b[1m\u001b[32m4.11306\u001b[0m\u001b[0m | time: 20.134s\n\u001b[2K\r| Adam | epoch: 001 | loss: 4.11306 -- iter: 07560/12630\n"
     ]
    },
    {
     "name": "stdout",
     "output_type": "stream",
     "text": [
      "Training Step: 379  | total loss: \u001b[1m\u001b[32m4.08190\u001b[0m\u001b[0m | time: 20.186s\n\u001b[2K\r| Adam | epoch: 001 | loss: 4.08190 -- iter: 07580/12630\n"
     ]
    },
    {
     "name": "stdout",
     "output_type": "stream",
     "text": [
      "Training Step: 380  | total loss: \u001b[1m\u001b[32m4.19083\u001b[0m\u001b[0m | time: 20.238s\n\u001b[2K\r| Adam | epoch: 001 | loss: 4.19083 -- iter: 07600/12630\n"
     ]
    },
    {
     "name": "stdout",
     "output_type": "stream",
     "text": [
      "Training Step: 381  | total loss: \u001b[1m\u001b[32m4.25655\u001b[0m\u001b[0m | time: 20.294s\n\u001b[2K\r| Adam | epoch: 001 | loss: 4.25655 -- iter: 07620/12630\n"
     ]
    },
    {
     "name": "stdout",
     "output_type": "stream",
     "text": [
      "Training Step: 382  | total loss: \u001b[1m\u001b[32m4.33301\u001b[0m\u001b[0m | time: 20.349s\n\u001b[2K\r| Adam | epoch: 001 | loss: 4.33301 -- iter: 07640/12630\n"
     ]
    },
    {
     "name": "stdout",
     "output_type": "stream",
     "text": [
      "Training Step: 383  | total loss: \u001b[1m\u001b[32m4.32493\u001b[0m\u001b[0m | time: 20.405s\n\u001b[2K\r| Adam | epoch: 001 | loss: 4.32493 -- iter: 07660/12630\n"
     ]
    },
    {
     "name": "stdout",
     "output_type": "stream",
     "text": [
      "Training Step: 384  | total loss: \u001b[1m\u001b[32m4.27942\u001b[0m\u001b[0m | time: 20.461s\n\u001b[2K\r| Adam | epoch: 001 | loss: 4.27942 -- iter: 07680/12630\n"
     ]
    },
    {
     "name": "stdout",
     "output_type": "stream",
     "text": [
      "Training Step: 385  | total loss: \u001b[1m\u001b[32m4.20711\u001b[0m\u001b[0m | time: 20.514s\n\u001b[2K\r| Adam | epoch: 001 | loss: 4.20711 -- iter: 07700/12630\n"
     ]
    },
    {
     "name": "stdout",
     "output_type": "stream",
     "text": [
      "Training Step: 386  | total loss: \u001b[1m\u001b[32m4.15263\u001b[0m\u001b[0m | time: 20.563s\n\u001b[2K\r| Adam | epoch: 001 | loss: 4.15263 -- iter: 07720/12630\n"
     ]
    },
    {
     "name": "stdout",
     "output_type": "stream",
     "text": [
      "Training Step: 387  | total loss: \u001b[1m\u001b[32m4.19168\u001b[0m\u001b[0m | time: 20.619s\n\u001b[2K\r| Adam | epoch: 001 | loss: 4.19168 -- iter: 07740/12630\n"
     ]
    },
    {
     "name": "stdout",
     "output_type": "stream",
     "text": [
      "Training Step: 388  | total loss: \u001b[1m\u001b[32m4.13071\u001b[0m\u001b[0m | time: 20.669s\n\u001b[2K\r| Adam | epoch: 001 | loss: 4.13071 -- iter: 07760/12630\n"
     ]
    },
    {
     "name": "stdout",
     "output_type": "stream",
     "text": [
      "Training Step: 389  | total loss: \u001b[1m\u001b[32m4.21985\u001b[0m\u001b[0m | time: 20.721s\n\u001b[2K\r| Adam | epoch: 001 | loss: 4.21985 -- iter: 07780/12630\n"
     ]
    },
    {
     "name": "stdout",
     "output_type": "stream",
     "text": [
      "Training Step: 390  | total loss: \u001b[1m\u001b[32m4.15970\u001b[0m\u001b[0m | time: 20.783s\n\u001b[2K\r| Adam | epoch: 001 | loss: 4.15970 -- iter: 07800/12630\n"
     ]
    },
    {
     "name": "stdout",
     "output_type": "stream",
     "text": [
      "Training Step: 391  | total loss: \u001b[1m\u001b[32m4.15459\u001b[0m\u001b[0m | time: 20.839s\n\u001b[2K\r| Adam | epoch: 001 | loss: 4.15459 -- iter: 07820/12630\n"
     ]
    },
    {
     "name": "stdout",
     "output_type": "stream",
     "text": [
      "Training Step: 392  | total loss: \u001b[1m\u001b[32m4.13671\u001b[0m\u001b[0m | time: 20.896s\n\u001b[2K\r| Adam | epoch: 001 | loss: 4.13671 -- iter: 07840/12630\n"
     ]
    },
    {
     "name": "stdout",
     "output_type": "stream",
     "text": [
      "Training Step: 393  | total loss: \u001b[1m\u001b[32m4.17512\u001b[0m\u001b[0m | time: 20.954s\n\u001b[2K\r| Adam | epoch: 001 | loss: 4.17512 -- iter: 07860/12630\n"
     ]
    },
    {
     "name": "stdout",
     "output_type": "stream",
     "text": [
      "Training Step: 394  | total loss: \u001b[1m\u001b[32m4.18218\u001b[0m\u001b[0m | time: 21.011s\n\u001b[2K\r| Adam | epoch: 001 | loss: 4.18218 -- iter: 07880/12630\n"
     ]
    },
    {
     "name": "stdout",
     "output_type": "stream",
     "text": [
      "Training Step: 395  | total loss: \u001b[1m\u001b[32m4.15367\u001b[0m\u001b[0m | time: 21.069s\n\u001b[2K\r| Adam | epoch: 001 | loss: 4.15367 -- iter: 07900/12630\n"
     ]
    },
    {
     "name": "stdout",
     "output_type": "stream",
     "text": [
      "Training Step: 396  | total loss: \u001b[1m\u001b[32m4.07338\u001b[0m\u001b[0m | time: 21.129s\n\u001b[2K\r| Adam | epoch: 001 | loss: 4.07338 -- iter: 07920/12630\n"
     ]
    },
    {
     "name": "stdout",
     "output_type": "stream",
     "text": [
      "Training Step: 397  | total loss: \u001b[1m\u001b[32m4.03220\u001b[0m\u001b[0m | time: 21.185s\n\u001b[2K\r| Adam | epoch: 001 | loss: 4.03220 -- iter: 07940/12630\n"
     ]
    },
    {
     "name": "stdout",
     "output_type": "stream",
     "text": [
      "Training Step: 398  | total loss: \u001b[1m\u001b[32m4.13214\u001b[0m\u001b[0m | time: 21.239s\n\u001b[2K\r| Adam | epoch: 001 | loss: 4.13214 -- iter: 07960/12630\n"
     ]
    },
    {
     "name": "stdout",
     "output_type": "stream",
     "text": [
      "Training Step: 399  | total loss: \u001b[1m\u001b[32m4.10397\u001b[0m\u001b[0m | time: 21.293s\n\u001b[2K\r| Adam | epoch: 001 | loss: 4.10397 -- iter: 07980/12630\n"
     ]
    },
    {
     "name": "stdout",
     "output_type": "stream",
     "text": [
      "Training Step: 400  | total loss: \u001b[1m\u001b[32m4.15039\u001b[0m\u001b[0m | time: 21.344s\n\u001b[2K\r| Adam | epoch: 001 | loss: 4.15039 -- iter: 08000/12630\n"
     ]
    },
    {
     "name": "stdout",
     "output_type": "stream",
     "text": [
      "Training Step: 401  | total loss: \u001b[1m\u001b[32m4.10890\u001b[0m\u001b[0m | time: 21.395s\n\u001b[2K\r| Adam | epoch: 001 | loss: 4.10890 -- iter: 08020/12630\n"
     ]
    },
    {
     "name": "stdout",
     "output_type": "stream",
     "text": [
      "Training Step: 402  | total loss: \u001b[1m\u001b[32m4.04274\u001b[0m\u001b[0m | time: 21.448s\n\u001b[2K\r| Adam | epoch: 001 | loss: 4.04274 -- iter: 08040/12630\n"
     ]
    },
    {
     "name": "stdout",
     "output_type": "stream",
     "text": [
      "Training Step: 403  | total loss: \u001b[1m\u001b[32m4.01889\u001b[0m\u001b[0m | time: 21.504s\n\u001b[2K\r| Adam | epoch: 001 | loss: 4.01889 -- iter: 08060/12630\n"
     ]
    },
    {
     "name": "stdout",
     "output_type": "stream",
     "text": [
      "Training Step: 404  | total loss: \u001b[1m\u001b[32m4.01842\u001b[0m\u001b[0m | time: 21.557s\n\u001b[2K\r| Adam | epoch: 001 | loss: 4.01842 -- iter: 08080/12630\n"
     ]
    },
    {
     "name": "stdout",
     "output_type": "stream",
     "text": [
      "Training Step: 405  | total loss: \u001b[1m\u001b[32m4.00418\u001b[0m\u001b[0m | time: 21.606s\n\u001b[2K\r| Adam | epoch: 001 | loss: 4.00418 -- iter: 08100/12630\n"
     ]
    },
    {
     "name": "stdout",
     "output_type": "stream",
     "text": [
      "Training Step: 406  | total loss: \u001b[1m\u001b[32m4.03619\u001b[0m\u001b[0m | time: 21.667s\n\u001b[2K\r| Adam | epoch: 001 | loss: 4.03619 -- iter: 08120/12630\n"
     ]
    },
    {
     "name": "stdout",
     "output_type": "stream",
     "text": [
      "Training Step: 407  | total loss: \u001b[1m\u001b[32m4.08182\u001b[0m\u001b[0m | time: 21.718s\n\u001b[2K\r| Adam | epoch: 001 | loss: 4.08182 -- iter: 08140/12630\n"
     ]
    },
    {
     "name": "stdout",
     "output_type": "stream",
     "text": [
      "Training Step: 408  | total loss: \u001b[1m\u001b[32m4.09921\u001b[0m\u001b[0m | time: 21.773s\n\u001b[2K\r| Adam | epoch: 001 | loss: 4.09921 -- iter: 08160/12630\n"
     ]
    },
    {
     "name": "stdout",
     "output_type": "stream",
     "text": [
      "Training Step: 409  | total loss: \u001b[1m\u001b[32m4.10745\u001b[0m\u001b[0m | time: 21.826s\n\u001b[2K\r| Adam | epoch: 001 | loss: 4.10745 -- iter: 08180/12630\n"
     ]
    },
    {
     "name": "stdout",
     "output_type": "stream",
     "text": [
      "Training Step: 410  | total loss: \u001b[1m\u001b[32m4.07681\u001b[0m\u001b[0m | time: 21.878s\n\u001b[2K\r| Adam | epoch: 001 | loss: 4.07681 -- iter: 08200/12630\n"
     ]
    },
    {
     "name": "stdout",
     "output_type": "stream",
     "text": [
      "Training Step: 411  | total loss: \u001b[1m\u001b[32m4.14076\u001b[0m\u001b[0m | time: 21.930s\n\u001b[2K\r| Adam | epoch: 001 | loss: 4.14076 -- iter: 08220/12630\n"
     ]
    },
    {
     "name": "stdout",
     "output_type": "stream",
     "text": [
      "Training Step: 412  | total loss: \u001b[1m\u001b[32m4.15942\u001b[0m\u001b[0m | time: 21.982s\n\u001b[2K\r| Adam | epoch: 001 | loss: 4.15942 -- iter: 08240/12630\n"
     ]
    },
    {
     "name": "stdout",
     "output_type": "stream",
     "text": [
      "Training Step: 413  | total loss: \u001b[1m\u001b[32m4.14629\u001b[0m\u001b[0m | time: 22.039s\n\u001b[2K\r| Adam | epoch: 001 | loss: 4.14629 -- iter: 08260/12630\n"
     ]
    },
    {
     "name": "stdout",
     "output_type": "stream",
     "text": [
      "Training Step: 414  | total loss: \u001b[1m\u001b[32m4.09903\u001b[0m\u001b[0m | time: 22.090s\n\u001b[2K\r| Adam | epoch: 001 | loss: 4.09903 -- iter: 08280/12630\n"
     ]
    },
    {
     "name": "stdout",
     "output_type": "stream",
     "text": [
      "Training Step: 415  | total loss: \u001b[1m\u001b[32m4.10842\u001b[0m\u001b[0m | time: 22.137s\n\u001b[2K\r| Adam | epoch: 001 | loss: 4.10842 -- iter: 08300/12630\n"
     ]
    },
    {
     "name": "stdout",
     "output_type": "stream",
     "text": [
      "Training Step: 416  | total loss: \u001b[1m\u001b[32m4.20963\u001b[0m\u001b[0m | time: 22.185s\n\u001b[2K\r| Adam | epoch: 001 | loss: 4.20963 -- iter: 08320/12630\n"
     ]
    },
    {
     "name": "stdout",
     "output_type": "stream",
     "text": [
      "Training Step: 417  | total loss: \u001b[1m\u001b[32m4.16727\u001b[0m\u001b[0m | time: 22.234s\n\u001b[2K\r| Adam | epoch: 001 | loss: 4.16727 -- iter: 08340/12630\n"
     ]
    },
    {
     "name": "stdout",
     "output_type": "stream",
     "text": [
      "Training Step: 418  | total loss: \u001b[1m\u001b[32m4.14668\u001b[0m\u001b[0m | time: 22.289s\n\u001b[2K\r| Adam | epoch: 001 | loss: 4.14668 -- iter: 08360/12630\n"
     ]
    },
    {
     "name": "stdout",
     "output_type": "stream",
     "text": [
      "Training Step: 419  | total loss: \u001b[1m\u001b[32m4.19312\u001b[0m\u001b[0m | time: 22.343s\n\u001b[2K\r| Adam | epoch: 001 | loss: 4.19312 -- iter: 08380/12630\n"
     ]
    },
    {
     "name": "stdout",
     "output_type": "stream",
     "text": [
      "Training Step: 420  | total loss: \u001b[1m\u001b[32m4.19987\u001b[0m\u001b[0m | time: 22.395s\n\u001b[2K\r| Adam | epoch: 001 | loss: 4.19987 -- iter: 08400/12630\n"
     ]
    },
    {
     "name": "stdout",
     "output_type": "stream",
     "text": [
      "Training Step: 421  | total loss: \u001b[1m\u001b[32m4.16269\u001b[0m\u001b[0m | time: 22.453s\n\u001b[2K\r| Adam | epoch: 001 | loss: 4.16269 -- iter: 08420/12630\n"
     ]
    },
    {
     "name": "stdout",
     "output_type": "stream",
     "text": [
      "Training Step: 422  | total loss: \u001b[1m\u001b[32m4.25209\u001b[0m\u001b[0m | time: 22.516s\n\u001b[2K\r| Adam | epoch: 001 | loss: 4.25209 -- iter: 08440/12630\n"
     ]
    },
    {
     "name": "stdout",
     "output_type": "stream",
     "text": [
      "Training Step: 423  | total loss: \u001b[1m\u001b[32m4.19029\u001b[0m\u001b[0m | time: 22.582s\n\u001b[2K\r| Adam | epoch: 001 | loss: 4.19029 -- iter: 08460/12630\n"
     ]
    },
    {
     "name": "stdout",
     "output_type": "stream",
     "text": [
      "Training Step: 424  | total loss: \u001b[1m\u001b[32m4.24040\u001b[0m\u001b[0m | time: 22.642s\n\u001b[2K\r| Adam | epoch: 001 | loss: 4.24040 -- iter: 08480/12630\n"
     ]
    },
    {
     "name": "stdout",
     "output_type": "stream",
     "text": [
      "Training Step: 425  | total loss: \u001b[1m\u001b[32m4.21179\u001b[0m\u001b[0m | time: 22.701s\n\u001b[2K\r| Adam | epoch: 001 | loss: 4.21179 -- iter: 08500/12630\n"
     ]
    },
    {
     "name": "stdout",
     "output_type": "stream",
     "text": [
      "Training Step: 426  | total loss: \u001b[1m\u001b[32m4.16164\u001b[0m\u001b[0m | time: 22.759s\n\u001b[2K\r| Adam | epoch: 001 | loss: 4.16164 -- iter: 08520/12630\n"
     ]
    },
    {
     "name": "stdout",
     "output_type": "stream",
     "text": [
      "Training Step: 427  | total loss: \u001b[1m\u001b[32m4.10686\u001b[0m\u001b[0m | time: 22.811s\n\u001b[2K\r| Adam | epoch: 001 | loss: 4.10686 -- iter: 08540/12630\n"
     ]
    },
    {
     "name": "stdout",
     "output_type": "stream",
     "text": [
      "Training Step: 428  | total loss: \u001b[1m\u001b[32m4.13010\u001b[0m\u001b[0m | time: 22.864s\n\u001b[2K\r| Adam | epoch: 001 | loss: 4.13010 -- iter: 08560/12630\n"
     ]
    },
    {
     "name": "stdout",
     "output_type": "stream",
     "text": [
      "Training Step: 429  | total loss: \u001b[1m\u001b[32m4.10736\u001b[0m\u001b[0m | time: 22.911s\n\u001b[2K\r| Adam | epoch: 001 | loss: 4.10736 -- iter: 08580/12630\n"
     ]
    },
    {
     "name": "stdout",
     "output_type": "stream",
     "text": [
      "Training Step: 430  | total loss: \u001b[1m\u001b[32m4.09957\u001b[0m\u001b[0m | time: 22.968s\n\u001b[2K\r| Adam | epoch: 001 | loss: 4.09957 -- iter: 08600/12630\n"
     ]
    },
    {
     "name": "stdout",
     "output_type": "stream",
     "text": [
      "Training Step: 431  | total loss: \u001b[1m\u001b[32m4.08562\u001b[0m\u001b[0m | time: 23.021s\n\u001b[2K\r| Adam | epoch: 001 | loss: 4.08562 -- iter: 08620/12630\n"
     ]
    },
    {
     "name": "stdout",
     "output_type": "stream",
     "text": [
      "Training Step: 432  | total loss: \u001b[1m\u001b[32m4.13154\u001b[0m\u001b[0m | time: 23.078s\n\u001b[2K\r| Adam | epoch: 001 | loss: 4.13154 -- iter: 08640/12630\n"
     ]
    },
    {
     "name": "stdout",
     "output_type": "stream",
     "text": [
      "Training Step: 433  | total loss: \u001b[1m\u001b[32m4.08721\u001b[0m\u001b[0m | time: 23.129s\n\u001b[2K\r| Adam | epoch: 001 | loss: 4.08721 -- iter: 08660/12630\n"
     ]
    },
    {
     "name": "stdout",
     "output_type": "stream",
     "text": [
      "Training Step: 434  | total loss: \u001b[1m\u001b[32m4.01797\u001b[0m\u001b[0m | time: 23.181s\n\u001b[2K\r| Adam | epoch: 001 | loss: 4.01797 -- iter: 08680/12630\n"
     ]
    },
    {
     "name": "stdout",
     "output_type": "stream",
     "text": [
      "Training Step: 435  | total loss: \u001b[1m\u001b[32m4.02244\u001b[0m\u001b[0m | time: 23.233s\n\u001b[2K\r| Adam | epoch: 001 | loss: 4.02244 -- iter: 08700/12630\n"
     ]
    },
    {
     "name": "stdout",
     "output_type": "stream",
     "text": [
      "Training Step: 436  | total loss: \u001b[1m\u001b[32m4.11462\u001b[0m\u001b[0m | time: 23.289s\n\u001b[2K\r| Adam | epoch: 001 | loss: 4.11462 -- iter: 08720/12630\n"
     ]
    },
    {
     "name": "stdout",
     "output_type": "stream",
     "text": [
      "Training Step: 437  | total loss: \u001b[1m\u001b[32m4.13872\u001b[0m\u001b[0m | time: 23.337s\n\u001b[2K\r| Adam | epoch: 001 | loss: 4.13872 -- iter: 08740/12630\n"
     ]
    },
    {
     "name": "stdout",
     "output_type": "stream",
     "text": [
      "Training Step: 438  | total loss: \u001b[1m\u001b[32m4.22680\u001b[0m\u001b[0m | time: 23.393s\n\u001b[2K\r| Adam | epoch: 001 | loss: 4.22680 -- iter: 08760/12630\n"
     ]
    },
    {
     "name": "stdout",
     "output_type": "stream",
     "text": [
      "Training Step: 439  | total loss: \u001b[1m\u001b[32m4.20587\u001b[0m\u001b[0m | time: 23.448s\n\u001b[2K\r| Adam | epoch: 001 | loss: 4.20587 -- iter: 08780/12630\n"
     ]
    },
    {
     "name": "stdout",
     "output_type": "stream",
     "text": [
      "Training Step: 440  | total loss: \u001b[1m\u001b[32m4.26755\u001b[0m\u001b[0m | time: 23.502s\n\u001b[2K\r| Adam | epoch: 001 | loss: 4.26755 -- iter: 08800/12630\n"
     ]
    },
    {
     "name": "stdout",
     "output_type": "stream",
     "text": [
      "Training Step: 441  | total loss: \u001b[1m\u001b[32m4.23405\u001b[0m\u001b[0m | time: 23.559s\n\u001b[2K\r| Adam | epoch: 001 | loss: 4.23405 -- iter: 08820/12630\n"
     ]
    },
    {
     "name": "stdout",
     "output_type": "stream",
     "text": [
      "Training Step: 442  | total loss: \u001b[1m\u001b[32m4.19125\u001b[0m\u001b[0m | time: 23.610s\n\u001b[2K\r| Adam | epoch: 001 | loss: 4.19125 -- iter: 08840/12630\n"
     ]
    },
    {
     "name": "stdout",
     "output_type": "stream",
     "text": [
      "Training Step: 443  | total loss: \u001b[1m\u001b[32m4.26132\u001b[0m\u001b[0m | time: 23.665s\n\u001b[2K\r| Adam | epoch: 001 | loss: 4.26132 -- iter: 08860/12630\n"
     ]
    },
    {
     "name": "stdout",
     "output_type": "stream",
     "text": [
      "Training Step: 444  | total loss: \u001b[1m\u001b[32m4.27365\u001b[0m\u001b[0m | time: 23.719s\n\u001b[2K\r| Adam | epoch: 001 | loss: 4.27365 -- iter: 08880/12630\n"
     ]
    },
    {
     "name": "stdout",
     "output_type": "stream",
     "text": [
      "Training Step: 445  | total loss: \u001b[1m\u001b[32m4.21806\u001b[0m\u001b[0m | time: 23.775s\n\u001b[2K\r| Adam | epoch: 001 | loss: 4.21806 -- iter: 08900/12630\n"
     ]
    },
    {
     "name": "stdout",
     "output_type": "stream",
     "text": [
      "Training Step: 446  | total loss: \u001b[1m\u001b[32m4.22228\u001b[0m\u001b[0m | time: 23.829s\n\u001b[2K\r| Adam | epoch: 001 | loss: 4.22228 -- iter: 08920/12630\n"
     ]
    },
    {
     "name": "stdout",
     "output_type": "stream",
     "text": [
      "Training Step: 447  | total loss: \u001b[1m\u001b[32m4.20297\u001b[0m\u001b[0m | time: 23.883s\n\u001b[2K\r| Adam | epoch: 001 | loss: 4.20297 -- iter: 08940/12630\n"
     ]
    },
    {
     "name": "stdout",
     "output_type": "stream",
     "text": [
      "Training Step: 448  | total loss: \u001b[1m\u001b[32m4.17537\u001b[0m\u001b[0m | time: 23.933s\n\u001b[2K\r| Adam | epoch: 001 | loss: 4.17537 -- iter: 08960/12630\n"
     ]
    },
    {
     "name": "stdout",
     "output_type": "stream",
     "text": [
      "Training Step: 449  | total loss: \u001b[1m\u001b[32m4.11860\u001b[0m\u001b[0m | time: 23.992s\n\u001b[2K\r| Adam | epoch: 001 | loss: 4.11860 -- iter: 08980/12630\n"
     ]
    },
    {
     "name": "stdout",
     "output_type": "stream",
     "text": [
      "Training Step: 450  | total loss: \u001b[1m\u001b[32m4.08943\u001b[0m\u001b[0m | time: 24.042s\n\u001b[2K\r| Adam | epoch: 001 | loss: 4.08943 -- iter: 09000/12630\n"
     ]
    },
    {
     "name": "stdout",
     "output_type": "stream",
     "text": [
      "Training Step: 451  | total loss: \u001b[1m\u001b[32m4.08433\u001b[0m\u001b[0m | time: 24.099s\n\u001b[2K\r| Adam | epoch: 001 | loss: 4.08433 -- iter: 09020/12630\n"
     ]
    },
    {
     "name": "stdout",
     "output_type": "stream",
     "text": [
      "Training Step: 452  | total loss: \u001b[1m\u001b[32m4.12897\u001b[0m\u001b[0m | time: 24.156s\n\u001b[2K\r| Adam | epoch: 001 | loss: 4.12897 -- iter: 09040/12630\n"
     ]
    },
    {
     "name": "stdout",
     "output_type": "stream",
     "text": [
      "Training Step: 453  | total loss: \u001b[1m\u001b[32m4.15315\u001b[0m\u001b[0m | time: 24.211s\n\u001b[2K\r| Adam | epoch: 001 | loss: 4.15315 -- iter: 09060/12630\n"
     ]
    },
    {
     "name": "stdout",
     "output_type": "stream",
     "text": [
      "Training Step: 454  | total loss: \u001b[1m\u001b[32m4.19210\u001b[0m\u001b[0m | time: 24.262s\n\u001b[2K\r| Adam | epoch: 001 | loss: 4.19210 -- iter: 09080/12630\n"
     ]
    },
    {
     "name": "stdout",
     "output_type": "stream",
     "text": [
      "Training Step: 455  | total loss: \u001b[1m\u001b[32m4.18743\u001b[0m\u001b[0m | time: 24.311s\n\u001b[2K\r| Adam | epoch: 001 | loss: 4.18743 -- iter: 09100/12630\n"
     ]
    },
    {
     "name": "stdout",
     "output_type": "stream",
     "text": [
      "Training Step: 456  | total loss: \u001b[1m\u001b[32m4.14479\u001b[0m\u001b[0m | time: 24.364s\n\u001b[2K\r| Adam | epoch: 001 | loss: 4.14479 -- iter: 09120/12630\n"
     ]
    },
    {
     "name": "stdout",
     "output_type": "stream",
     "text": [
      "Training Step: 457  | total loss: \u001b[1m\u001b[32m4.11067\u001b[0m\u001b[0m | time: 24.417s\n\u001b[2K\r| Adam | epoch: 001 | loss: 4.11067 -- iter: 09140/12630\n"
     ]
    },
    {
     "name": "stdout",
     "output_type": "stream",
     "text": [
      "Training Step: 458  | total loss: \u001b[1m\u001b[32m4.18772\u001b[0m\u001b[0m | time: 24.473s\n\u001b[2K\r| Adam | epoch: 001 | loss: 4.18772 -- iter: 09160/12630\n"
     ]
    },
    {
     "name": "stdout",
     "output_type": "stream",
     "text": [
      "Training Step: 459  | total loss: \u001b[1m\u001b[32m4.13896\u001b[0m\u001b[0m | time: 24.528s\n\u001b[2K\r| Adam | epoch: 001 | loss: 4.13896 -- iter: 09180/12630\n"
     ]
    },
    {
     "name": "stdout",
     "output_type": "stream",
     "text": [
      "Training Step: 460  | total loss: \u001b[1m\u001b[32m4.23485\u001b[0m\u001b[0m | time: 24.587s\n\u001b[2K\r| Adam | epoch: 001 | loss: 4.23485 -- iter: 09200/12630\n"
     ]
    },
    {
     "name": "stdout",
     "output_type": "stream",
     "text": [
      "Training Step: 461  | total loss: \u001b[1m\u001b[32m4.19892\u001b[0m\u001b[0m | time: 24.645s\n\u001b[2K\r| Adam | epoch: 001 | loss: 4.19892 -- iter: 09220/12630\n"
     ]
    },
    {
     "name": "stdout",
     "output_type": "stream",
     "text": [
      "Training Step: 462  | total loss: \u001b[1m\u001b[32m4.25648\u001b[0m\u001b[0m | time: 24.699s\n\u001b[2K\r| Adam | epoch: 001 | loss: 4.25648 -- iter: 09240/12630\n"
     ]
    },
    {
     "name": "stdout",
     "output_type": "stream",
     "text": [
      "Training Step: 463  | total loss: \u001b[1m\u001b[32m4.23899\u001b[0m\u001b[0m | time: 24.752s\n\u001b[2K\r| Adam | epoch: 001 | loss: 4.23899 -- iter: 09260/12630\n"
     ]
    },
    {
     "name": "stdout",
     "output_type": "stream",
     "text": [
      "Training Step: 464  | total loss: \u001b[1m\u001b[32m4.20978\u001b[0m\u001b[0m | time: 24.811s\n\u001b[2K\r| Adam | epoch: 001 | loss: 4.20978 -- iter: 09280/12630\n"
     ]
    },
    {
     "name": "stdout",
     "output_type": "stream",
     "text": [
      "Training Step: 465  | total loss: \u001b[1m\u001b[32m4.16485\u001b[0m\u001b[0m | time: 24.868s\n\u001b[2K\r| Adam | epoch: 001 | loss: 4.16485 -- iter: 09300/12630\n"
     ]
    },
    {
     "name": "stdout",
     "output_type": "stream",
     "text": [
      "Training Step: 466  | total loss: \u001b[1m\u001b[32m4.14515\u001b[0m\u001b[0m | time: 24.921s\n\u001b[2K\r| Adam | epoch: 001 | loss: 4.14515 -- iter: 09320/12630\n"
     ]
    },
    {
     "name": "stdout",
     "output_type": "stream",
     "text": [
      "Training Step: 467  | total loss: \u001b[1m\u001b[32m4.14213\u001b[0m\u001b[0m | time: 24.971s\n\u001b[2K\r| Adam | epoch: 001 | loss: 4.14213 -- iter: 09340/12630\n"
     ]
    },
    {
     "name": "stdout",
     "output_type": "stream",
     "text": [
      "Training Step: 468  | total loss: \u001b[1m\u001b[32m4.15652\u001b[0m\u001b[0m | time: 25.028s\n\u001b[2K\r| Adam | epoch: 001 | loss: 4.15652 -- iter: 09360/12630\n"
     ]
    },
    {
     "name": "stdout",
     "output_type": "stream",
     "text": [
      "Training Step: 469  | total loss: \u001b[1m\u001b[32m4.14081\u001b[0m\u001b[0m | time: 25.079s\n\u001b[2K\r| Adam | epoch: 001 | loss: 4.14081 -- iter: 09380/12630\n"
     ]
    },
    {
     "name": "stdout",
     "output_type": "stream",
     "text": [
      "Training Step: 470  | total loss: \u001b[1m\u001b[32m4.07730\u001b[0m\u001b[0m | time: 25.133s\n\u001b[2K\r| Adam | epoch: 001 | loss: 4.07730 -- iter: 09400/12630\n"
     ]
    },
    {
     "name": "stdout",
     "output_type": "stream",
     "text": [
      "Training Step: 471  | total loss: \u001b[1m\u001b[32m4.07180\u001b[0m\u001b[0m | time: 25.192s\n\u001b[2K\r| Adam | epoch: 001 | loss: 4.07180 -- iter: 09420/12630\n"
     ]
    },
    {
     "name": "stdout",
     "output_type": "stream",
     "text": [
      "Training Step: 472  | total loss: \u001b[1m\u001b[32m4.08059\u001b[0m\u001b[0m | time: 25.249s\n\u001b[2K\r| Adam | epoch: 001 | loss: 4.08059 -- iter: 09440/12630\n"
     ]
    },
    {
     "name": "stdout",
     "output_type": "stream",
     "text": [
      "Training Step: 473  | total loss: \u001b[1m\u001b[32m3.99000\u001b[0m\u001b[0m | time: 25.301s\n\u001b[2K\r| Adam | epoch: 001 | loss: 3.99000 -- iter: 09460/12630\n"
     ]
    },
    {
     "name": "stdout",
     "output_type": "stream",
     "text": [
      "Training Step: 474  | total loss: \u001b[1m\u001b[32m4.01722\u001b[0m\u001b[0m | time: 25.356s\n\u001b[2K\r| Adam | epoch: 001 | loss: 4.01722 -- iter: 09480/12630\n"
     ]
    },
    {
     "name": "stdout",
     "output_type": "stream",
     "text": [
      "Training Step: 475  | total loss: \u001b[1m\u001b[32m4.10751\u001b[0m\u001b[0m | time: 25.409s\n\u001b[2K\r| Adam | epoch: 001 | loss: 4.10751 -- iter: 09500/12630\n"
     ]
    },
    {
     "name": "stdout",
     "output_type": "stream",
     "text": [
      "Training Step: 476  | total loss: \u001b[1m\u001b[32m4.07977\u001b[0m\u001b[0m | time: 25.458s\n\u001b[2K\r| Adam | epoch: 001 | loss: 4.07977 -- iter: 09520/12630\n"
     ]
    },
    {
     "name": "stdout",
     "output_type": "stream",
     "text": [
      "Training Step: 477  | total loss: \u001b[1m\u001b[32m4.01894\u001b[0m\u001b[0m | time: 25.508s\n\u001b[2K\r| Adam | epoch: 001 | loss: 4.01894 -- iter: 09540/12630\n"
     ]
    },
    {
     "name": "stdout",
     "output_type": "stream",
     "text": [
      "Training Step: 478  | total loss: \u001b[1m\u001b[32m4.07694\u001b[0m\u001b[0m | time: 25.572s\n\u001b[2K\r| Adam | epoch: 001 | loss: 4.07694 -- iter: 09560/12630\n"
     ]
    },
    {
     "name": "stdout",
     "output_type": "stream",
     "text": [
      "Training Step: 479  | total loss: \u001b[1m\u001b[32m4.01596\u001b[0m\u001b[0m | time: 25.625s\n\u001b[2K\r| Adam | epoch: 001 | loss: 4.01596 -- iter: 09580/12630\n"
     ]
    },
    {
     "name": "stdout",
     "output_type": "stream",
     "text": [
      "Training Step: 480  | total loss: \u001b[1m\u001b[32m4.03162\u001b[0m\u001b[0m | time: 25.681s\n\u001b[2K\r| Adam | epoch: 001 | loss: 4.03162 -- iter: 09600/12630\n"
     ]
    },
    {
     "name": "stdout",
     "output_type": "stream",
     "text": [
      "Training Step: 481  | total loss: \u001b[1m\u001b[32m4.06991\u001b[0m\u001b[0m | time: 25.735s\n\u001b[2K\r| Adam | epoch: 001 | loss: 4.06991 -- iter: 09620/12630\n"
     ]
    },
    {
     "name": "stdout",
     "output_type": "stream",
     "text": [
      "Training Step: 482  | total loss: \u001b[1m\u001b[32m4.07531\u001b[0m\u001b[0m | time: 25.784s\n\u001b[2K\r| Adam | epoch: 001 | loss: 4.07531 -- iter: 09640/12630\n"
     ]
    },
    {
     "name": "stdout",
     "output_type": "stream",
     "text": [
      "Training Step: 483  | total loss: \u001b[1m\u001b[32m4.23658\u001b[0m\u001b[0m | time: 25.837s\n\u001b[2K\r| Adam | epoch: 001 | loss: 4.23658 -- iter: 09660/12630\n"
     ]
    },
    {
     "name": "stdout",
     "output_type": "stream",
     "text": [
      "Training Step: 484  | total loss: \u001b[1m\u001b[32m4.21242\u001b[0m\u001b[0m | time: 25.896s\n\u001b[2K\r| Adam | epoch: 001 | loss: 4.21242 -- iter: 09680/12630\n"
     ]
    },
    {
     "name": "stdout",
     "output_type": "stream",
     "text": [
      "Training Step: 485  | total loss: \u001b[1m\u001b[32m4.18290\u001b[0m\u001b[0m | time: 25.950s\n\u001b[2K\r| Adam | epoch: 001 | loss: 4.18290 -- iter: 09700/12630\n"
     ]
    },
    {
     "name": "stdout",
     "output_type": "stream",
     "text": [
      "Training Step: 486  | total loss: \u001b[1m\u001b[32m4.23259\u001b[0m\u001b[0m | time: 26.004s\n\u001b[2K\r| Adam | epoch: 001 | loss: 4.23259 -- iter: 09720/12630\n"
     ]
    },
    {
     "name": "stdout",
     "output_type": "stream",
     "text": [
      "Training Step: 487  | total loss: \u001b[1m\u001b[32m4.22984\u001b[0m\u001b[0m | time: 26.059s\n\u001b[2K\r| Adam | epoch: 001 | loss: 4.22984 -- iter: 09740/12630\n"
     ]
    },
    {
     "name": "stdout",
     "output_type": "stream",
     "text": [
      "Training Step: 488  | total loss: \u001b[1m\u001b[32m4.17130\u001b[0m\u001b[0m | time: 26.114s\n\u001b[2K\r| Adam | epoch: 001 | loss: 4.17130 -- iter: 09760/12630\n"
     ]
    },
    {
     "name": "stdout",
     "output_type": "stream",
     "text": [
      "Training Step: 489  | total loss: \u001b[1m\u001b[32m4.12071\u001b[0m\u001b[0m | time: 26.169s\n\u001b[2K\r| Adam | epoch: 001 | loss: 4.12071 -- iter: 09780/12630\n"
     ]
    },
    {
     "name": "stdout",
     "output_type": "stream",
     "text": [
      "Training Step: 490  | total loss: \u001b[1m\u001b[32m4.21626\u001b[0m\u001b[0m | time: 26.224s\n\u001b[2K\r| Adam | epoch: 001 | loss: 4.21626 -- iter: 09800/12630\n"
     ]
    },
    {
     "name": "stdout",
     "output_type": "stream",
     "text": [
      "Training Step: 491  | total loss: \u001b[1m\u001b[32m4.22844\u001b[0m\u001b[0m | time: 26.280s\n\u001b[2K\r| Adam | epoch: 001 | loss: 4.22844 -- iter: 09820/12630\n"
     ]
    },
    {
     "name": "stdout",
     "output_type": "stream",
     "text": [
      "Training Step: 492  | total loss: \u001b[1m\u001b[32m4.22770\u001b[0m\u001b[0m | time: 26.335s\n\u001b[2K\r| Adam | epoch: 001 | loss: 4.22770 -- iter: 09840/12630\n"
     ]
    },
    {
     "name": "stdout",
     "output_type": "stream",
     "text": [
      "Training Step: 493  | total loss: \u001b[1m\u001b[32m4.18937\u001b[0m\u001b[0m | time: 26.395s\n\u001b[2K\r| Adam | epoch: 001 | loss: 4.18937 -- iter: 09860/12630\n"
     ]
    },
    {
     "name": "stdout",
     "output_type": "stream",
     "text": [
      "Training Step: 494  | total loss: \u001b[1m\u001b[32m4.23159\u001b[0m\u001b[0m | time: 26.446s\n\u001b[2K\r| Adam | epoch: 001 | loss: 4.23159 -- iter: 09880/12630\n"
     ]
    },
    {
     "name": "stdout",
     "output_type": "stream",
     "text": [
      "Training Step: 495  | total loss: \u001b[1m\u001b[32m4.17508\u001b[0m\u001b[0m | time: 26.503s\n\u001b[2K\r| Adam | epoch: 001 | loss: 4.17508 -- iter: 09900/12630\n"
     ]
    },
    {
     "name": "stdout",
     "output_type": "stream",
     "text": [
      "Training Step: 496  | total loss: \u001b[1m\u001b[32m4.18161\u001b[0m\u001b[0m | time: 26.560s\n\u001b[2K\r| Adam | epoch: 001 | loss: 4.18161 -- iter: 09920/12630\n"
     ]
    },
    {
     "name": "stdout",
     "output_type": "stream",
     "text": [
      "Training Step: 497  | total loss: \u001b[1m\u001b[32m4.16538\u001b[0m\u001b[0m | time: 26.613s\n\u001b[2K\r| Adam | epoch: 001 | loss: 4.16538 -- iter: 09940/12630\n"
     ]
    },
    {
     "name": "stdout",
     "output_type": "stream",
     "text": [
      "Training Step: 498  | total loss: \u001b[1m\u001b[32m4.18401\u001b[0m\u001b[0m | time: 26.667s\n\u001b[2K\r| Adam | epoch: 001 | loss: 4.18401 -- iter: 09960/12630\n"
     ]
    },
    {
     "name": "stdout",
     "output_type": "stream",
     "text": [
      "Training Step: 499  | total loss: \u001b[1m\u001b[32m4.16780\u001b[0m\u001b[0m | time: 26.721s\n\u001b[2K\r| Adam | epoch: 001 | loss: 4.16780 -- iter: 09980/12630\n"
     ]
    },
    {
     "name": "stdout",
     "output_type": "stream",
     "text": [
      "Training Step: 500  | total loss: \u001b[1m\u001b[32m4.24834\u001b[0m\u001b[0m | time: 26.771s\n\u001b[2K\r| Adam | epoch: 001 | loss: 4.24834 -- iter: 10000/12630\n"
     ]
    },
    {
     "name": "stdout",
     "output_type": "stream",
     "text": [
      "Training Step: 501  | total loss: \u001b[1m\u001b[32m4.23265\u001b[0m\u001b[0m | time: 26.831s\n\u001b[2K\r| Adam | epoch: 001 | loss: 4.23265 -- iter: 10020/12630\n"
     ]
    },
    {
     "name": "stdout",
     "output_type": "stream",
     "text": [
      "Training Step: 502  | total loss: \u001b[1m\u001b[32m4.24697\u001b[0m\u001b[0m | time: 26.887s\n\u001b[2K\r| Adam | epoch: 001 | loss: 4.24697 -- iter: 10040/12630\n"
     ]
    },
    {
     "name": "stdout",
     "output_type": "stream",
     "text": [
      "Training Step: 503  | total loss: \u001b[1m\u001b[32m4.28631\u001b[0m\u001b[0m | time: 26.939s\n\u001b[2K\r| Adam | epoch: 001 | loss: 4.28631 -- iter: 10060/12630\n"
     ]
    },
    {
     "name": "stdout",
     "output_type": "stream",
     "text": [
      "Training Step: 504  | total loss: \u001b[1m\u001b[32m4.23715\u001b[0m\u001b[0m | time: 26.995s\n\u001b[2K\r| Adam | epoch: 001 | loss: 4.23715 -- iter: 10080/12630\n"
     ]
    },
    {
     "name": "stdout",
     "output_type": "stream",
     "text": [
      "Training Step: 505  | total loss: \u001b[1m\u001b[32m4.21173\u001b[0m\u001b[0m | time: 27.053s\n\u001b[2K\r| Adam | epoch: 001 | loss: 4.21173 -- iter: 10100/12630\n"
     ]
    },
    {
     "name": "stdout",
     "output_type": "stream",
     "text": [
      "Training Step: 506  | total loss: \u001b[1m\u001b[32m4.25373\u001b[0m\u001b[0m | time: 27.101s\n\u001b[2K\r| Adam | epoch: 001 | loss: 4.25373 -- iter: 10120/12630\n"
     ]
    },
    {
     "name": "stdout",
     "output_type": "stream",
     "text": [
      "Training Step: 507  | total loss: \u001b[1m\u001b[32m4.30564\u001b[0m\u001b[0m | time: 27.155s\n\u001b[2K\r| Adam | epoch: 001 | loss: 4.30564 -- iter: 10140/12630\n"
     ]
    },
    {
     "name": "stdout",
     "output_type": "stream",
     "text": [
      "Training Step: 508  | total loss: \u001b[1m\u001b[32m4.44841\u001b[0m\u001b[0m | time: 27.210s\n\u001b[2K\r| Adam | epoch: 001 | loss: 4.44841 -- iter: 10160/12630\n"
     ]
    },
    {
     "name": "stdout",
     "output_type": "stream",
     "text": [
      "Training Step: 509  | total loss: \u001b[1m\u001b[32m4.45494\u001b[0m\u001b[0m | time: 27.262s\n\u001b[2K\r| Adam | epoch: 001 | loss: 4.45494 -- iter: 10180/12630\n"
     ]
    },
    {
     "name": "stdout",
     "output_type": "stream",
     "text": [
      "Training Step: 510  | total loss: \u001b[1m\u001b[32m4.39186\u001b[0m\u001b[0m | time: 27.312s\n\u001b[2K\r| Adam | epoch: 001 | loss: 4.39186 -- iter: 10200/12630\n"
     ]
    },
    {
     "name": "stdout",
     "output_type": "stream",
     "text": [
      "Training Step: 511  | total loss: \u001b[1m\u001b[32m4.36478\u001b[0m\u001b[0m | time: 27.361s\n\u001b[2K\r| Adam | epoch: 001 | loss: 4.36478 -- iter: 10220/12630\n"
     ]
    },
    {
     "name": "stdout",
     "output_type": "stream",
     "text": [
      "Training Step: 512  | total loss: \u001b[1m\u001b[32m4.30127\u001b[0m\u001b[0m | time: 27.411s\n\u001b[2K\r| Adam | epoch: 001 | loss: 4.30127 -- iter: 10240/12630\n"
     ]
    },
    {
     "name": "stdout",
     "output_type": "stream",
     "text": [
      "Training Step: 513  | total loss: \u001b[1m\u001b[32m4.21559\u001b[0m\u001b[0m | time: 27.460s\n\u001b[2K\r| Adam | epoch: 001 | loss: 4.21559 -- iter: 10260/12630\n"
     ]
    },
    {
     "name": "stdout",
     "output_type": "stream",
     "text": [
      "Training Step: 514  | total loss: \u001b[1m\u001b[32m4.21735\u001b[0m\u001b[0m | time: 27.513s\n\u001b[2K\r| Adam | epoch: 001 | loss: 4.21735 -- iter: 10280/12630\n"
     ]
    },
    {
     "ename": "KeyboardInterrupt",
     "evalue": "",
     "traceback": [
      "\u001b[0;31m---------------------------------------------------------------------------\u001b[0m",
      "\u001b[0;31mKeyboardInterrupt\u001b[0m                         Traceback (most recent call last)",
      "\u001b[0;32m<ipython-input-7-01ef838812fa>\u001b[0m in \u001b[0;36m<module>\u001b[0;34m()\u001b[0m\n\u001b[1;32m     31\u001b[0m \u001b[0;31m#           snapshot_step=100, show_metric=True, run_id='convnet_trafficSign')\u001b[0m\u001b[0;34m\u001b[0m\u001b[0;34m\u001b[0m\u001b[0m\n\u001b[1;32m     32\u001b[0m \u001b[0my_train\u001b[0m \u001b[0;34m=\u001b[0m \u001b[0mtf\u001b[0m\u001b[0;34m.\u001b[0m\u001b[0mcast\u001b[0m\u001b[0;34m(\u001b[0m\u001b[0my_train\u001b[0m\u001b[0;34m,\u001b[0m \u001b[0mdtype\u001b[0m\u001b[0;34m=\u001b[0m\u001b[0mtf\u001b[0m\u001b[0;34m.\u001b[0m\u001b[0mint64\u001b[0m\u001b[0;34m)\u001b[0m\u001b[0;34m\u001b[0m\u001b[0m\n\u001b[0;32m---> 33\u001b[0;31m \u001b[0mmodel\u001b[0m\u001b[0;34m.\u001b[0m\u001b[0mfit\u001b[0m\u001b[0;34m(\u001b[0m\u001b[0mX_test\u001b[0m\u001b[0;34m,\u001b[0m \u001b[0;34m{\u001b[0m\u001b[0;34m'target'\u001b[0m\u001b[0;34m:\u001b[0m \u001b[0my_test\u001b[0m\u001b[0;34m}\u001b[0m\u001b[0;34m,\u001b[0m \u001b[0mbatch_size\u001b[0m\u001b[0;34m=\u001b[0m\u001b[0;36m20\u001b[0m\u001b[0;34m)\u001b[0m\u001b[0;34m\u001b[0m\u001b[0m\n\u001b[0m",
      "\u001b[0;32m/usr/local/lib/python3.6/site-packages/tflearn/models/dnn.py\u001b[0m in \u001b[0;36mfit\u001b[0;34m(self, X_inputs, Y_targets, n_epoch, validation_set, show_metric, batch_size, shuffle, snapshot_epoch, snapshot_step, excl_trainops, validation_batch_size, run_id, callbacks)\u001b[0m\n\u001b[1;32m    214\u001b[0m                          \u001b[0mexcl_trainops\u001b[0m\u001b[0;34m=\u001b[0m\u001b[0mexcl_trainops\u001b[0m\u001b[0;34m,\u001b[0m\u001b[0;34m\u001b[0m\u001b[0m\n\u001b[1;32m    215\u001b[0m                          \u001b[0mrun_id\u001b[0m\u001b[0;34m=\u001b[0m\u001b[0mrun_id\u001b[0m\u001b[0;34m,\u001b[0m\u001b[0;34m\u001b[0m\u001b[0m\n\u001b[0;32m--> 216\u001b[0;31m                          callbacks=callbacks)\n\u001b[0m\u001b[1;32m    217\u001b[0m \u001b[0;34m\u001b[0m\u001b[0m\n\u001b[1;32m    218\u001b[0m     \u001b[0;32mdef\u001b[0m \u001b[0mfit_batch\u001b[0m\u001b[0;34m(\u001b[0m\u001b[0mself\u001b[0m\u001b[0;34m,\u001b[0m \u001b[0mX_inputs\u001b[0m\u001b[0;34m,\u001b[0m \u001b[0mY_targets\u001b[0m\u001b[0;34m)\u001b[0m\u001b[0;34m:\u001b[0m\u001b[0;34m\u001b[0m\u001b[0m\n",
      "\u001b[0;32m/usr/local/lib/python3.6/site-packages/tflearn/helpers/trainer.py\u001b[0m in \u001b[0;36mfit\u001b[0;34m(self, feed_dicts, n_epoch, val_feed_dicts, show_metric, snapshot_step, snapshot_epoch, shuffle_all, dprep_dict, daug_dict, excl_trainops, run_id, callbacks)\u001b[0m\n\u001b[1;32m    337\u001b[0m                                                        \u001b[0;34m(\u001b[0m\u001b[0mbool\u001b[0m\u001b[0;34m(\u001b[0m\u001b[0mself\u001b[0m\u001b[0;34m.\u001b[0m\u001b[0mbest_checkpoint_path\u001b[0m\u001b[0;34m)\u001b[0m \u001b[0;34m|\u001b[0m \u001b[0msnapshot_epoch\u001b[0m\u001b[0;34m)\u001b[0m\u001b[0;34m,\u001b[0m\u001b[0;34m\u001b[0m\u001b[0m\n\u001b[1;32m    338\u001b[0m                                                        \u001b[0msnapshot_step\u001b[0m\u001b[0;34m,\u001b[0m\u001b[0;34m\u001b[0m\u001b[0m\n\u001b[0;32m--> 339\u001b[0;31m                                                        show_metric)\n\u001b[0m\u001b[1;32m    340\u001b[0m \u001b[0;34m\u001b[0m\u001b[0m\n\u001b[1;32m    341\u001b[0m                             \u001b[0;31m# Update training state\u001b[0m\u001b[0;34m\u001b[0m\u001b[0;34m\u001b[0m\u001b[0m\n",
      "\u001b[0;32m/usr/local/lib/python3.6/site-packages/tflearn/helpers/trainer.py\u001b[0m in \u001b[0;36m_train\u001b[0;34m(self, training_step, snapshot_epoch, snapshot_step, show_metric)\u001b[0m\n\u001b[1;32m    816\u001b[0m         \u001b[0mtflearn\u001b[0m\u001b[0;34m.\u001b[0m\u001b[0mis_training\u001b[0m\u001b[0;34m(\u001b[0m\u001b[0;32mTrue\u001b[0m\u001b[0;34m,\u001b[0m \u001b[0msession\u001b[0m\u001b[0;34m=\u001b[0m\u001b[0mself\u001b[0m\u001b[0;34m.\u001b[0m\u001b[0msession\u001b[0m\u001b[0;34m)\u001b[0m\u001b[0;34m\u001b[0m\u001b[0m\n\u001b[1;32m    817\u001b[0m         _, train_summ_str = self.session.run([self.train, self.summ_op],\n\u001b[0;32m--> 818\u001b[0;31m                                              feed_batch)\n\u001b[0m\u001b[1;32m    819\u001b[0m \u001b[0;34m\u001b[0m\u001b[0m\n\u001b[1;32m    820\u001b[0m         \u001b[0;31m# Retrieve loss value from summary string\u001b[0m\u001b[0;34m\u001b[0m\u001b[0;34m\u001b[0m\u001b[0m\n",
      "\u001b[0;32m/usr/local/lib/python3.6/site-packages/tensorflow/python/client/session.py\u001b[0m in \u001b[0;36mrun\u001b[0;34m(self, fetches, feed_dict, options, run_metadata)\u001b[0m\n\u001b[1;32m    787\u001b[0m     \u001b[0;32mtry\u001b[0m\u001b[0;34m:\u001b[0m\u001b[0;34m\u001b[0m\u001b[0m\n\u001b[1;32m    788\u001b[0m       result = self._run(None, fetches, feed_dict, options_ptr,\n\u001b[0;32m--> 789\u001b[0;31m                          run_metadata_ptr)\n\u001b[0m\u001b[1;32m    790\u001b[0m       \u001b[0;32mif\u001b[0m \u001b[0mrun_metadata\u001b[0m\u001b[0;34m:\u001b[0m\u001b[0;34m\u001b[0m\u001b[0m\n\u001b[1;32m    791\u001b[0m         \u001b[0mproto_data\u001b[0m \u001b[0;34m=\u001b[0m \u001b[0mtf_session\u001b[0m\u001b[0;34m.\u001b[0m\u001b[0mTF_GetBuffer\u001b[0m\u001b[0;34m(\u001b[0m\u001b[0mrun_metadata_ptr\u001b[0m\u001b[0;34m)\u001b[0m\u001b[0;34m\u001b[0m\u001b[0m\n",
      "\u001b[0;32m/usr/local/lib/python3.6/site-packages/tensorflow/python/client/session.py\u001b[0m in \u001b[0;36m_run\u001b[0;34m(self, handle, fetches, feed_dict, options, run_metadata)\u001b[0m\n\u001b[1;32m    995\u001b[0m     \u001b[0;32mif\u001b[0m \u001b[0mfinal_fetches\u001b[0m \u001b[0;32mor\u001b[0m \u001b[0mfinal_targets\u001b[0m\u001b[0;34m:\u001b[0m\u001b[0;34m\u001b[0m\u001b[0m\n\u001b[1;32m    996\u001b[0m       results = self._do_run(handle, final_targets, final_fetches,\n\u001b[0;32m--> 997\u001b[0;31m                              feed_dict_string, options, run_metadata)\n\u001b[0m\u001b[1;32m    998\u001b[0m     \u001b[0;32melse\u001b[0m\u001b[0;34m:\u001b[0m\u001b[0;34m\u001b[0m\u001b[0m\n\u001b[1;32m    999\u001b[0m       \u001b[0mresults\u001b[0m \u001b[0;34m=\u001b[0m \u001b[0;34m[\u001b[0m\u001b[0;34m]\u001b[0m\u001b[0;34m\u001b[0m\u001b[0m\n",
      "\u001b[0;32m/usr/local/lib/python3.6/site-packages/tensorflow/python/client/session.py\u001b[0m in \u001b[0;36m_do_run\u001b[0;34m(self, handle, target_list, fetch_list, feed_dict, options, run_metadata)\u001b[0m\n\u001b[1;32m   1130\u001b[0m     \u001b[0;32mif\u001b[0m \u001b[0mhandle\u001b[0m \u001b[0;32mis\u001b[0m \u001b[0;32mNone\u001b[0m\u001b[0;34m:\u001b[0m\u001b[0;34m\u001b[0m\u001b[0m\n\u001b[1;32m   1131\u001b[0m       return self._do_call(_run_fn, self._session, feed_dict, fetch_list,\n\u001b[0;32m-> 1132\u001b[0;31m                            target_list, options, run_metadata)\n\u001b[0m\u001b[1;32m   1133\u001b[0m     \u001b[0;32melse\u001b[0m\u001b[0;34m:\u001b[0m\u001b[0;34m\u001b[0m\u001b[0m\n\u001b[1;32m   1134\u001b[0m       return self._do_call(_prun_fn, self._session, handle, feed_dict,\n",
      "\u001b[0;32m/usr/local/lib/python3.6/site-packages/tensorflow/python/client/session.py\u001b[0m in \u001b[0;36m_do_call\u001b[0;34m(self, fn, *args)\u001b[0m\n\u001b[1;32m   1137\u001b[0m   \u001b[0;32mdef\u001b[0m \u001b[0m_do_call\u001b[0m\u001b[0;34m(\u001b[0m\u001b[0mself\u001b[0m\u001b[0;34m,\u001b[0m \u001b[0mfn\u001b[0m\u001b[0;34m,\u001b[0m \u001b[0;34m*\u001b[0m\u001b[0margs\u001b[0m\u001b[0;34m)\u001b[0m\u001b[0;34m:\u001b[0m\u001b[0;34m\u001b[0m\u001b[0m\n\u001b[1;32m   1138\u001b[0m     \u001b[0;32mtry\u001b[0m\u001b[0;34m:\u001b[0m\u001b[0;34m\u001b[0m\u001b[0m\n\u001b[0;32m-> 1139\u001b[0;31m       \u001b[0;32mreturn\u001b[0m \u001b[0mfn\u001b[0m\u001b[0;34m(\u001b[0m\u001b[0;34m*\u001b[0m\u001b[0margs\u001b[0m\u001b[0;34m)\u001b[0m\u001b[0;34m\u001b[0m\u001b[0m\n\u001b[0m\u001b[1;32m   1140\u001b[0m     \u001b[0;32mexcept\u001b[0m \u001b[0merrors\u001b[0m\u001b[0;34m.\u001b[0m\u001b[0mOpError\u001b[0m \u001b[0;32mas\u001b[0m \u001b[0me\u001b[0m\u001b[0;34m:\u001b[0m\u001b[0;34m\u001b[0m\u001b[0m\n\u001b[1;32m   1141\u001b[0m       \u001b[0mmessage\u001b[0m \u001b[0;34m=\u001b[0m \u001b[0mcompat\u001b[0m\u001b[0;34m.\u001b[0m\u001b[0mas_text\u001b[0m\u001b[0;34m(\u001b[0m\u001b[0me\u001b[0m\u001b[0;34m.\u001b[0m\u001b[0mmessage\u001b[0m\u001b[0;34m)\u001b[0m\u001b[0;34m\u001b[0m\u001b[0m\n",
      "\u001b[0;32m/usr/local/lib/python3.6/site-packages/tensorflow/python/client/session.py\u001b[0m in \u001b[0;36m_run_fn\u001b[0;34m(session, feed_dict, fetch_list, target_list, options, run_metadata)\u001b[0m\n\u001b[1;32m   1119\u001b[0m         return tf_session.TF_Run(session, options,\n\u001b[1;32m   1120\u001b[0m                                  \u001b[0mfeed_dict\u001b[0m\u001b[0;34m,\u001b[0m \u001b[0mfetch_list\u001b[0m\u001b[0;34m,\u001b[0m \u001b[0mtarget_list\u001b[0m\u001b[0;34m,\u001b[0m\u001b[0;34m\u001b[0m\u001b[0m\n\u001b[0;32m-> 1121\u001b[0;31m                                  status, run_metadata)\n\u001b[0m\u001b[1;32m   1122\u001b[0m \u001b[0;34m\u001b[0m\u001b[0m\n\u001b[1;32m   1123\u001b[0m     \u001b[0;32mdef\u001b[0m \u001b[0m_prun_fn\u001b[0m\u001b[0;34m(\u001b[0m\u001b[0msession\u001b[0m\u001b[0;34m,\u001b[0m \u001b[0mhandle\u001b[0m\u001b[0;34m,\u001b[0m \u001b[0mfeed_dict\u001b[0m\u001b[0;34m,\u001b[0m \u001b[0mfetch_list\u001b[0m\u001b[0;34m)\u001b[0m\u001b[0;34m:\u001b[0m\u001b[0;34m\u001b[0m\u001b[0m\n",
      "\u001b[0;31mKeyboardInterrupt\u001b[0m: "
     ],
     "output_type": "error"
    }
   ],
   "source": [
    "import tflearn\n",
    "from tflearn.layers.core import input_data, dropout, fully_connected\n",
    "from tflearn.layers.conv import conv_2d, max_pool_2d\n",
    "from tflearn.layers.normalization import local_response_normalization\n",
    "from tflearn.layers.estimator import regression\n",
    "import tensorflow as tf\n",
    "# Building convolutional network\n",
    "network = input_data(shape=[None, 32, 32, 3], name='input')\n",
    "network = conv_2d(network, 32, 3, activation='relu', regularizer=\"L2\")\n",
    "\n",
    "network = max_pool_2d(network, 2)\n",
    "network = local_response_normalization(network)\n",
    "\n",
    "network = conv_2d(network, 64, 3, activation='relu', regularizer=\"L2\")\n",
    "network = max_pool_2d(network, 2)\n",
    "\n",
    "network = local_response_normalization(network)\n",
    "network = fully_connected(network, 128, activation='tanh')\n",
    "\n",
    "network = dropout(network, 0.8)\n",
    "network = fully_connected(network, 256, activation='tanh')\n",
    "\n",
    "# network = dropout(network, 0.5)\n",
    "network = fully_connected(network, 43, activation='softmax')\n",
    "network = regression(network, optimizer='adam', learning_rate=0.01,\n",
    "                     loss='categorical_crossentropy', name='target')\n",
    "# Training\n",
    "model = tflearn.DNN(network, tensorboard_verbose=0)\n",
    "# model.fit({'input': X_test}, {'target': y_test}, n_epoch=20,\n",
    "#           validation_set=({'input': X_valid}, {'target': y_valid}),\n",
    "#           snapshot_step=100, show_metric=True, run_id='convnet_trafficSign')\n",
    "y_train = tf.cast(y_train, dtype=tf.int64)\n",
    "model.fit(X_test, {'target': y_test}, batch_size=20)\n"
   ]
  },
  {
   "cell_type": "markdown",
   "metadata": {},
   "source": [
    "A validation set can be used to assess how well the model is performing. A low accuracy on the training and validation\n",
    "sets imply underfitting. A high accuracy on the training set but low accuracy on the validation set implies overfitting."
   ]
  },
  {
   "cell_type": "code",
   "execution_count": 1,
   "metadata": {
    "collapsed": true
   },
   "outputs": [],
   "source": [
    "### Train your model here.\n",
    "### Calculate and report the accuracy on the training and validation set.\n",
    "### Once a final model architecture is selected, \n",
    "### the accuracy on the test set should be calculated and reported as well.\n",
    "### Feel free to use as many code cells as needed."
   ]
  },
  {
   "cell_type": "markdown",
   "metadata": {},
   "source": [
    "---\n",
    "\n",
    "## Step 3: Test a Model on New Images\n",
    "\n",
    "To give yourself more insight into how your model is working, download at least five pictures of German traffic signs from the web and use your model to predict the traffic sign type.\n",
    "\n",
    "You may find `signnames.csv` useful as it contains mappings from the class id (integer) to the actual sign name."
   ]
  },
  {
   "cell_type": "markdown",
   "metadata": {},
   "source": [
    "### Load and Output the Images"
   ]
  },
  {
   "cell_type": "code",
   "execution_count": null,
   "metadata": {
    "collapsed": true
   },
   "outputs": [],
   "source": [
    "### Load the images and plot them here.\n",
    "### Feel free to use as many code cells as needed."
   ]
  },
  {
   "cell_type": "markdown",
   "metadata": {},
   "source": [
    "### Predict the Sign Type for Each Image"
   ]
  },
  {
   "cell_type": "code",
   "execution_count": 3,
   "metadata": {
    "collapsed": true
   },
   "outputs": [],
   "source": [
    "### Run the predictions here and use the model to output the prediction for each image.\n",
    "### Make sure to pre-process the images with the same pre-processing pipeline used earlier.\n",
    "### Feel free to use as many code cells as needed."
   ]
  },
  {
   "cell_type": "markdown",
   "metadata": {},
   "source": [
    "### Analyze Performance"
   ]
  },
  {
   "cell_type": "code",
   "execution_count": 4,
   "metadata": {
    "collapsed": true
   },
   "outputs": [],
   "source": [
    "### Calculate the accuracy for these 5 new images. \n",
    "### For example, if the model predicted 1 out of 5 signs correctly, it's 20% accurate on these new images."
   ]
  },
  {
   "cell_type": "markdown",
   "metadata": {},
   "source": [
    "### Output Top 5 Softmax Probabilities For Each Image Found on the Web"
   ]
  },
  {
   "cell_type": "markdown",
   "metadata": {},
   "source": [
    "For each of the new images, print out the model's softmax probabilities to show the **certainty** of the model's predictions (limit the output to the top 5 probabilities for each image). [`tf.nn.top_k`](https://www.tensorflow.org/versions/r0.12/api_docs/python/nn.html#top_k) could prove helpful here. \n",
    "\n",
    "The example below demonstrates how tf.nn.top_k can be used to find the top k predictions for each image.\n",
    "\n",
    "`tf.nn.top_k` will return the values and indices (class ids) of the top k predictions. So if k=3, for each sign, it'll return the 3 largest probabilities (out of a possible 43) and the correspoding class ids.\n",
    "\n",
    "Take this numpy array as an example. The values in the array represent predictions. The array contains softmax probabilities for five candidate images with six possible classes. `tf.nn.top_k` is used to choose the three classes with the highest probability:\n",
    "\n",
    "```\n",
    "# (5, 6) array\n",
    "a = np.array([[ 0.24879643,  0.07032244,  0.12641572,  0.34763842,  0.07893497,\n",
    "         0.12789202],\n",
    "       [ 0.28086119,  0.27569815,  0.08594638,  0.0178669 ,  0.18063401,\n",
    "         0.15899337],\n",
    "       [ 0.26076848,  0.23664738,  0.08020603,  0.07001922,  0.1134371 ,\n",
    "         0.23892179],\n",
    "       [ 0.11943333,  0.29198961,  0.02605103,  0.26234032,  0.1351348 ,\n",
    "         0.16505091],\n",
    "       [ 0.09561176,  0.34396535,  0.0643941 ,  0.16240774,  0.24206137,\n",
    "         0.09155967]])\n",
    "```\n",
    "\n",
    "Running it through `sess.run(tf.nn.top_k(tf.constant(a), k=3))` produces:\n",
    "\n",
    "```\n",
    "TopKV2(values=array([[ 0.34763842,  0.24879643,  0.12789202],\n",
    "       [ 0.28086119,  0.27569815,  0.18063401],\n",
    "       [ 0.26076848,  0.23892179,  0.23664738],\n",
    "       [ 0.29198961,  0.26234032,  0.16505091],\n",
    "       [ 0.34396535,  0.24206137,  0.16240774]]), indices=array([[3, 0, 5],\n",
    "       [0, 1, 4],\n",
    "       [0, 5, 1],\n",
    "       [1, 3, 5],\n",
    "       [1, 4, 3]], dtype=int32))\n",
    "```\n",
    "\n",
    "Looking just at the first row we get `[ 0.34763842,  0.24879643,  0.12789202]`, you can confirm these are the 3 largest probabilities in `a`. You'll also notice `[3, 0, 5]` are the corresponding indices."
   ]
  },
  {
   "cell_type": "code",
   "execution_count": 3,
   "metadata": {
    "collapsed": true
   },
   "outputs": [],
   "source": [
    "### Print out the top five softmax probabilities for the predictions on the German traffic sign images found on the web. \n",
    "### Feel free to use as many code cells as needed."
   ]
  },
  {
   "cell_type": "markdown",
   "metadata": {},
   "source": [
    "### Project Writeup\n",
    "\n",
    "Once you have completed the code implementation, document your results in a project writeup using this [template](https://github.com/udacity/CarND-Traffic-Sign-Classifier-Project/blob/master/writeup_template.md) as a guide. The writeup can be in a markdown or pdf file. "
   ]
  },
  {
   "cell_type": "markdown",
   "metadata": {},
   "source": [
    "> **Note**: Once you have completed all of the code implementations and successfully answered each question above, you may finalize your work by exporting the iPython Notebook as an HTML document. You can do this by using the menu above and navigating to  \\n\",\n",
    "    \"**File -> Download as -> HTML (.html)**. Include the finished document along with this notebook as your submission."
   ]
  },
  {
   "cell_type": "markdown",
   "metadata": {},
   "source": [
    "---\n",
    "\n",
    "## Step 4 (Optional): Visualize the Neural Network's State with Test Images\n",
    "\n",
    " This Section is not required to complete but acts as an additional excersise for understaning the output of a neural network's weights. While neural networks can be a great learning device they are often referred to as a black box. We can understand what the weights of a neural network look like better by plotting their feature maps. After successfully training your neural network you can see what it's feature maps look like by plotting the output of the network's weight layers in response to a test stimuli image. From these plotted feature maps, it's possible to see what characteristics of an image the network finds interesting. For a sign, maybe the inner network feature maps react with high activation to the sign's boundary outline or to the contrast in the sign's painted symbol.\n",
    "\n",
    " Provided for you below is the function code that allows you to get the visualization output of any tensorflow weight layer you want. The inputs to the function should be a stimuli image, one used during training or a new one you provided, and then the tensorflow variable name that represents the layer's state during the training process, for instance if you wanted to see what the [LeNet lab's](https://classroom.udacity.com/nanodegrees/nd013/parts/fbf77062-5703-404e-b60c-95b78b2f3f9e/modules/6df7ae49-c61c-4bb2-a23e-6527e69209ec/lessons/601ae704-1035-4287-8b11-e2c2716217ad/concepts/d4aca031-508f-4e0b-b493-e7b706120f81) feature maps looked like for it's second convolutional layer you could enter conv2 as the tf_activation variable.\n",
    "\n",
    "For an example of what feature map outputs look like, check out NVIDIA's results in their paper [End-to-End Deep Learning for Self-Driving Cars](https://devblogs.nvidia.com/parallelforall/deep-learning-self-driving-cars/) in the section Visualization of internal CNN State. NVIDIA was able to show that their network's inner weights had high activations to road boundary lines by comparing feature maps from an image with a clear path to one without. Try experimenting with a similar test to show that your trained network's weights are looking for interesting features, whether it's looking at differences in feature maps from images with or without a sign, or even what feature maps look like in a trained network vs a completely untrained one on the same sign image.\n",
    "\n",
    "<figure>\n",
    " <img src=\"visualize_cnn.png\" width=\"380\" alt=\"Combined Image\" />\n",
    " <figcaption>\n",
    " <p></p> \n",
    " <p style=\"text-align: center;\"> Your output should look something like this (above)</p> \n",
    " </figcaption>\n",
    "</figure>\n",
    " <p></p> \n"
   ]
  },
  {
   "cell_type": "code",
   "execution_count": null,
   "metadata": {
    "collapsed": true
   },
   "outputs": [],
   "source": [
    "### Visualize your network's feature maps here.\n",
    "### Feel free to use as many code cells as needed.\n",
    "\n",
    "# image_input: the test image being fed into the network to produce the feature maps\n",
    "# tf_activation: should be a tf variable name used during your training procedure that represents the calculated state of a specific weight layer\n",
    "# activation_min/max: can be used to view the activation contrast in more detail, by default matplot sets min and max to the actual min and max values of the output\n",
    "# plt_num: used to plot out multiple different weight feature map sets on the same block, just extend the plt number for each new feature map entry\n",
    "\n",
    "def outputFeatureMap(image_input, tf_activation, activation_min=-1, activation_max=-1 ,plt_num=1):\n",
    "    # Here make sure to preprocess your image_input in a way your network expects\n",
    "    # with size, normalization, ect if needed\n",
    "    # image_input =\n",
    "    # Note: x should be the same name as your network's tensorflow data placeholder variable\n",
    "    # If you get an error tf_activation is not defined it may be having trouble accessing the variable from inside a function\n",
    "    activation = tf_activation.eval(session=sess,feed_dict={x : image_input})\n",
    "    featuremaps = activation.shape[3]\n",
    "    plt.figure(plt_num, figsize=(15,15))\n",
    "    for featuremap in range(featuremaps):\n",
    "        plt.subplot(6,8, featuremap+1) # sets the number of feature maps to show on each row and column\n",
    "        plt.title('FeatureMap ' + str(featuremap)) # displays the feature map number\n",
    "        if activation_min != -1 & activation_max != -1:\n",
    "            plt.imshow(activation[0,:,:, featuremap], interpolation=\"nearest\", vmin =activation_min, vmax=activation_max, cmap=\"gray\")\n",
    "        elif activation_max != -1:\n",
    "            plt.imshow(activation[0,:,:, featuremap], interpolation=\"nearest\", vmax=activation_max, cmap=\"gray\")\n",
    "        elif activation_min !=-1:\n",
    "            plt.imshow(activation[0,:,:, featuremap], interpolation=\"nearest\", vmin=activation_min, cmap=\"gray\")\n",
    "        else:\n",
    "            plt.imshow(activation[0,:,:, featuremap], interpolation=\"nearest\", cmap=\"gray\")"
   ]
  }
 ],
 "metadata": {
  "anaconda-cloud": {},
  "kernelspec": {
   "display_name": "Python 3",
   "language": "python",
   "name": "python3"
  },
  "language_info": {
   "codemirror_mode": {
    "name": "ipython",
    "version": 3
   },
   "file_extension": ".py",
   "mimetype": "text/x-python",
   "name": "python",
   "nbconvert_exporter": "python",
   "pygments_lexer": "ipython3",
   "version": "3.6.2"
  }
 },
 "nbformat": 4,
 "nbformat_minor": 1
}
